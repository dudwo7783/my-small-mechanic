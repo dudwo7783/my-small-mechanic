{
 "cells": [
  {
   "cell_type": "markdown",
   "metadata": {},
   "source": [
    "Document를 보고 질문에 대한 정답 document 인덱스를 만들어야 함."
   ]
  },
  {
   "cell_type": "code",
   "execution_count": 2,
   "metadata": {},
   "outputs": [],
   "source": [
    "import pandas as pd"
   ]
  },
  {
   "cell_type": "code",
   "execution_count": 3,
   "metadata": {},
   "outputs": [],
   "source": [
    "# 임베딩 모델이름\n",
    "company = 'OPENAI'\n",
    "embedding_models = 'text-embedding-3-large'\n",
    "header_include = True\n",
    "table_include = True\n",
    "split_yn = False\n",
    "documnet_name = \"2024 IONIQ5\""
   ]
  },
  {
   "cell_type": "code",
   "execution_count": 7,
   "metadata": {},
   "outputs": [],
   "source": [
    "exp_name = f\"{company}_{embedding_models}_h{header_include}_t{table_include}_s{split_yn}\"\n",
    "exp_dir = '../experiment/result/' + exp_name\n",
    "\n",
    "embedding_result_path = exp_dir + '/embeddings.parquet'\n",
    "df = pd.read_parquet(embedding_result_path)"
   ]
  },
  {
   "cell_type": "code",
   "execution_count": null,
   "metadata": {},
   "outputs": [],
   "source": []
  }
 ],
 "metadata": {
  "kernelspec": {
   "display_name": "myMechanic",
   "language": "python",
   "name": "mymechanic"
  },
  "language_info": {
   "codemirror_mode": {
    "name": "ipython",
    "version": 3
   },
   "file_extension": ".py",
   "mimetype": "text/x-python",
   "name": "python",
   "nbconvert_exporter": "python",
   "pygments_lexer": "ipython3",
   "version": "3.8.13"
  }
 },
 "nbformat": 4,
 "nbformat_minor": 2
}
