{
 "cells": [
  {
   "cell_type": "code",
   "execution_count": 11,
   "metadata": {},
   "outputs": [],
   "source": [
    "import os\n",
    "import openai\n",
    "import numpy as np\n",
    "import pandas as pd\n",
    "from tqdm import tqdm\n",
    "from openai import OpenAI\n",
    "from pymilvus import Collection, CollectionSchema, FieldSchema, DataType, connections\n",
    "from pymilvus import connections, utility\n",
    "from langchain_openai import OpenAIEmbeddings\n",
    "from langchain import text_splitter \n",
    "from langchain_community.vectorstores import Milvus\n",
    "from langchain_community.retrievers.milvus import MilvusRetriever\n",
    "from langchain.text_splitter import RecursiveCharacterTextSplitter\n",
    "\n",
    "from transformers import AutoTokenizer, AutoModel"
   ]
  },
  {
   "cell_type": "markdown",
   "metadata": {},
   "source": [
    "# 실험환경"
   ]
  },
  {
   "cell_type": "code",
   "execution_count": 2,
   "metadata": {},
   "outputs": [],
   "source": [
    "# 임베딩 모델이름\n",
    "company = 'OPENAI'\n",
    "embedding_models = 'text-embedding-3-large'\n",
    "header_include = True\n",
    "table_include = True\n",
    "split_yn = False\n",
    "documnet_name = \"2024 IONIQ5\""
   ]
  },
  {
   "cell_type": "code",
   "execution_count": 3,
   "metadata": {},
   "outputs": [],
   "source": [
    "exp_name = f\"{company}_{embedding_models}_h{header_include}_t{table_include}_s{split_yn}\"\n",
    "exp_dir = '../result/' + exp_name\n",
    "\n",
    "os.makedirs(exp_dir, exist_ok=True)"
   ]
  },
  {
   "cell_type": "code",
   "execution_count": 4,
   "metadata": {},
   "outputs": [],
   "source": [
    "DOC_DATA_DIR = '../../../pdf_parsing/parse_result/'\n",
    "DOC_DATA_PATH =  DOC_DATA_DIR + 'doc_ioniq5_result.parquet'\n",
    "OPENAI_API_KEY = os.environ['OPENAI_API_KEY']\n",
    "\n",
    "tqdm.pandas()"
   ]
  },
  {
   "cell_type": "code",
   "execution_count": 6,
   "metadata": {},
   "outputs": [],
   "source": [
    "df = pd.read_parquet(DOC_DATA_PATH)"
   ]
  },
  {
   "cell_type": "markdown",
   "metadata": {},
   "source": [
    "## 문장 길이"
   ]
  },
  {
   "cell_type": "code",
   "execution_count": 11,
   "metadata": {},
   "outputs": [
    {
     "data": {
      "text/plain": [
       "<Axes: ylabel='Frequency'>"
      ]
     },
     "execution_count": 11,
     "metadata": {},
     "output_type": "execute_result"
    },
    {
     "data": {
      "image/png": "[encoded data removed]",
      "text/plain": [
       "<Figure size 640x480 with 1 Axes>"
      ]
     },
     "metadata": {},
     "output_type": "display_data"
    }
   ],
   "source": [
    "df['doc_table_contents'].apply(lambda x: len(x)).plot.hist(bins=100)"
   ]
  },
  {
   "cell_type": "markdown",
   "metadata": {},
   "source": [
    "# Embedding"
   ]
  },
  {
   "cell_type": "code",
   "execution_count": 7,
   "metadata": {},
   "outputs": [],
   "source": [
    "client = OpenAI(api_key=OPENAI_API_KEY)"
   ]
  },
  {
   "cell_type": "code",
   "execution_count": 13,
   "metadata": {},
   "outputs": [],
   "source": [
    "global tokens\n",
    "\n",
    "tokens=0\n",
    "\n",
    "\n",
    "def get_embedding(text):\n",
    "    response = client.embeddings.create(\n",
    "        model=\"text-embedding-3-large\",\n",
    "        input=text\n",
    "    )\n",
    "    global tokens\n",
    "    tokens = tokens + response.usage.total_tokens\n",
    "    # print(index)\n",
    "    return response.data[0].embedding"
   ]
  },
  {
   "cell_type": "code",
   "execution_count": 9,
   "metadata": {},
   "outputs": [],
   "source": [
    "df['doc_table_contents'] = \\\n",
    "    \"설명서 대제목:\" + df['h1'] + '\\n' + \\\n",
    "    \"설명서 중제목:\" + df['h2'].fillna('') + '\\n' +\\\n",
    "    \"설명서 소제목:\" + df['h3'].fillna('') + '\\n' + \\\n",
    "    df['doc_table_contents']"
   ]
  },
  {
   "cell_type": "code",
   "execution_count": 28,
   "metadata": {},
   "outputs": [
    {
     "name": "stderr",
     "output_type": "stream",
     "text": [
      "100%|██████████| 1089/1089 [08:49<00:00,  2.06it/s]\n"
     ]
    }
   ],
   "source": [
    "embedding_result = df['doc_table_contents'].progress_apply(lambda x: get_embedding(x))"
   ]
  },
  {
   "cell_type": "code",
   "execution_count": 31,
   "metadata": {},
   "outputs": [
    {
     "name": "stdout",
     "output_type": "stream",
     "text": [
      "TOKEN USAGE: 458270\n",
      "PRICE USAGE: 11.363048553466797원\n"
     ]
    }
   ],
   "source": [
    "print(f\"TOKEN USAGE: {tokens}\")\n",
    "print(f\"PRICE USAGE: {(tokens/1024/1024)*0.02*1300}원\")"
   ]
  },
  {
   "cell_type": "code",
   "execution_count": 32,
   "metadata": {},
   "outputs": [],
   "source": [
    "df['embeddings'] = embedding_result"
   ]
  },
  {
   "cell_type": "markdown",
   "metadata": {},
   "source": [
    "## Embedding 결과 저장"
   ]
  },
  {
   "cell_type": "code",
   "execution_count": 34,
   "metadata": {},
   "outputs": [],
   "source": [
    "embedding_result_path = exp_dir + '/embeddings.parquet'\n",
    "df.to_parquet(embedding_result_path, index=False)"
   ]
  },
  {
   "cell_type": "markdown",
   "metadata": {},
   "source": [
    "# Vector DB 저장"
   ]
  },
  {
   "cell_type": "code",
   "execution_count": 5,
   "metadata": {},
   "outputs": [],
   "source": [
    "MILVUS_HOST = os.environ['MILVUS_HOST']\n",
    "MILVUS_PORT = os.environ['MILVUS_PORT']\n",
    "COLLECTION_NAME = \"ioniq5_2024_manual\"\n",
    "connections.connect(alias=\"default\", host=MILVUS_HOST, port=MILVUS_PORT)"
   ]
  },
  {
   "cell_type": "code",
   "execution_count": 14,
   "metadata": {},
   "outputs": [],
   "source": [
    "embedding_result_path = exp_dir + '/embeddings.parquet'\n",
    "df = pd.read_parquet(embedding_result_path)"
   ]
  },
  {
   "cell_type": "markdown",
   "metadata": {},
   "source": [
    "## Document 내 header 제외"
   ]
  },
  {
   "cell_type": "markdown",
   "metadata": {},
   "source": [
    "**내용이 없기 때문**"
   ]
  },
  {
   "cell_type": "code",
   "execution_count": 15,
   "metadata": {},
   "outputs": [],
   "source": [
    "df = df[df['h1']!=df['doc_contents']]\n",
    "df = df[df['h2']!=df['doc_contents']]\n",
    "df = df[df['h3']!=df['doc_contents']]"
   ]
  },
  {
   "cell_type": "code",
   "execution_count": 16,
   "metadata": {},
   "outputs": [],
   "source": [
    "df['car_type'] = documnet_name"
   ]
  },
  {
   "cell_type": "markdown",
   "metadata": {},
   "source": [
    "**Collection 삭제 예시**"
   ]
  },
  {
   "cell_type": "code",
   "execution_count": 9,
   "metadata": {},
   "outputs": [],
   "source": [
    "# utility.drop_collection(\"ioniq5_2024_manual\")"
   ]
  },
  {
   "cell_type": "markdown",
   "metadata": {},
   "source": [
    "## Collection 생성"
   ]
  },
  {
   "cell_type": "code",
   "execution_count": 12,
   "metadata": {},
   "outputs": [],
   "source": [
    "id_field = FieldSchema(name=\"id\", dtype=DataType.INT64, is_primary=True, auto_id=False)\n",
    "car_type_filed = FieldSchema(name=\"car_type\", dtype=DataType.VARCHAR, max_length=100, is_primary=False, auto_id=False,\n",
    "                           description='차종')\n",
    "major_h_filed = FieldSchema(name=\"majorheading\", dtype=DataType.VARCHAR, max_length=100, is_primary=False, auto_id=False,\n",
    "                           description='설명서의 대제목')\n",
    "sub_h_filed = FieldSchema(name=\"subheadings\", dtype=DataType.VARCHAR, max_length=100, is_primary=False, auto_id=False,\n",
    "                         description='설명서의 중제목')\n",
    "minor_h_filed = FieldSchema(name=\"minorheading\", dtype=DataType.VARCHAR, max_length=100, is_primary=False, auto_id=False,\n",
    "                           description='설명서의 소제목')\n",
    "contents_filed = FieldSchema(name=\"contents\", dtype=DataType.VARCHAR, max_length=20000, is_primary=False, auto_id=False,\n",
    "                            description='설명서의 내용')\n",
    "imgurl_filed = FieldSchema(name=\"img_url\", dtype=DataType.ARRAY, element_type=DataType.VARCHAR, max_capacity=20, max_length=50,\n",
    "                            description='이미지 URL 경로')\n",
    "tblimgurl_field = FieldSchema(name=\"tbl_img_url\", dtype=DataType.ARRAY, element_type=DataType.VARCHAR, max_capacity=20, max_length=50,\n",
    "                            description='표 이미지 URL 경로')\n",
    "tbl_contents_filed = FieldSchema(name=\"tbl_contents\", dtype=DataType.VARCHAR, max_length=10000, is_primary=False, auto_id=False,\n",
    "                            description='표 내용')\n",
    "page_filed = FieldSchema(name=\"block_nums\", dtype=DataType.VARCHAR, max_length=7, is_primary=False, auto_id=False,\n",
    "                            description='page번호')\n",
    "vector_filed = FieldSchema(name=\"vector\", dtype=DataType.FLOAT_VECTOR, dim=3072)\n",
    "# 컬렉션 스키마 정의\n",
    "schema = CollectionSchema(\n",
    "    fields=[\n",
    "        id_field, \n",
    "        car_type_filed,\n",
    "        major_h_filed,\n",
    "        sub_h_filed,\n",
    "        minor_h_filed,\n",
    "        contents_filed,\n",
    "        imgurl_filed,\n",
    "        tblimgurl_field,\n",
    "        tbl_contents_filed,\n",
    "        page_filed,\n",
    "        vector_filed],\n",
    "    description=\"2024 아이오닉5 문서\"\n",
    ")\n",
    "\n",
    "# 컬렉션 생성\n",
    "if COLLECTION_NAME not in utility.list_collections():\n",
    "    collection = Collection(name=COLLECTION_NAME, schema=schema)\n",
    "else:\n",
    "    collection = Collection(name=COLLECTION_NAME)\n"
   ]
  },
  {
   "cell_type": "markdown",
   "metadata": {},
   "source": [
    "## Data 적재"
   ]
  },
  {
   "cell_type": "code",
   "execution_count": 13,
   "metadata": {},
   "outputs": [],
   "source": [
    "#Index 생성\n",
    "df = df.reset_index(drop=True).reset_index()\n",
    "\n",
    "#NaN 처리\n",
    "df[['table_contents']] = df[['table_contents']].fillna('')\n",
    "df['img_urls'] = df['img_urls'].apply(lambda d: d.tolist() if d is not None else [])\n",
    "df['table_img_urls'] = df['table_img_urls'].apply(lambda d: d.tolist() if d is not None else [])\n",
    "\n",
    "# Pandas DataFrame에서 데이터 추출 및 Milvus에 삽입\n",
    "ids = df['level_0'].to_list()\n",
    "car_types = df['car_type'].to_list()\n",
    "h1s = df['h1'].to_list()\n",
    "h2s = df['h2'].fillna('').astype(str).to_list()\n",
    "h3s = df['h3'].fillna('').astype(str).to_list()\n",
    "cons = df['doc_table_contents'].to_list()\n",
    "img_urls = df['img_urls'].to_list()\n",
    "table_img_urls = df['table_img_urls'].to_list()\n",
    "table_contents = df['table_contents'].to_list()\n",
    "blocks = df['block_num'].to_list()\n",
    "vectors = df['embeddings'].to_list()"
   ]
  },
  {
   "cell_type": "code",
   "execution_count": null,
   "metadata": {},
   "outputs": [],
   "source": [
    "if COLLECTION_NAME not in utility.list_collections():\n",
    "    mr = collection.insert([ids, car_types, h1s, h2s, h3s, cons, img_urls, table_img_urls, table_contents, blocks, vectors])"
   ]
  },
  {
   "cell_type": "markdown",
   "metadata": {},
   "source": [
    "## Index 생성"
   ]
  },
  {
   "cell_type": "code",
   "execution_count": null,
   "metadata": {},
   "outputs": [],
   "source": [
    "collection.create_index(\n",
    "    field_name=\"vector\", \n",
    "    index_params={\n",
    "        \"index_type\": \"IVF_FLAT\", \n",
    "        \"metric_type\": \"COSINE\", \n",
    "        \"params\": {\"nlist\": df['h2'].nunique()} # Cluster 개수\n",
    "        }\n",
    ")"
   ]
  },
  {
   "cell_type": "markdown",
   "metadata": {},
   "source": [
    "# 실험"
   ]
  }
 ],
 "metadata": {
  "kernelspec": {
   "display_name": "myMechanic",
   "language": "python",
   "name": "mymechanic"
  },
  "language_info": {
   "codemirror_mode": {
    "name": "ipython",
    "version": 3
   },
   "file_extension": ".py",
   "mimetype": "text/x-python",
   "name": "python",
   "nbconvert_exporter": "python",
   "pygments_lexer": "ipython3",
   "version": "3.8.13"
  }
 },
 "nbformat": 4,
 "nbformat_minor": 2
}
