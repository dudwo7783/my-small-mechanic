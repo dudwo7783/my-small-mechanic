{
 "cells": [
  {
   "cell_type": "code",
   "execution_count": 242,
   "metadata": {},
   "outputs": [],
   "source": [
    "import os\n",
    "import openai\n",
    "import numpy as np\n",
    "import pandas as pd\n",
    "from tqdm import tqdm\n",
    "from openai import OpenAI\n",
    "from pymilvus import Collection, CollectionSchema, FieldSchema, DataType, connections\n",
    "from pymilvus import connections, utility\n",
    "from langchain_openai import OpenAIEmbeddings\n",
    "from langchain import text_splitter \n",
    "from langchain_community.vectorstores import Milvus\n",
    "from langchain_community.retrievers.milvus import MilvusRetriever\n",
    "from langchain.text_splitter import RecursiveCharacterTextSplitter\n",
    "\n",
    "from transformers import AutoTokenizer, AutoModel"
   ]
  },
  {
   "cell_type": "markdown",
   "metadata": {},
   "source": [
    "# 실험환경"
   ]
  },
  {
   "cell_type": "code",
   "execution_count": 342,
   "metadata": {},
   "outputs": [],
   "source": [
    "# 임베딩 모델이름\n",
    "company = 'OPENAI'\n",
    "embedding_models = 'text-embedding-3-large'\n",
    "header_include = True\n",
    "table_include = True\n",
    "split_yn = False\n",
    "documnet_name = \"IONIQ5_2024\""
   ]
  },
  {
   "cell_type": "code",
   "execution_count": 343,
   "metadata": {},
   "outputs": [],
   "source": [
    "exp_name = f\"{company}_{embedding_models}_h{header_include}_t{table_include}_s{split_yn}\"\n",
    "exp_dir = '../result/' + exp_name\n",
    "\n",
    "os.makedirs(exp_dir, exist_ok=True)"
   ]
  },
  {
   "cell_type": "code",
   "execution_count": 344,
   "metadata": {},
   "outputs": [],
   "source": [
    "DOC_DATA_DIR = '../../../pdf_parsing/parse_result/'\n",
    "DOC_DATA_PATH =  DOC_DATA_DIR + 'doc_ioniq5_result.parquet'\n",
    "OPENAI_API_KEY = os.environ['OPENAI_API_KEY']\n",
    "\n",
    "tqdm.pandas()"
   ]
  },
  {
   "cell_type": "code",
   "execution_count": 345,
   "metadata": {},
   "outputs": [],
   "source": [
    "df = pd.read_parquet(DOC_DATA_PATH)"
   ]
  },
  {
   "cell_type": "markdown",
   "metadata": {},
   "source": [
    "# Chunking"
   ]
  },
  {
   "cell_type": "code",
   "execution_count": 346,
   "metadata": {},
   "outputs": [],
   "source": [
    "df['embedding_contents'] = df['doc_contents'] + '\\n' + \\\n",
    "    df['table_contents'].apply(lambda x: '' if x is None else '\\n'.join(x))"
   ]
  },
  {
   "cell_type": "code",
   "execution_count": 347,
   "metadata": {},
   "outputs": [],
   "source": [
    "def text(x):\n",
    "    \n",
    "    img_urls = x['img_urls'].dropna()\n",
    "    if len(img_urls)==0:\n",
    "        img_urls = []\n",
    "    else:\n",
    "        img_urls = img_urls.tolist()[0]\n",
    "        img_urls = [img_url for img_url in img_urls]\n",
    "        \n",
    "    tbl_contents = x['table_contents'].dropna()\n",
    "    if len(tbl_contents)==0:\n",
    "        tbl_contents = []\n",
    "    else:\n",
    "        tbl_contents = tbl_contents.tolist()[0]\n",
    "        tbl_contents = [tbl_contents for tbl_contents in tbl_contents]\n",
    "        \n",
    "    tbl_img_urls = x['table_img_urls'].dropna()\n",
    "    if len(tbl_img_urls)==0:\n",
    "        tbl_img_urls = []\n",
    "    else:\n",
    "        tbl_img_urls = tbl_img_urls.tolist()[0]\n",
    "        tbl_img_urls = [tbl_img_url for tbl_img_url in tbl_img_urls]\n",
    "        \n",
    "    block_nums = x['block_num'].dropna()\n",
    "    if len(block_nums)==0:\n",
    "        block_nums = []\n",
    "    else:\n",
    "        block_nums = block_nums.tolist()\n",
    "        block_nums = [block_num for block_num in block_nums]\n",
    "        \n",
    "    embedding_contents = x['embedding_contents'].dropna()\n",
    "    \n",
    "    embedding_contents = embedding_contents.tolist()\n",
    "    embedding_contents = '\\n\\n'.join(embedding_contents)\n",
    "    \n",
    "    doc_contents = x['doc_contents'].dropna()\n",
    "    \n",
    "    doc_contents = doc_contents.tolist()\n",
    "    doc_contents = '\\n\\n'.join(doc_contents)\n",
    "        \n",
    "    return pd.Series({'img_urls':img_urls, 'table_contents': tbl_contents, 'table_img_urls':tbl_img_urls, 'block_num':block_nums, 'embedding_contents':embedding_contents, 'doc_contents':doc_contents})"
   ]
  },
  {
   "cell_type": "code",
   "execution_count": 348,
   "metadata": {},
   "outputs": [],
   "source": [
    "df_h3 = df.groupby(['h1','h2','h3']).apply(lambda x: text(x)).reset_index()"
   ]
  },
  {
   "cell_type": "code",
   "execution_count": 349,
   "metadata": {},
   "outputs": [],
   "source": [
    "# df_h3['embedding_contents'] = \\\n",
    "#     df_h3['h3'] + '\\n' + \\\n",
    "#     df_h3['embedding_contents']\n",
    "    \n",
    "df_h3['doc_contents'] = \\\n",
    "    df_h3['h3'] + '\\n' + \\\n",
    "    df_h3['doc_contents']"
   ]
  },
  {
   "cell_type": "code",
   "execution_count": 350,
   "metadata": {},
   "outputs": [],
   "source": [
    "df_h3['contents_size'] = df_h3['doc_contents'].apply(len)"
   ]
  },
  {
   "cell_type": "code",
   "execution_count": 351,
   "metadata": {},
   "outputs": [
    {
     "data": {
      "text/plain": [
       "<Axes: ylabel='Frequency'>"
      ]
     },
     "execution_count": 351,
     "metadata": {},
     "output_type": "execute_result"
    },
    {
     "data": {
      "image/png": "[encoded data removed]",
      "text/plain": [
       "<Figure size 640x480 with 1 Axes>"
      ]
     },
     "metadata": {},
     "output_type": "display_data"
    }
   ],
   "source": [
    "df_h3['contents_size'].plot.hist()"
   ]
  },
  {
   "cell_type": "markdown",
   "metadata": {},
   "source": [
    "## Parent-Child Cunking"
   ]
  },
  {
   "cell_type": "code",
   "execution_count": 352,
   "metadata": {},
   "outputs": [],
   "source": [
    "child_text_splitter = RecursiveCharacterTextSplitter(\n",
    "    # Set a really small chunk size, just to show.\n",
    "    chunk_size=500,\n",
    "    chunk_overlap=50,\n",
    "    length_function=len,\n",
    "    is_separator_regex=False,\n",
    ")"
   ]
  },
  {
   "cell_type": "code",
   "execution_count": 353,
   "metadata": {},
   "outputs": [],
   "source": [
    "\n",
    "df_h3['child_embedding_chunk'] = df_h3['embedding_contents'].apply(lambda contents: list(map(lambda x: x.page_content, child_text_splitter.create_documents([contents]))))"
   ]
  },
  {
   "cell_type": "code",
   "execution_count": 354,
   "metadata": {},
   "outputs": [],
   "source": [
    "df_h3 = df_h3.reset_index(names='doc_id')\n",
    "df_h3 = df_h3.explode('child_embedding_chunk')"
   ]
  },
  {
   "cell_type": "code",
   "execution_count": 355,
   "metadata": {},
   "outputs": [],
   "source": [
    "df_h3 = df_h3.reset_index(drop=True)"
   ]
  },
  {
   "cell_type": "code",
   "execution_count": 356,
   "metadata": {},
   "outputs": [
    {
     "data": {
      "text/html": [
       "<div>\n",
       "<style scoped>\n",
       "    .dataframe tbody tr th:only-of-type {\n",
       "        vertical-align: middle;\n",
       "    }\n",
       "\n",
       "    .dataframe tbody tr th {\n",
       "        vertical-align: top;\n",
       "    }\n",
       "\n",
       "    .dataframe thead th {\n",
       "        text-align: right;\n",
       "    }\n",
       "</style>\n",
       "<table border=\"1\" class=\"dataframe\">\n",
       "  <thead>\n",
       "    <tr style=\"text-align: right;\">\n",
       "      <th></th>\n",
       "      <th>doc_id</th>\n",
       "      <th>h1</th>\n",
       "      <th>h2</th>\n",
       "      <th>h3</th>\n",
       "      <th>img_urls</th>\n",
       "      <th>table_contents</th>\n",
       "      <th>table_img_urls</th>\n",
       "      <th>block_num</th>\n",
       "      <th>embedding_contents</th>\n",
       "      <th>doc_contents</th>\n",
       "      <th>contents_size</th>\n",
       "      <th>child_embedding_chunk</th>\n",
       "    </tr>\n",
       "  </thead>\n",
       "  <tbody>\n",
       "    <tr>\n",
       "      <th>0</th>\n",
       "      <td>0</td>\n",
       "      <td>1.  안내 및 차량 정보</td>\n",
       "      <td>구동 모터 번호</td>\n",
       "      <td></td>\n",
       "      <td>[./image/ioniq5_2024/76_9_img.png, ./image/ion...</td>\n",
       "      <td>[]</td>\n",
       "      <td>[]</td>\n",
       "      <td>[76_7]</td>\n",
       "      <td>구동 모터 번호 \\n2WD / 4WD\\n4WD\\n구동 모터 번호는 차량 밑에서 확인...</td>\n",
       "      <td>\\n구동 모터 번호 \\n2WD / 4WD\\n4WD\\n구동 모터 번호는 차량 밑에서 ...</td>\n",
       "      <td>54</td>\n",
       "      <td>구동 모터 번호 \\n2WD / 4WD\\n4WD\\n구동 모터 번호는 차량 밑에서 확인...</td>\n",
       "    </tr>\n",
       "    <tr>\n",
       "      <th>1</th>\n",
       "      <td>1</td>\n",
       "      <td>1.  안내 및 차량 정보</td>\n",
       "      <td>모터룸</td>\n",
       "      <td></td>\n",
       "      <td>[./image/ioniq5_2024/70_1_img.png]</td>\n",
       "      <td>[]</td>\n",
       "      <td>[]</td>\n",
       "      <td>[70_0]</td>\n",
       "      <td>모터룸\\n이 그림은 실제 차량과 다를 수 있습니다.\\n</td>\n",
       "      <td>\\n모터룸\\n이 그림은 실제 차량과 다를 수 있습니다.</td>\n",
       "      <td>28</td>\n",
       "      <td>모터룸\\n이 그림은 실제 차량과 다를 수 있습니다.</td>\n",
       "    </tr>\n",
       "    <tr>\n",
       "      <th>2</th>\n",
       "      <td>2</td>\n",
       "      <td>1.  안내 및 차량 정보</td>\n",
       "      <td>에어컨 시스템</td>\n",
       "      <td></td>\n",
       "      <td>[]</td>\n",
       "      <td>[|    | 에어컨 시스템   | 에어컨 시스템   | 에어컨 시스템   |\\n|...</td>\n",
       "      <td>[./image/ioniq5_2024/73_1_table.jpeg]</td>\n",
       "      <td>[73_9]</td>\n",
       "      <td>에어컨 시스템\\n에어컨 관련 작업 시, 반드시 지정된 냉매를 사용하십시오.지정되지 ...</td>\n",
       "      <td>\\n에어컨 시스템\\n에어컨 관련 작업 시, 반드시 지정된 냉매를 사용하십시오.지정되...</td>\n",
       "      <td>92</td>\n",
       "      <td>에어컨 시스템\\n에어컨 관련 작업 시, 반드시 지정된 냉매를 사용하십시오.지정되지 ...</td>\n",
       "    </tr>\n",
       "    <tr>\n",
       "      <th>3</th>\n",
       "      <td>3</td>\n",
       "      <td>1.  안내 및 차량 정보</td>\n",
       "      <td>자기 인증 라벨</td>\n",
       "      <td></td>\n",
       "      <td>[./image/ioniq5_2024/76_5_img.jpeg]</td>\n",
       "      <td>[]</td>\n",
       "      <td>[]</td>\n",
       "      <td>[76_4]</td>\n",
       "      <td>자기 인증 라벨\\n자기 인증 라벨은 차량이 대한민국 자동차 관리법령에 맞게 제작되었...</td>\n",
       "      <td>\\n자기 인증 라벨\\n자기 인증 라벨은 차량이 대한민국 자동차 관리법령에 맞게 제작...</td>\n",
       "      <td>55</td>\n",
       "      <td>자기 인증 라벨\\n자기 인증 라벨은 차량이 대한민국 자동차 관리법령에 맞게 제작되었...</td>\n",
       "    </tr>\n",
       "    <tr>\n",
       "      <th>4</th>\n",
       "      <td>4</td>\n",
       "      <td>1.  안내 및 차량 정보</td>\n",
       "      <td>전구의 용량</td>\n",
       "      <td></td>\n",
       "      <td>[]</td>\n",
       "      <td>[|    | 전구의 용량   | 전구의 용량                     ...</td>\n",
       "      <td>[./image/ioniq5_2024/74_0_table.jpeg]</td>\n",
       "      <td>[74_0]</td>\n",
       "      <td>전구의 용량\\nLED(Light-Emitting Diode): 발광소자\\n|    ...</td>\n",
       "      <td>\\n전구의 용량\\nLED(Light-Emitting Diode): 발광소자</td>\n",
       "      <td>39</td>\n",
       "      <td>전구의 용량\\nLED(Light-Emitting Diode): 발광소자\\n|    ...</td>\n",
       "    </tr>\n",
       "    <tr>\n",
       "      <th>...</th>\n",
       "      <td>...</td>\n",
       "      <td>...</td>\n",
       "      <td>...</td>\n",
       "      <td>...</td>\n",
       "      <td>...</td>\n",
       "      <td>...</td>\n",
       "      <td>...</td>\n",
       "      <td>...</td>\n",
       "      <td>...</td>\n",
       "      <td>...</td>\n",
       "      <td>...</td>\n",
       "      <td>...</td>\n",
       "    </tr>\n",
       "    <tr>\n",
       "      <th>1405</th>\n",
       "      <td>471</td>\n",
       "      <td>전기차 시작하기</td>\n",
       "      <td>전기 자동차 충전 표시등</td>\n",
       "      <td>충전 상태 표시등</td>\n",
       "      <td>[./image/ioniq5_2024/23_4_img.png]</td>\n",
       "      <td>[|    | 충전 표시등 동작   | 충전량[%]   |\\n|---:|:-----...</td>\n",
       "      <td>[./image/ioniq5_2024/23_1_table.jpeg]</td>\n",
       "      <td>[23_3, 23_15]</td>\n",
       "      <td>충전 도어\\n|    | 충전 표시등 동작   | 충전량[%]   |\\n|---:|...</td>\n",
       "      <td>충전 상태 표시등\\n충전 도어\\n\\n전면 범퍼 중앙</td>\n",
       "      <td>25</td>\n",
       "      <td>전면 범퍼 중앙\\n|    | 충전 표시등 동작   | 충전량[%]   |\\n|--...</td>\n",
       "    </tr>\n",
       "    <tr>\n",
       "      <th>1406</th>\n",
       "      <td>472</td>\n",
       "      <td>전기차 시작하기</td>\n",
       "      <td>충전 커넥터 잠금</td>\n",
       "      <td>완속 충전 시 충전 커넥터 잠금 모드</td>\n",
       "      <td>[./image/ioniq5_2024/24_2_img.png]</td>\n",
       "      <td>[|    | 커넥터 잠금   | 동작      | 동작    | 동작      |...</td>\n",
       "      <td>[./image/ioniq5_2024/24_0_table.jpeg]</td>\n",
       "      <td>[24_1, 24_7]</td>\n",
       "      <td>완속 충전 시 충전 커넥터 잠금 모드\\n충전 커넥터를 잠금하는 기능으로 외부인이 충...</td>\n",
       "      <td>완속 충전 시 충전 커넥터 잠금 모드\\n완속 충전 시 충전 커넥터 잠금 모드\\n충전...</td>\n",
       "      <td>824</td>\n",
       "      <td>완속 충전 시 충전 커넥터 잠금 모드\\n충전 커넥터를 잠금하는 기능으로 외부인이 충...</td>\n",
       "    </tr>\n",
       "    <tr>\n",
       "      <th>1407</th>\n",
       "      <td>472</td>\n",
       "      <td>전기차 시작하기</td>\n",
       "      <td>충전 커넥터 잠금</td>\n",
       "      <td>완속 충전 시 충전 커넥터 잠금 모드</td>\n",
       "      <td>[./image/ioniq5_2024/24_2_img.png]</td>\n",
       "      <td>[|    | 커넥터 잠금   | 동작      | 동작    | 동작      |...</td>\n",
       "      <td>[./image/ioniq5_2024/24_0_table.jpeg]</td>\n",
       "      <td>[24_1, 24_7]</td>\n",
       "      <td>완속 충전 시 충전 커넥터 잠금 모드\\n충전 커넥터를 잠금하는 기능으로 외부인이 충...</td>\n",
       "      <td>완속 충전 시 충전 커넥터 잠금 모드\\n완속 충전 시 충전 커넥터 잠금 모드\\n충전...</td>\n",
       "      <td>824</td>\n",
       "      <td>커넥터 잠금 동작\\n 상시 잠금: 충전 커넥터를 충전 인렛에 연결하면 잠금장치가 잠...</td>\n",
       "    </tr>\n",
       "    <tr>\n",
       "      <th>1408</th>\n",
       "      <td>472</td>\n",
       "      <td>전기차 시작하기</td>\n",
       "      <td>충전 커넥터 잠금</td>\n",
       "      <td>완속 충전 시 충전 커넥터 잠금 모드</td>\n",
       "      <td>[./image/ioniq5_2024/24_2_img.png]</td>\n",
       "      <td>[|    | 커넥터 잠금   | 동작      | 동작    | 동작      |...</td>\n",
       "      <td>[./image/ioniq5_2024/24_0_table.jpeg]</td>\n",
       "      <td>[24_1, 24_7]</td>\n",
       "      <td>완속 충전 시 충전 커넥터 잠금 모드\\n충전 커넥터를 잠금하는 기능으로 외부인이 충...</td>\n",
       "      <td>완속 충전 시 충전 커넥터 잠금 모드\\n완속 충전 시 충전 커넥터 잠금 모드\\n충전...</td>\n",
       "      <td>824</td>\n",
       "      <td>|    | 커넥터 잠금   | 동작      | 동작    | 동작      |\\...</td>\n",
       "    </tr>\n",
       "    <tr>\n",
       "      <th>1409</th>\n",
       "      <td>473</td>\n",
       "      <td>전기차 시작하기</td>\n",
       "      <td>충전이 시작되지 않은 경우 확인사항</td>\n",
       "      <td></td>\n",
       "      <td>[]</td>\n",
       "      <td>[]</td>\n",
       "      <td>[]</td>\n",
       "      <td>[47_0]</td>\n",
       "      <td>충전이 시작되지 않은 경우 확인사항\\n충전기를 차량에 연결한 후 충전이 시작되지 않...</td>\n",
       "      <td>\\n충전이 시작되지 않은 경우 확인사항\\n충전기를 차량에 연결한 후 충전이 시작되지...</td>\n",
       "      <td>448</td>\n",
       "      <td>충전이 시작되지 않은 경우 확인사항\\n충전기를 차량에 연결한 후 충전이 시작되지 않...</td>\n",
       "    </tr>\n",
       "  </tbody>\n",
       "</table>\n",
       "<p>1410 rows × 12 columns</p>\n",
       "</div>"
      ],
      "text/plain": [
       "      doc_id              h1                   h2                    h3  \\\n",
       "0          0  1.  안내 및 차량 정보            구동 모터 번호                          \n",
       "1          1  1.  안내 및 차량 정보                  모터룸                         \n",
       "2          2  1.  안내 및 차량 정보              에어컨 시스템                         \n",
       "3          3  1.  안내 및 차량 정보             자기 인증 라벨                         \n",
       "4          4  1.  안내 및 차량 정보               전구의 용량                         \n",
       "...      ...             ...                  ...                   ...   \n",
       "1405     471        전기차 시작하기        전기 자동차 충전 표시등             충전 상태 표시등   \n",
       "1406     472        전기차 시작하기            충전 커넥터 잠금  완속 충전 시 충전 커넥터 잠금 모드   \n",
       "1407     472        전기차 시작하기            충전 커넥터 잠금  완속 충전 시 충전 커넥터 잠금 모드   \n",
       "1408     472        전기차 시작하기            충전 커넥터 잠금  완속 충전 시 충전 커넥터 잠금 모드   \n",
       "1409     473        전기차 시작하기  충전이 시작되지 않은 경우 확인사항                         \n",
       "\n",
       "                                               img_urls  \\\n",
       "0     [./image/ioniq5_2024/76_9_img.png, ./image/ion...   \n",
       "1                    [./image/ioniq5_2024/70_1_img.png]   \n",
       "2                                                    []   \n",
       "3                   [./image/ioniq5_2024/76_5_img.jpeg]   \n",
       "4                                                    []   \n",
       "...                                                 ...   \n",
       "1405                 [./image/ioniq5_2024/23_4_img.png]   \n",
       "1406                 [./image/ioniq5_2024/24_2_img.png]   \n",
       "1407                 [./image/ioniq5_2024/24_2_img.png]   \n",
       "1408                 [./image/ioniq5_2024/24_2_img.png]   \n",
       "1409                                                 []   \n",
       "\n",
       "                                         table_contents  \\\n",
       "0                                                    []   \n",
       "1                                                    []   \n",
       "2     [|    | 에어컨 시스템   | 에어컨 시스템   | 에어컨 시스템   |\\n|...   \n",
       "3                                                    []   \n",
       "4     [|    | 전구의 용량   | 전구의 용량                     ...   \n",
       "...                                                 ...   \n",
       "1405  [|    | 충전 표시등 동작   | 충전량[%]   |\\n|---:|:-----...   \n",
       "1406  [|    | 커넥터 잠금   | 동작      | 동작    | 동작      |...   \n",
       "1407  [|    | 커넥터 잠금   | 동작      | 동작    | 동작      |...   \n",
       "1408  [|    | 커넥터 잠금   | 동작      | 동작    | 동작      |...   \n",
       "1409                                                 []   \n",
       "\n",
       "                             table_img_urls      block_num  \\\n",
       "0                                        []         [76_7]   \n",
       "1                                        []         [70_0]   \n",
       "2     [./image/ioniq5_2024/73_1_table.jpeg]         [73_9]   \n",
       "3                                        []         [76_4]   \n",
       "4     [./image/ioniq5_2024/74_0_table.jpeg]         [74_0]   \n",
       "...                                     ...            ...   \n",
       "1405  [./image/ioniq5_2024/23_1_table.jpeg]  [23_3, 23_15]   \n",
       "1406  [./image/ioniq5_2024/24_0_table.jpeg]   [24_1, 24_7]   \n",
       "1407  [./image/ioniq5_2024/24_0_table.jpeg]   [24_1, 24_7]   \n",
       "1408  [./image/ioniq5_2024/24_0_table.jpeg]   [24_1, 24_7]   \n",
       "1409                                     []         [47_0]   \n",
       "\n",
       "                                     embedding_contents  \\\n",
       "0     구동 모터 번호 \\n2WD / 4WD\\n4WD\\n구동 모터 번호는 차량 밑에서 확인...   \n",
       "1                        모터룸\\n이 그림은 실제 차량과 다를 수 있습니다.\\n   \n",
       "2     에어컨 시스템\\n에어컨 관련 작업 시, 반드시 지정된 냉매를 사용하십시오.지정되지 ...   \n",
       "3     자기 인증 라벨\\n자기 인증 라벨은 차량이 대한민국 자동차 관리법령에 맞게 제작되었...   \n",
       "4     전구의 용량\\nLED(Light-Emitting Diode): 발광소자\\n|    ...   \n",
       "...                                                 ...   \n",
       "1405  충전 도어\\n|    | 충전 표시등 동작   | 충전량[%]   |\\n|---:|...   \n",
       "1406  완속 충전 시 충전 커넥터 잠금 모드\\n충전 커넥터를 잠금하는 기능으로 외부인이 충...   \n",
       "1407  완속 충전 시 충전 커넥터 잠금 모드\\n충전 커넥터를 잠금하는 기능으로 외부인이 충...   \n",
       "1408  완속 충전 시 충전 커넥터 잠금 모드\\n충전 커넥터를 잠금하는 기능으로 외부인이 충...   \n",
       "1409  충전이 시작되지 않은 경우 확인사항\\n충전기를 차량에 연결한 후 충전이 시작되지 않...   \n",
       "\n",
       "                                           doc_contents  contents_size  \\\n",
       "0     \\n구동 모터 번호 \\n2WD / 4WD\\n4WD\\n구동 모터 번호는 차량 밑에서 ...             54   \n",
       "1                        \\n모터룸\\n이 그림은 실제 차량과 다를 수 있습니다.             28   \n",
       "2     \\n에어컨 시스템\\n에어컨 관련 작업 시, 반드시 지정된 냉매를 사용하십시오.지정되...             92   \n",
       "3     \\n자기 인증 라벨\\n자기 인증 라벨은 차량이 대한민국 자동차 관리법령에 맞게 제작...             55   \n",
       "4             \\n전구의 용량\\nLED(Light-Emitting Diode): 발광소자             39   \n",
       "...                                                 ...            ...   \n",
       "1405                       충전 상태 표시등\\n충전 도어\\n\\n전면 범퍼 중앙             25   \n",
       "1406  완속 충전 시 충전 커넥터 잠금 모드\\n완속 충전 시 충전 커넥터 잠금 모드\\n충전...            824   \n",
       "1407  완속 충전 시 충전 커넥터 잠금 모드\\n완속 충전 시 충전 커넥터 잠금 모드\\n충전...            824   \n",
       "1408  완속 충전 시 충전 커넥터 잠금 모드\\n완속 충전 시 충전 커넥터 잠금 모드\\n충전...            824   \n",
       "1409  \\n충전이 시작되지 않은 경우 확인사항\\n충전기를 차량에 연결한 후 충전이 시작되지...            448   \n",
       "\n",
       "                                  child_embedding_chunk  \n",
       "0     구동 모터 번호 \\n2WD / 4WD\\n4WD\\n구동 모터 번호는 차량 밑에서 확인...  \n",
       "1                          모터룸\\n이 그림은 실제 차량과 다를 수 있습니다.  \n",
       "2     에어컨 시스템\\n에어컨 관련 작업 시, 반드시 지정된 냉매를 사용하십시오.지정되지 ...  \n",
       "3     자기 인증 라벨\\n자기 인증 라벨은 차량이 대한민국 자동차 관리법령에 맞게 제작되었...  \n",
       "4     전구의 용량\\nLED(Light-Emitting Diode): 발광소자\\n|    ...  \n",
       "...                                                 ...  \n",
       "1405  전면 범퍼 중앙\\n|    | 충전 표시등 동작   | 충전량[%]   |\\n|--...  \n",
       "1406  완속 충전 시 충전 커넥터 잠금 모드\\n충전 커넥터를 잠금하는 기능으로 외부인이 충...  \n",
       "1407  커넥터 잠금 동작\\n 상시 잠금: 충전 커넥터를 충전 인렛에 연결하면 잠금장치가 잠...  \n",
       "1408  |    | 커넥터 잠금   | 동작      | 동작    | 동작      |\\...  \n",
       "1409  충전이 시작되지 않은 경우 확인사항\\n충전기를 차량에 연결한 후 충전이 시작되지 않...  \n",
       "\n",
       "[1410 rows x 12 columns]"
      ]
     },
     "execution_count": 356,
     "metadata": {},
     "output_type": "execute_result"
    }
   ],
   "source": [
    "df_h3"
   ]
  },
  {
   "cell_type": "markdown",
   "metadata": {},
   "source": [
    "# BS25"
   ]
  },
  {
   "cell_type": "code",
   "execution_count": 357,
   "metadata": {},
   "outputs": [],
   "source": [
    "df = df_h3"
   ]
  },
  {
   "cell_type": "code",
   "execution_count": 358,
   "metadata": {},
   "outputs": [],
   "source": [
    "from konlpy.tag import Mecab\n",
    "mecab = Mecab()"
   ]
  },
  {
   "cell_type": "code",
   "execution_count": 359,
   "metadata": {},
   "outputs": [],
   "source": [
    "def tokenizer(text):\n",
    "    pos_tag = mecab.pos(text)\n",
    "    pos_tag = list(filter(lambda x: x[1] in ['NNG', 'NNP', 'SL'], pos_tag))\n",
    "    pos_tag = list(map(lambda x: x[0], pos_tag))\n",
    "    return pos_tag"
   ]
  },
  {
   "cell_type": "code",
   "execution_count": 360,
   "metadata": {},
   "outputs": [],
   "source": [
    "df['noun_token'] = df['child_embedding_chunk'].apply(tokenizer)"
   ]
  },
  {
   "cell_type": "code",
   "execution_count": 361,
   "metadata": {},
   "outputs": [],
   "source": [
    "from rank_bm25 import BM25Okapi"
   ]
  },
  {
   "cell_type": "code",
   "execution_count": 362,
   "metadata": {},
   "outputs": [],
   "source": [
    "bm25 = BM25Okapi(df['noun_token'].values.tolist())"
   ]
  },
  {
   "cell_type": "code",
   "execution_count": 363,
   "metadata": {},
   "outputs": [
    {
     "data": {
      "text/plain": [
       "array([0.        , 0.        , 0.        , ..., 0.        , 0.        ,\n",
       "       2.63627612])"
      ]
     },
     "execution_count": 363,
     "metadata": {},
     "output_type": "execute_result"
    }
   ],
   "source": [
    "query = \"스티어링휠 조정 방법\"\n",
    "tokenized_query = tokenizer(query)\n",
    "\n",
    "doc_scores = bm25.get_scores(tokenized_query)\n",
    "doc_scores"
   ]
  },
  {
   "cell_type": "code",
   "execution_count": 364,
   "metadata": {},
   "outputs": [
    {
     "name": "stdout",
     "output_type": "stream",
     "text": [
      "['눈길, 빙판길 주행 시 주의 사항 가속 페달을 서서히 밟아 부드럽게 출발하십시오. 타이어 체인이나 스노우 타이어를 사용하십시오. 차간 거리를 충분히 유지하십시오. 주행 중 급가속, 급제동, 과도한 스티어링 휠조작을 하지 마십시오. 차량이 미끄러질 수있어 위험합니다. 내리막길에서 회생 제동(패들 쉬프트 왼쪽레버로 회생 제동량 증대)을 사용하면 방향조작에 도움이 됩니다. 단, 회생 제동을 이용한 타력 주행 중에는 차량 조정이 어려울 수있으므로, 회생 제동 3단계 사용은 가급적 자제하여 주십시오. 오르막길에서는 한 번 멈추면 다시 출발하기가 어렵습니다. 다른 차량과의 거리를 유지하고 서행하십시오.'\n",
      " '스마트 키의 감지 거리는 주변 환경(송전탑,방송국과 같이 전파의 영향이 강한 지역 등)에 따라 달라질 수 있습니다. 방법 (1)로 원격 전진하는 경우 출차 상황으로 판단하여 주변 사람, 동물 또는 물체를 확인한 (약 4m 이동) 후 전방 상황에 따라 스티어링 휠 제어를 합니다. 방법 (2)로 원격 전진하는 경우 주차 상황으로 판단하여 전방 상황에 따라 스티어링 휠제어를 하여 주차공간 진입 및 차량 정렬을보조합니다.  원격 후진하는 경우, 방법 (1), (2) 모두 스티어링 휠을 정렬한 후 차량이 직진으로만 이동합니다. 원격 전/후진 기능을 완료하면 자동으로「P」 (주차)단으로 변속하고 전자식 파킹 브레이크(EPB)를 체결합니다.'\n",
      " '사륜구동 차량의 운전 요령\\n사륜구동 차량의 특징을 잘 이해하고 도로 조건에 맞게 주행하십시오. 위험하다고 판단되는길은 주행하지 마십시오.\\n\\n\\n일반 주의 사항 반드시 안전벨트를 착용하십시오. 운전할 때 자세를 평상시보다 스티어링 휠과가깝게 하고 곧은 자세를 유지하십시오. 스티어링 휠이나 페달을 손쉽게 조작할 수 있도록 여유 있는 위치로 조정하십시오. 비포장 험로를 주행할 경우 차량의 지상고가낮아 차체 손상이 발생할 수 있습니다. 위험한 지역을 피해 주행하십시오. 사륜구동 차량도 일반 차량과 마찬가지로 조향 및 브레이크 조작을 신중히 하여 안전 운전 하십시오. 비포장 도로를 주행할 때는 항상 스티어링휠의 바깥쪽을 확실하게 잡으십시오. 스티어링 휠 안쪽을 잡을 경우 스티어링 휠이 갑자기 돌아가 손을 다칠 수 있습니다.\\n사륜구동 경고등( )이 꺼지지 않거나 빈번하게켜질 경우, 당사 직영 하이테크센터나 블루핸즈에서 점검 및 정비를 받으십시오.'\n",
      " '좌석, 스티어링 휠, 미러 조정\\n 좌석, 스티어링 휠, 미러는 출발 전에 조절하시고 주행 중에 절대로 조작하지 마십시오.\\n 내·외측의 미러를 조정하여, 충분한 시야를확보하십시오.\\n 모든 게이지 및 경고등을 확인하십시오. 주차 브레이크를 풀고 브레이크 경고등이 꺼지는지 확인하십시오. 차 주위에 사람이나 물체 등이 없는지 확인하십시오.\\n 운전할 때 하이힐 등 운전하기 불편한 신발을 신지 마십시오. 가속 페달, 브레이크 페달등의 조작능력이 저하되어 사고의 원인이 됩니다. 주차 브레이크를 풀 때에는 차량이 움직일수 있으므로 반드시 브레이크 페달을 확실히밟으십시오.'\n",
      " '레버를 조작할 때 가끔씩 걸림 현상이 발생할수 있으나 이는 고장이 아니며 두개의 기어가서로 맞물릴 때 발생하는 현상입니다. 이때에는 스티어링 휠의 위치를 재조정한 후 고정하십시오.']\n"
     ]
    }
   ],
   "source": [
    "print(df.loc[doc_scores.argsort(), 'child_embedding_chunk'].tail().values)"
   ]
  },
  {
   "cell_type": "markdown",
   "metadata": {},
   "source": [
    "# Embedding"
   ]
  },
  {
   "cell_type": "code",
   "execution_count": 365,
   "metadata": {},
   "outputs": [
    {
     "data": {
      "text/html": [
       "<div>\n",
       "<style scoped>\n",
       "    .dataframe tbody tr th:only-of-type {\n",
       "        vertical-align: middle;\n",
       "    }\n",
       "\n",
       "    .dataframe tbody tr th {\n",
       "        vertical-align: top;\n",
       "    }\n",
       "\n",
       "    .dataframe thead th {\n",
       "        text-align: right;\n",
       "    }\n",
       "</style>\n",
       "<table border=\"1\" class=\"dataframe\">\n",
       "  <thead>\n",
       "    <tr style=\"text-align: right;\">\n",
       "      <th></th>\n",
       "      <th>doc_id</th>\n",
       "      <th>h1</th>\n",
       "      <th>h2</th>\n",
       "      <th>h3</th>\n",
       "      <th>img_urls</th>\n",
       "      <th>table_contents</th>\n",
       "      <th>table_img_urls</th>\n",
       "      <th>block_num</th>\n",
       "      <th>embedding_contents</th>\n",
       "      <th>doc_contents</th>\n",
       "      <th>contents_size</th>\n",
       "      <th>child_embedding_chunk</th>\n",
       "      <th>noun_token</th>\n",
       "    </tr>\n",
       "  </thead>\n",
       "  <tbody>\n",
       "    <tr>\n",
       "      <th>0</th>\n",
       "      <td>0</td>\n",
       "      <td>1.  안내 및 차량 정보</td>\n",
       "      <td>구동 모터 번호</td>\n",
       "      <td></td>\n",
       "      <td>[./image/ioniq5_2024/76_9_img.png, ./image/ion...</td>\n",
       "      <td>[]</td>\n",
       "      <td>[]</td>\n",
       "      <td>[76_7]</td>\n",
       "      <td>구동 모터 번호 \\n2WD / 4WD\\n4WD\\n구동 모터 번호는 차량 밑에서 확인...</td>\n",
       "      <td>\\n구동 모터 번호 \\n2WD / 4WD\\n4WD\\n구동 모터 번호는 차량 밑에서 ...</td>\n",
       "      <td>54</td>\n",
       "      <td>구동 모터 번호 \\n2WD / 4WD\\n4WD\\n구동 모터 번호는 차량 밑에서 확인...</td>\n",
       "      <td>[구동, 모터, 번호, WD, WD, WD, 구동, 모터, 번호, 차량, 밑, 확인]</td>\n",
       "    </tr>\n",
       "    <tr>\n",
       "      <th>1</th>\n",
       "      <td>1</td>\n",
       "      <td>1.  안내 및 차량 정보</td>\n",
       "      <td>모터룸</td>\n",
       "      <td></td>\n",
       "      <td>[./image/ioniq5_2024/70_1_img.png]</td>\n",
       "      <td>[]</td>\n",
       "      <td>[]</td>\n",
       "      <td>[70_0]</td>\n",
       "      <td>모터룸\\n이 그림은 실제 차량과 다를 수 있습니다.\\n</td>\n",
       "      <td>\\n모터룸\\n이 그림은 실제 차량과 다를 수 있습니다.</td>\n",
       "      <td>28</td>\n",
       "      <td>모터룸\\n이 그림은 실제 차량과 다를 수 있습니다.</td>\n",
       "      <td>[모터, 룸, 그림, 실제, 차량]</td>\n",
       "    </tr>\n",
       "    <tr>\n",
       "      <th>2</th>\n",
       "      <td>2</td>\n",
       "      <td>1.  안내 및 차량 정보</td>\n",
       "      <td>에어컨 시스템</td>\n",
       "      <td></td>\n",
       "      <td>[]</td>\n",
       "      <td>[|    | 에어컨 시스템   | 에어컨 시스템   | 에어컨 시스템   |\\n|...</td>\n",
       "      <td>[./image/ioniq5_2024/73_1_table.jpeg]</td>\n",
       "      <td>[73_9]</td>\n",
       "      <td>에어컨 시스템\\n에어컨 관련 작업 시, 반드시 지정된 냉매를 사용하십시오.지정되지 ...</td>\n",
       "      <td>\\n에어컨 시스템\\n에어컨 관련 작업 시, 반드시 지정된 냉매를 사용하십시오.지정되...</td>\n",
       "      <td>92</td>\n",
       "      <td>에어컨 시스템\\n에어컨 관련 작업 시, 반드시 지정된 냉매를 사용하십시오.지정되지 ...</td>\n",
       "      <td>[에어컨, 시스템, 에어컨, 관련, 작업, 지정, 냉매, 사용, 지정, 냉매, 사용...</td>\n",
       "    </tr>\n",
       "    <tr>\n",
       "      <th>3</th>\n",
       "      <td>3</td>\n",
       "      <td>1.  안내 및 차량 정보</td>\n",
       "      <td>자기 인증 라벨</td>\n",
       "      <td></td>\n",
       "      <td>[./image/ioniq5_2024/76_5_img.jpeg]</td>\n",
       "      <td>[]</td>\n",
       "      <td>[]</td>\n",
       "      <td>[76_4]</td>\n",
       "      <td>자기 인증 라벨\\n자기 인증 라벨은 차량이 대한민국 자동차 관리법령에 맞게 제작되었...</td>\n",
       "      <td>\\n자기 인증 라벨\\n자기 인증 라벨은 차량이 대한민국 자동차 관리법령에 맞게 제작...</td>\n",
       "      <td>55</td>\n",
       "      <td>자기 인증 라벨\\n자기 인증 라벨은 차량이 대한민국 자동차 관리법령에 맞게 제작되었...</td>\n",
       "      <td>[인증, 라벨, 인증, 라벨, 차량, 대한민국, 자동차, 관리, 법령, 제작]</td>\n",
       "    </tr>\n",
       "    <tr>\n",
       "      <th>4</th>\n",
       "      <td>4</td>\n",
       "      <td>1.  안내 및 차량 정보</td>\n",
       "      <td>전구의 용량</td>\n",
       "      <td></td>\n",
       "      <td>[]</td>\n",
       "      <td>[|    | 전구의 용량   | 전구의 용량                     ...</td>\n",
       "      <td>[./image/ioniq5_2024/74_0_table.jpeg]</td>\n",
       "      <td>[74_0]</td>\n",
       "      <td>전구의 용량\\nLED(Light-Emitting Diode): 발광소자\\n|    ...</td>\n",
       "      <td>\\n전구의 용량\\nLED(Light-Emitting Diode): 발광소자</td>\n",
       "      <td>39</td>\n",
       "      <td>전구의 용량\\nLED(Light-Emitting Diode): 발광소자\\n|    ...</td>\n",
       "      <td>[전구, 용량, LED, Light, Emitting, Diode, 발광, 소자, ...</td>\n",
       "    </tr>\n",
       "    <tr>\n",
       "      <th>...</th>\n",
       "      <td>...</td>\n",
       "      <td>...</td>\n",
       "      <td>...</td>\n",
       "      <td>...</td>\n",
       "      <td>...</td>\n",
       "      <td>...</td>\n",
       "      <td>...</td>\n",
       "      <td>...</td>\n",
       "      <td>...</td>\n",
       "      <td>...</td>\n",
       "      <td>...</td>\n",
       "      <td>...</td>\n",
       "      <td>...</td>\n",
       "    </tr>\n",
       "    <tr>\n",
       "      <th>1405</th>\n",
       "      <td>471</td>\n",
       "      <td>전기차 시작하기</td>\n",
       "      <td>전기 자동차 충전 표시등</td>\n",
       "      <td>충전 상태 표시등</td>\n",
       "      <td>[./image/ioniq5_2024/23_4_img.png]</td>\n",
       "      <td>[|    | 충전 표시등 동작   | 충전량[%]   |\\n|---:|:-----...</td>\n",
       "      <td>[./image/ioniq5_2024/23_1_table.jpeg]</td>\n",
       "      <td>[23_3, 23_15]</td>\n",
       "      <td>충전 도어\\n|    | 충전 표시등 동작   | 충전량[%]   |\\n|---:|...</td>\n",
       "      <td>충전 상태 표시등\\n충전 도어\\n\\n전면 범퍼 중앙</td>\n",
       "      <td>25</td>\n",
       "      <td>전면 범퍼 중앙\\n|    | 충전 표시등 동작   | 충전량[%]   |\\n|--...</td>\n",
       "      <td>[전면, 범퍼, 중앙, 충전, 표시, 동작, 충전, 량]</td>\n",
       "    </tr>\n",
       "    <tr>\n",
       "      <th>1406</th>\n",
       "      <td>472</td>\n",
       "      <td>전기차 시작하기</td>\n",
       "      <td>충전 커넥터 잠금</td>\n",
       "      <td>완속 충전 시 충전 커넥터 잠금 모드</td>\n",
       "      <td>[./image/ioniq5_2024/24_2_img.png]</td>\n",
       "      <td>[|    | 커넥터 잠금   | 동작      | 동작    | 동작      |...</td>\n",
       "      <td>[./image/ioniq5_2024/24_0_table.jpeg]</td>\n",
       "      <td>[24_1, 24_7]</td>\n",
       "      <td>완속 충전 시 충전 커넥터 잠금 모드\\n충전 커넥터를 잠금하는 기능으로 외부인이 충...</td>\n",
       "      <td>완속 충전 시 충전 커넥터 잠금 모드\\n완속 충전 시 충전 커넥터 잠금 모드\\n충전...</td>\n",
       "      <td>824</td>\n",
       "      <td>완속 충전 시 충전 커넥터 잠금 모드\\n충전 커넥터를 잠금하는 기능으로 외부인이 충...</td>\n",
       "      <td>[완, 속, 충전, 충전, 커넥터, 모드, 충전, 커넥터, 기능, 외부, 충전, 커...</td>\n",
       "    </tr>\n",
       "    <tr>\n",
       "      <th>1407</th>\n",
       "      <td>472</td>\n",
       "      <td>전기차 시작하기</td>\n",
       "      <td>충전 커넥터 잠금</td>\n",
       "      <td>완속 충전 시 충전 커넥터 잠금 모드</td>\n",
       "      <td>[./image/ioniq5_2024/24_2_img.png]</td>\n",
       "      <td>[|    | 커넥터 잠금   | 동작      | 동작    | 동작      |...</td>\n",
       "      <td>[./image/ioniq5_2024/24_0_table.jpeg]</td>\n",
       "      <td>[24_1, 24_7]</td>\n",
       "      <td>완속 충전 시 충전 커넥터 잠금 모드\\n충전 커넥터를 잠금하는 기능으로 외부인이 충...</td>\n",
       "      <td>완속 충전 시 충전 커넥터 잠금 모드\\n완속 충전 시 충전 커넥터 잠금 모드\\n충전...</td>\n",
       "      <td>824</td>\n",
       "      <td>커넥터 잠금 동작\\n 상시 잠금: 충전 커넥터를 충전 인렛에 연결하면 잠금장치가 잠...</td>\n",
       "      <td>[커넥터, 동작, 상시, 충전, 커넥터, 충전, 렛, 연결, 잠금장치, 사용, 해제...</td>\n",
       "    </tr>\n",
       "    <tr>\n",
       "      <th>1408</th>\n",
       "      <td>472</td>\n",
       "      <td>전기차 시작하기</td>\n",
       "      <td>충전 커넥터 잠금</td>\n",
       "      <td>완속 충전 시 충전 커넥터 잠금 모드</td>\n",
       "      <td>[./image/ioniq5_2024/24_2_img.png]</td>\n",
       "      <td>[|    | 커넥터 잠금   | 동작      | 동작    | 동작      |...</td>\n",
       "      <td>[./image/ioniq5_2024/24_0_table.jpeg]</td>\n",
       "      <td>[24_1, 24_7]</td>\n",
       "      <td>완속 충전 시 충전 커넥터 잠금 모드\\n충전 커넥터를 잠금하는 기능으로 외부인이 충...</td>\n",
       "      <td>완속 충전 시 충전 커넥터 잠금 모드\\n완속 충전 시 충전 커넥터 잠금 모드\\n충전...</td>\n",
       "      <td>824</td>\n",
       "      <td>|    | 커넥터 잠금   | 동작      | 동작    | 동작      |\\...</td>\n",
       "      <td>[커넥터, 동작, 동작, 동작, 상시, 충전, 사용, 안함, 충전, 전, O, X,...</td>\n",
       "    </tr>\n",
       "    <tr>\n",
       "      <th>1409</th>\n",
       "      <td>473</td>\n",
       "      <td>전기차 시작하기</td>\n",
       "      <td>충전이 시작되지 않은 경우 확인사항</td>\n",
       "      <td></td>\n",
       "      <td>[]</td>\n",
       "      <td>[]</td>\n",
       "      <td>[]</td>\n",
       "      <td>[47_0]</td>\n",
       "      <td>충전이 시작되지 않은 경우 확인사항\\n충전기를 차량에 연결한 후 충전이 시작되지 않...</td>\n",
       "      <td>\\n충전이 시작되지 않은 경우 확인사항\\n충전기를 차량에 연결한 후 충전이 시작되지...</td>\n",
       "      <td>448</td>\n",
       "      <td>충전이 시작되지 않은 경우 확인사항\\n충전기를 차량에 연결한 후 충전이 시작되지 않...</td>\n",
       "      <td>[충전, 시작, 경우, 확인, 사항, 충전기, 차량, 연결, 후, 충전, 시작, 경...</td>\n",
       "    </tr>\n",
       "  </tbody>\n",
       "</table>\n",
       "<p>1410 rows × 13 columns</p>\n",
       "</div>"
      ],
      "text/plain": [
       "      doc_id              h1                   h2                    h3  \\\n",
       "0          0  1.  안내 및 차량 정보            구동 모터 번호                          \n",
       "1          1  1.  안내 및 차량 정보                  모터룸                         \n",
       "2          2  1.  안내 및 차량 정보              에어컨 시스템                         \n",
       "3          3  1.  안내 및 차량 정보             자기 인증 라벨                         \n",
       "4          4  1.  안내 및 차량 정보               전구의 용량                         \n",
       "...      ...             ...                  ...                   ...   \n",
       "1405     471        전기차 시작하기        전기 자동차 충전 표시등             충전 상태 표시등   \n",
       "1406     472        전기차 시작하기            충전 커넥터 잠금  완속 충전 시 충전 커넥터 잠금 모드   \n",
       "1407     472        전기차 시작하기            충전 커넥터 잠금  완속 충전 시 충전 커넥터 잠금 모드   \n",
       "1408     472        전기차 시작하기            충전 커넥터 잠금  완속 충전 시 충전 커넥터 잠금 모드   \n",
       "1409     473        전기차 시작하기  충전이 시작되지 않은 경우 확인사항                         \n",
       "\n",
       "                                               img_urls  \\\n",
       "0     [./image/ioniq5_2024/76_9_img.png, ./image/ion...   \n",
       "1                    [./image/ioniq5_2024/70_1_img.png]   \n",
       "2                                                    []   \n",
       "3                   [./image/ioniq5_2024/76_5_img.jpeg]   \n",
       "4                                                    []   \n",
       "...                                                 ...   \n",
       "1405                 [./image/ioniq5_2024/23_4_img.png]   \n",
       "1406                 [./image/ioniq5_2024/24_2_img.png]   \n",
       "1407                 [./image/ioniq5_2024/24_2_img.png]   \n",
       "1408                 [./image/ioniq5_2024/24_2_img.png]   \n",
       "1409                                                 []   \n",
       "\n",
       "                                         table_contents  \\\n",
       "0                                                    []   \n",
       "1                                                    []   \n",
       "2     [|    | 에어컨 시스템   | 에어컨 시스템   | 에어컨 시스템   |\\n|...   \n",
       "3                                                    []   \n",
       "4     [|    | 전구의 용량   | 전구의 용량                     ...   \n",
       "...                                                 ...   \n",
       "1405  [|    | 충전 표시등 동작   | 충전량[%]   |\\n|---:|:-----...   \n",
       "1406  [|    | 커넥터 잠금   | 동작      | 동작    | 동작      |...   \n",
       "1407  [|    | 커넥터 잠금   | 동작      | 동작    | 동작      |...   \n",
       "1408  [|    | 커넥터 잠금   | 동작      | 동작    | 동작      |...   \n",
       "1409                                                 []   \n",
       "\n",
       "                             table_img_urls      block_num  \\\n",
       "0                                        []         [76_7]   \n",
       "1                                        []         [70_0]   \n",
       "2     [./image/ioniq5_2024/73_1_table.jpeg]         [73_9]   \n",
       "3                                        []         [76_4]   \n",
       "4     [./image/ioniq5_2024/74_0_table.jpeg]         [74_0]   \n",
       "...                                     ...            ...   \n",
       "1405  [./image/ioniq5_2024/23_1_table.jpeg]  [23_3, 23_15]   \n",
       "1406  [./image/ioniq5_2024/24_0_table.jpeg]   [24_1, 24_7]   \n",
       "1407  [./image/ioniq5_2024/24_0_table.jpeg]   [24_1, 24_7]   \n",
       "1408  [./image/ioniq5_2024/24_0_table.jpeg]   [24_1, 24_7]   \n",
       "1409                                     []         [47_0]   \n",
       "\n",
       "                                     embedding_contents  \\\n",
       "0     구동 모터 번호 \\n2WD / 4WD\\n4WD\\n구동 모터 번호는 차량 밑에서 확인...   \n",
       "1                        모터룸\\n이 그림은 실제 차량과 다를 수 있습니다.\\n   \n",
       "2     에어컨 시스템\\n에어컨 관련 작업 시, 반드시 지정된 냉매를 사용하십시오.지정되지 ...   \n",
       "3     자기 인증 라벨\\n자기 인증 라벨은 차량이 대한민국 자동차 관리법령에 맞게 제작되었...   \n",
       "4     전구의 용량\\nLED(Light-Emitting Diode): 발광소자\\n|    ...   \n",
       "...                                                 ...   \n",
       "1405  충전 도어\\n|    | 충전 표시등 동작   | 충전량[%]   |\\n|---:|...   \n",
       "1406  완속 충전 시 충전 커넥터 잠금 모드\\n충전 커넥터를 잠금하는 기능으로 외부인이 충...   \n",
       "1407  완속 충전 시 충전 커넥터 잠금 모드\\n충전 커넥터를 잠금하는 기능으로 외부인이 충...   \n",
       "1408  완속 충전 시 충전 커넥터 잠금 모드\\n충전 커넥터를 잠금하는 기능으로 외부인이 충...   \n",
       "1409  충전이 시작되지 않은 경우 확인사항\\n충전기를 차량에 연결한 후 충전이 시작되지 않...   \n",
       "\n",
       "                                           doc_contents  contents_size  \\\n",
       "0     \\n구동 모터 번호 \\n2WD / 4WD\\n4WD\\n구동 모터 번호는 차량 밑에서 ...             54   \n",
       "1                        \\n모터룸\\n이 그림은 실제 차량과 다를 수 있습니다.             28   \n",
       "2     \\n에어컨 시스템\\n에어컨 관련 작업 시, 반드시 지정된 냉매를 사용하십시오.지정되...             92   \n",
       "3     \\n자기 인증 라벨\\n자기 인증 라벨은 차량이 대한민국 자동차 관리법령에 맞게 제작...             55   \n",
       "4             \\n전구의 용량\\nLED(Light-Emitting Diode): 발광소자             39   \n",
       "...                                                 ...            ...   \n",
       "1405                       충전 상태 표시등\\n충전 도어\\n\\n전면 범퍼 중앙             25   \n",
       "1406  완속 충전 시 충전 커넥터 잠금 모드\\n완속 충전 시 충전 커넥터 잠금 모드\\n충전...            824   \n",
       "1407  완속 충전 시 충전 커넥터 잠금 모드\\n완속 충전 시 충전 커넥터 잠금 모드\\n충전...            824   \n",
       "1408  완속 충전 시 충전 커넥터 잠금 모드\\n완속 충전 시 충전 커넥터 잠금 모드\\n충전...            824   \n",
       "1409  \\n충전이 시작되지 않은 경우 확인사항\\n충전기를 차량에 연결한 후 충전이 시작되지...            448   \n",
       "\n",
       "                                  child_embedding_chunk  \\\n",
       "0     구동 모터 번호 \\n2WD / 4WD\\n4WD\\n구동 모터 번호는 차량 밑에서 확인...   \n",
       "1                          모터룸\\n이 그림은 실제 차량과 다를 수 있습니다.   \n",
       "2     에어컨 시스템\\n에어컨 관련 작업 시, 반드시 지정된 냉매를 사용하십시오.지정되지 ...   \n",
       "3     자기 인증 라벨\\n자기 인증 라벨은 차량이 대한민국 자동차 관리법령에 맞게 제작되었...   \n",
       "4     전구의 용량\\nLED(Light-Emitting Diode): 발광소자\\n|    ...   \n",
       "...                                                 ...   \n",
       "1405  전면 범퍼 중앙\\n|    | 충전 표시등 동작   | 충전량[%]   |\\n|--...   \n",
       "1406  완속 충전 시 충전 커넥터 잠금 모드\\n충전 커넥터를 잠금하는 기능으로 외부인이 충...   \n",
       "1407  커넥터 잠금 동작\\n 상시 잠금: 충전 커넥터를 충전 인렛에 연결하면 잠금장치가 잠...   \n",
       "1408  |    | 커넥터 잠금   | 동작      | 동작    | 동작      |\\...   \n",
       "1409  충전이 시작되지 않은 경우 확인사항\\n충전기를 차량에 연결한 후 충전이 시작되지 않...   \n",
       "\n",
       "                                             noun_token  \n",
       "0       [구동, 모터, 번호, WD, WD, WD, 구동, 모터, 번호, 차량, 밑, 확인]  \n",
       "1                                   [모터, 룸, 그림, 실제, 차량]  \n",
       "2     [에어컨, 시스템, 에어컨, 관련, 작업, 지정, 냉매, 사용, 지정, 냉매, 사용...  \n",
       "3           [인증, 라벨, 인증, 라벨, 차량, 대한민국, 자동차, 관리, 법령, 제작]  \n",
       "4     [전구, 용량, LED, Light, Emitting, Diode, 발광, 소자, ...  \n",
       "...                                                 ...  \n",
       "1405                    [전면, 범퍼, 중앙, 충전, 표시, 동작, 충전, 량]  \n",
       "1406  [완, 속, 충전, 충전, 커넥터, 모드, 충전, 커넥터, 기능, 외부, 충전, 커...  \n",
       "1407  [커넥터, 동작, 상시, 충전, 커넥터, 충전, 렛, 연결, 잠금장치, 사용, 해제...  \n",
       "1408  [커넥터, 동작, 동작, 동작, 상시, 충전, 사용, 안함, 충전, 전, O, X,...  \n",
       "1409  [충전, 시작, 경우, 확인, 사항, 충전기, 차량, 연결, 후, 충전, 시작, 경...  \n",
       "\n",
       "[1410 rows x 13 columns]"
      ]
     },
     "execution_count": 365,
     "metadata": {},
     "output_type": "execute_result"
    }
   ],
   "source": [
    "df"
   ]
  },
  {
   "cell_type": "code",
   "execution_count": 366,
   "metadata": {},
   "outputs": [],
   "source": [
    "client = OpenAI(api_key=OPENAI_API_KEY)"
   ]
  },
  {
   "cell_type": "code",
   "execution_count": 367,
   "metadata": {},
   "outputs": [],
   "source": [
    "global tokens\n",
    "\n",
    "tokens=0\n",
    "\n",
    "\n",
    "def get_embedding(text):\n",
    "    response = client.embeddings.create(\n",
    "        model=\"text-embedding-3-large\",\n",
    "        input=text\n",
    "    )\n",
    "    global tokens\n",
    "    tokens = tokens + response.usage.total_tokens\n",
    "    # print(index)\n",
    "    return response.data[0].embedding"
   ]
  },
  {
   "cell_type": "code",
   "execution_count": 368,
   "metadata": {},
   "outputs": [],
   "source": [
    "df['child_embedding_chunk'] = \\\n",
    "    df['h3'].fillna('') + '\\n' + \\\n",
    "    df['child_embedding_chunk']"
   ]
  },
  {
   "cell_type": "code",
   "execution_count": 369,
   "metadata": {},
   "outputs": [
    {
     "name": "stderr",
     "output_type": "stream",
     "text": [
      "100%|██████████| 1410/1410 [15:06<00:00,  1.56it/s]\n"
     ]
    }
   ],
   "source": [
    "embedding_result = df['child_embedding_chunk'].progress_apply(lambda x: get_embedding(x))"
   ]
  },
  {
   "cell_type": "code",
   "execution_count": 372,
   "metadata": {},
   "outputs": [
    {
     "name": "stdout",
     "output_type": "stream",
     "text": [
      "TOKEN USAGE: 421504\n",
      "PRICE USAGE: 10.8533935546875원\n"
     ]
    }
   ],
   "source": [
    "print(f\"TOKEN USAGE: {tokens}\")\n",
    "print(f\"PRICE USAGE: {(tokens/1024/1024)*0.02*1350}원\")"
   ]
  },
  {
   "cell_type": "code",
   "execution_count": 373,
   "metadata": {},
   "outputs": [],
   "source": [
    "df['embeddings'] = embedding_result"
   ]
  },
  {
   "cell_type": "markdown",
   "metadata": {},
   "source": [
    "## Embedding 결과 저장"
   ]
  },
  {
   "cell_type": "code",
   "execution_count": 374,
   "metadata": {},
   "outputs": [],
   "source": [
    "embedding_result_path = exp_dir + '/embeddings_pc_chunking.parquet'\n",
    "df.to_parquet(embedding_result_path, index=False)"
   ]
  },
  {
   "cell_type": "markdown",
   "metadata": {},
   "source": [
    "# Vector DB 저장"
   ]
  },
  {
   "cell_type": "code",
   "execution_count": 375,
   "metadata": {},
   "outputs": [],
   "source": [
    "MILVUS_HOST = os.environ['MILVUS_HOST']\n",
    "MILVUS_PORT = os.environ['MILVUS_PORT']\n",
    "COLLECTION_NAME = \"IONIQ5_2024\"\n",
    "connections.connect(alias=\"default\", host=MILVUS_HOST, port=MILVUS_PORT)"
   ]
  },
  {
   "cell_type": "code",
   "execution_count": 376,
   "metadata": {},
   "outputs": [],
   "source": [
    "embedding_result_path = exp_dir + '/embeddings_pc_chunking.parquet'\n",
    "df = pd.read_parquet(embedding_result_path)"
   ]
  },
  {
   "cell_type": "markdown",
   "metadata": {},
   "source": [
    "## Document 내 header 제외"
   ]
  },
  {
   "cell_type": "markdown",
   "metadata": {},
   "source": [
    "**내용이 없기 때문**"
   ]
  },
  {
   "cell_type": "code",
   "execution_count": 377,
   "metadata": {},
   "outputs": [],
   "source": [
    "df['car_type'] = documnet_name"
   ]
  },
  {
   "cell_type": "markdown",
   "metadata": {},
   "source": [
    "**Collection 삭제 예시**"
   ]
  },
  {
   "cell_type": "code",
   "execution_count": 382,
   "metadata": {},
   "outputs": [],
   "source": [
    "utility.drop_collection(COLLECTION_NAME)"
   ]
  },
  {
   "cell_type": "code",
   "execution_count": 383,
   "metadata": {},
   "outputs": [
    {
     "data": {
      "text/html": [
       "<div>\n",
       "<style scoped>\n",
       "    .dataframe tbody tr th:only-of-type {\n",
       "        vertical-align: middle;\n",
       "    }\n",
       "\n",
       "    .dataframe tbody tr th {\n",
       "        vertical-align: top;\n",
       "    }\n",
       "\n",
       "    .dataframe thead th {\n",
       "        text-align: right;\n",
       "    }\n",
       "</style>\n",
       "<table border=\"1\" class=\"dataframe\">\n",
       "  <thead>\n",
       "    <tr style=\"text-align: right;\">\n",
       "      <th></th>\n",
       "      <th>index</th>\n",
       "      <th>doc_id</th>\n",
       "      <th>h1</th>\n",
       "      <th>h2</th>\n",
       "      <th>h3</th>\n",
       "      <th>img_urls</th>\n",
       "      <th>table_contents</th>\n",
       "      <th>table_img_urls</th>\n",
       "      <th>block_num</th>\n",
       "      <th>embedding_contents</th>\n",
       "      <th>doc_contents</th>\n",
       "      <th>contents_size</th>\n",
       "      <th>child_embedding_chunk</th>\n",
       "      <th>noun_token</th>\n",
       "      <th>embeddings</th>\n",
       "      <th>car_type</th>\n",
       "    </tr>\n",
       "  </thead>\n",
       "  <tbody>\n",
       "    <tr>\n",
       "      <th>0</th>\n",
       "      <td>0</td>\n",
       "      <td>0</td>\n",
       "      <td>1.  안내 및 차량 정보</td>\n",
       "      <td>구동 모터 번호</td>\n",
       "      <td></td>\n",
       "      <td>[./image/ioniq5_2024/76_9_img.png, ./image/ion...</td>\n",
       "      <td>[]</td>\n",
       "      <td>[]</td>\n",
       "      <td>[76_7]</td>\n",
       "      <td>구동 모터 번호 \\n2WD / 4WD\\n4WD\\n구동 모터 번호는 차량 밑에서 확인...</td>\n",
       "      <td>\\n구동 모터 번호 \\n2WD / 4WD\\n4WD\\n구동 모터 번호는 차량 밑에서 ...</td>\n",
       "      <td>54</td>\n",
       "      <td>\\n구동 모터 번호 \\n2WD / 4WD\\n4WD\\n구동 모터 번호는 차량 밑에서 ...</td>\n",
       "      <td>[구동, 모터, 번호, WD, WD, WD, 구동, 모터, 번호, 차량, 밑, 확인]</td>\n",
       "      <td>[-0.008841953240334988, 0.009490522556006908, ...</td>\n",
       "      <td>IONIQ5_2024</td>\n",
       "    </tr>\n",
       "  </tbody>\n",
       "</table>\n",
       "</div>"
      ],
      "text/plain": [
       "   index  doc_id              h1         h2 h3  \\\n",
       "0      0       0  1.  안내 및 차량 정보  구동 모터 번호       \n",
       "\n",
       "                                            img_urls table_contents  \\\n",
       "0  [./image/ioniq5_2024/76_9_img.png, ./image/ion...             []   \n",
       "\n",
       "  table_img_urls block_num                                 embedding_contents  \\\n",
       "0             []    [76_7]  구동 모터 번호 \\n2WD / 4WD\\n4WD\\n구동 모터 번호는 차량 밑에서 확인...   \n",
       "\n",
       "                                        doc_contents  contents_size  \\\n",
       "0  \\n구동 모터 번호 \\n2WD / 4WD\\n4WD\\n구동 모터 번호는 차량 밑에서 ...             54   \n",
       "\n",
       "                               child_embedding_chunk  \\\n",
       "0  \\n구동 모터 번호 \\n2WD / 4WD\\n4WD\\n구동 모터 번호는 차량 밑에서 ...   \n",
       "\n",
       "                                        noun_token  \\\n",
       "0  [구동, 모터, 번호, WD, WD, WD, 구동, 모터, 번호, 차량, 밑, 확인]   \n",
       "\n",
       "                                          embeddings     car_type  \n",
       "0  [-0.008841953240334988, 0.009490522556006908, ...  IONIQ5_2024  "
      ]
     },
     "execution_count": 383,
     "metadata": {},
     "output_type": "execute_result"
    }
   ],
   "source": [
    "df.head(1)"
   ]
  },
  {
   "cell_type": "markdown",
   "metadata": {},
   "source": [
    "## Collection 생성"
   ]
  },
  {
   "cell_type": "code",
   "execution_count": 384,
   "metadata": {},
   "outputs": [],
   "source": [
    "id_field = FieldSchema(name=\"id\", dtype=DataType.INT64, is_primary=True, auto_id=False)\n",
    "car_type_filed = FieldSchema(name=\"car_type\", dtype=DataType.VARCHAR, max_length=100, is_primary=False, auto_id=False,\n",
    "                           description='차종')\n",
    "major_h_filed = FieldSchema(name=\"majorheading\", dtype=DataType.VARCHAR, max_length=100, is_primary=False, auto_id=False,\n",
    "                           description='설명서의 대제목')\n",
    "sub_h_filed = FieldSchema(name=\"subheading\", dtype=DataType.VARCHAR, max_length=100, is_primary=False, auto_id=False,\n",
    "                         description='설명서의 중제목')\n",
    "minor_h_filed = FieldSchema(name=\"minorheading\", dtype=DataType.VARCHAR, max_length=100, is_primary=False, auto_id=False,\n",
    "                           description='설명서의 소제목')\n",
    "\n",
    "\n",
    "imgurl_filed = FieldSchema(name=\"img_urls\", dtype=DataType.ARRAY, element_type=DataType.VARCHAR, max_capacity=20, max_length=50,\n",
    "                            description='이미지 URL 경로')\n",
    "tblimgurl_field = FieldSchema(name=\"tbl_img_urls\", dtype=DataType.ARRAY, element_type=DataType.VARCHAR, max_capacity=20, max_length=50,\n",
    "                            description='표 이미지 URL 경로')\n",
    "tbl_contents_filed = FieldSchema(name=\"tbl_contents\", dtype=DataType.ARRAY, element_type=DataType.VARCHAR, max_capacity=20, max_length=3000,\n",
    "                            description='표 내용')\n",
    "\n",
    "noun_token_filed = FieldSchema(name=\"noun_tokens\", dtype=DataType.ARRAY, element_type=DataType.VARCHAR, max_capacity=500, max_length=100,\n",
    "                            description='표 이미지 URL 경로')\n",
    "embedding_contents_filed = FieldSchema(name=\"embedding_contents\", dtype=DataType.VARCHAR, max_length=20000, is_primary=False, auto_id=False,\n",
    "                            description='검증용 임베딩 내용')\n",
    "parent_contents_filed = FieldSchema(name=\"doc_contents\", dtype=DataType.VARCHAR, max_length=20000, is_primary=False, auto_id=False,\n",
    "                            description='검증용 Parent 설명서의 내용')\n",
    "doc_id_filed = FieldSchema(name=\"doc_id\", dtype=DataType.INT64, max_length=20000, is_primary=False, auto_id=False,\n",
    "                            description='Parent 문서 ID')\n",
    "vector_filed = FieldSchema(name=\"vector\", dtype=DataType.FLOAT_VECTOR, dim=3072)\n",
    "# 컬렉션 스키마 정의\n",
    "schema = CollectionSchema(\n",
    "    fields=[\n",
    "        id_field, \n",
    "        car_type_filed,\n",
    "        major_h_filed,\n",
    "        sub_h_filed,\n",
    "        minor_h_filed,\n",
    "        imgurl_filed,\n",
    "        tblimgurl_field,\n",
    "        tbl_contents_filed,\n",
    "        noun_token_filed,\n",
    "        embedding_contents_filed,\n",
    "        parent_contents_filed,\n",
    "        doc_id_filed,\n",
    "        vector_filed],\n",
    "    description=\"2024 아이오닉5 문서\"\n",
    ")\n",
    "\n",
    "# 컬렉션 생성\n",
    "if COLLECTION_NAME not in utility.list_collections():\n",
    "    collection = Collection(name=COLLECTION_NAME, schema=schema)\n",
    "else:\n",
    "    collection = Collection(name=COLLECTION_NAME)\n",
    "\n"
   ]
  },
  {
   "cell_type": "markdown",
   "metadata": {},
   "source": [
    "## Data 적재"
   ]
  },
  {
   "cell_type": "code",
   "execution_count": 385,
   "metadata": {},
   "outputs": [],
   "source": [
    "#Index 생성\n",
    "df = df.reset_index(drop=True).reset_index()\n",
    "\n",
    "# Pandas DataFrame에서 데이터 추출 및 Milvus에 삽입\n",
    "ids = df['index'].to_list()\n",
    "car_types = df['car_type'].to_list()\n",
    "h1s = df['h1'].to_list()\n",
    "h2s = df['h2'].fillna('').astype(str).to_list()\n",
    "h3s = df['h3'].fillna('').astype(str).to_list()\n",
    "img_urls = df['img_urls'].to_list()\n",
    "table_img_urls = df['table_img_urls'].to_list()\n",
    "table_contents = df['table_contents'].to_list()\n",
    "noun_token = df['noun_token'].to_list()\n",
    "embedding_cont = df['child_embedding_chunk'].to_list()\n",
    "cons = df['doc_contents'].to_list()\n",
    "doc_id = df['doc_id'].to_list()\n",
    "vectors = df['embeddings'].to_list()"
   ]
  },
  {
   "cell_type": "code",
   "execution_count": 236,
   "metadata": {},
   "outputs": [],
   "source": [
    "if COLLECTION_NAME not in utility.list_collections():\n",
    "    mr = collection.insert([ids, car_types, h1s, h2s, h3s, img_urls, table_img_urls, table_contents, noun_token, embedding_cont, cons, doc_id, vectors])"
   ]
  },
  {
   "cell_type": "markdown",
   "metadata": {},
   "source": [
    "## Index 생성"
   ]
  },
  {
   "cell_type": "code",
   "execution_count": 387,
   "metadata": {},
   "outputs": [
    {
     "data": {
      "text/plain": [
       "<Axes: ylabel='Frequency'>"
      ]
     },
     "execution_count": 387,
     "metadata": {},
     "output_type": "execute_result"
    },
    {
     "data": {
      "image/png": "[encoded data removed]",
      "text/plain": [
       "<Figure size 640x480 with 1 Axes>"
      ]
     },
     "metadata": {},
     "output_type": "display_data"
    }
   ],
   "source": [
    "df.groupby('h3').size().plot.hist(bins=50)"
   ]
  },
  {
   "cell_type": "code",
   "execution_count": 519,
   "metadata": {},
   "outputs": [],
   "source": [
    "M = 20\n",
    "efConstruction=30"
   ]
  },
  {
   "cell_type": "code",
   "execution_count": 520,
   "metadata": {},
   "outputs": [],
   "source": [
    "collection.release()\n",
    "collection.drop_index()"
   ]
  },
  {
   "cell_type": "code",
   "execution_count": 521,
   "metadata": {},
   "outputs": [
    {
     "data": {
      "text/plain": [
       "Status(code=0, message=)"
      ]
     },
     "execution_count": 521,
     "metadata": {},
     "output_type": "execute_result"
    }
   ],
   "source": [
    "collection.create_index(\n",
    "    field_name=\"vector\", \n",
    "    index_params={\n",
    "        \"index_type\": \"HNSW\", \n",
    "        \"metric_type\": \"COSINE\", \n",
    "        \"params\": {\"M\": M, 'efConstruction':efConstruction} # Cluster 개수\n",
    "        }\n",
    ")\n",
    "\n",
    "# collection.create_index(\n",
    "#     field_name=\"vector\", \n",
    "#     index_params={\n",
    "#         \"index_type\": \"IVF_FLAT\", \n",
    "#         \"metric_type\": \"COSINE\", \n",
    "#         \"params\": {\"nlist\": df['h2'].nunique()} # Cluster 개수\n",
    "#         }\n",
    "# )"
   ]
  },
  {
   "cell_type": "code",
   "execution_count": 522,
   "metadata": {},
   "outputs": [],
   "source": [
    "collection = Collection(documnet_name)\n",
    "collection.load()"
   ]
  },
  {
   "cell_type": "markdown",
   "metadata": {},
   "source": [
    "# Evaluation"
   ]
  },
  {
   "cell_type": "markdown",
   "metadata": {},
   "source": [
    "## 평가 데이터 불러오기"
   ]
  },
  {
   "cell_type": "code",
   "execution_count": 484,
   "metadata": {},
   "outputs": [],
   "source": [
    "df = pd.read_parquet(\"/Users/yj/Kim/3.study/5.GenAI/my-small-mechanic/embeddings/evaluation_dataset/evaluation_qaset_240429_gpt35-turbo.parquet\")"
   ]
  },
  {
   "cell_type": "code",
   "execution_count": 485,
   "metadata": {},
   "outputs": [],
   "source": [
    "client = OpenAI(api_key=os.environ['OPENAI_API_KEY'])"
   ]
  },
  {
   "cell_type": "code",
   "execution_count": 523,
   "metadata": {},
   "outputs": [],
   "source": [
    "topK = 3\n",
    "ef = 30\n",
    "SEARCH_PARAM = {\n",
    "    \"index_type\": \"HNSW\", \"metric_type\": \"COSINE\", \"params\": {\"ef\": ef}\n",
    "}\n",
    "\n",
    "def get_embedding(text):\n",
    "    response = client.embeddings.create(\n",
    "        model=\"text-embedding-3-large\",\n",
    "        input=text\n",
    "    )\n",
    "    return response.data[0].embedding\n",
    "\n",
    "def embed_search(search_string):\n",
    "    search_embeddings = get_embedding(search_string)#['vectors'][0].tolist()\n",
    "    return search_embeddings\n",
    "\n",
    "\n",
    "def search_doc(query, topK=3):\n",
    "    user_vector = embed_search(query)\n",
    "    results = collection.search([user_vector],\"vector\",param=SEARCH_PARAM, limit=topK, expr=None, \n",
    "                             output_fields=['majorheading', 'subheading', 'minorheading', 'doc_contents', 'img_urls', 'tbl_img_urls', 'tbl_contents', 'doc_id', 'embedding_contents'])\n",
    "\n",
    "    search_dict = {}\n",
    "    \n",
    "    for i, result in enumerate(results[0]):\n",
    "        doc_entity = result.entity\n",
    "        doc = {\n",
    "            'distance': result.distance,\n",
    "            'majorheading': doc_entity.get('majorheading'),\n",
    "            'subheading': doc_entity.get('subheading'),\n",
    "            'minorheading': doc_entity.get('minorheading'),\n",
    "            'doc_contents': doc_entity.get('doc_contents'),\n",
    "            'img_urls': doc_entity.get('img_urls'),\n",
    "            'tbl_img_urls': doc_entity.get('tbl_img_urls'),\n",
    "            'tbl_contents': doc_entity.get('tbl_contents'),\n",
    "            'doc_id': doc_entity.get('doc_id'),\n",
    "            'embedding_contents': doc_entity.get('embedding_contents'),\n",
    "            \n",
    "        }\n",
    "        search_dict[i] = doc\n",
    "    return search_dict"
   ]
  },
  {
   "cell_type": "markdown",
   "metadata": {},
   "source": [
    "## 평가"
   ]
  },
  {
   "cell_type": "code",
   "execution_count": 524,
   "metadata": {},
   "outputs": [],
   "source": [
    "qaset = df[['doc_id', 'doc_contents', '질문', '대답']].copy()"
   ]
  },
  {
   "cell_type": "code",
   "execution_count": 525,
   "metadata": {},
   "outputs": [],
   "source": [
    "qaset['doc1'] = np.nan\n",
    "qaset['doc2'] = np.nan\n",
    "qaset['doc3'] = np.nan\n",
    "qaset['doc4'] = np.nan\n",
    "qaset['doc5'] = np.nan\n"
   ]
  },
  {
   "cell_type": "code",
   "execution_count": 526,
   "metadata": {},
   "outputs": [],
   "source": [
    "topK=5"
   ]
  },
  {
   "cell_type": "code",
   "execution_count": 528,
   "metadata": {},
   "outputs": [
    {
     "name": "stderr",
     "output_type": "stream",
     "text": [
      "751it [06:09,  2.03it/s]\n"
     ]
    }
   ],
   "source": [
    "for i, row in tqdm(qaset[qaset['doc1'].isna()].iterrows()):\n",
    "    query = row['질문']\n",
    "    quert_result = search_doc(query, topK)\n",
    "    for k, v in quert_result.items():\n",
    "        columns = f\"doc{k+1}\"\n",
    "        qaset.loc[i, columns] = v['doc_id']\n",
    "        \n",
    "    # if i==10:\n",
    "    #     break"
   ]
  },
  {
   "cell_type": "code",
   "execution_count": 277,
   "metadata": {},
   "outputs": [],
   "source": [
    "qaset.to_parquet(f'../result/{exp_name}/prediection_240429_gpt35_xmlcontext.parquet', index=False)"
   ]
  },
  {
   "cell_type": "code",
   "execution_count": 78,
   "metadata": {},
   "outputs": [],
   "source": [
    "sample_qaset = qaset.loc[0:99].copy()"
   ]
  },
  {
   "cell_type": "markdown",
   "metadata": {},
   "source": [
    "## Top 1 정확도"
   ]
  },
  {
   "cell_type": "code",
   "execution_count": 491,
   "metadata": {},
   "outputs": [],
   "source": [
    "qaset = pd.read_parquet(f'../result/{exp_name}/prediection_240429_gpt35_xmlcontext.parquet')"
   ]
  },
  {
   "cell_type": "code",
   "execution_count": 492,
   "metadata": {},
   "outputs": [
    {
     "data": {
      "text/html": [
       "<div>\n",
       "<style scoped>\n",
       "    .dataframe tbody tr th:only-of-type {\n",
       "        vertical-align: middle;\n",
       "    }\n",
       "\n",
       "    .dataframe tbody tr th {\n",
       "        vertical-align: top;\n",
       "    }\n",
       "\n",
       "    .dataframe thead th {\n",
       "        text-align: right;\n",
       "    }\n",
       "</style>\n",
       "<table border=\"1\" class=\"dataframe\">\n",
       "  <thead>\n",
       "    <tr style=\"text-align: right;\">\n",
       "      <th></th>\n",
       "      <th>doc_id</th>\n",
       "      <th>doc_contents</th>\n",
       "      <th>질문</th>\n",
       "      <th>대답</th>\n",
       "      <th>doc1</th>\n",
       "      <th>doc2</th>\n",
       "      <th>doc3</th>\n",
       "      <th>doc4</th>\n",
       "      <th>doc5</th>\n",
       "    </tr>\n",
       "  </thead>\n",
       "  <tbody>\n",
       "    <tr>\n",
       "      <th>0</th>\n",
       "      <td>0</td>\n",
       "      <td>\\n구동 모터 번호 \\n2WD / 4WD\\n4WD\\n구동 모터 번호는 차량 밑에서 ...</td>\n",
       "      <td>구동 모터 번호는 어디에서 확인할 수 있나요?</td>\n",
       "      <td>구동 모터 번호는 차량 밑에서 확인할 수 있습니다.</td>\n",
       "      <td>0.0</td>\n",
       "      <td>5.0</td>\n",
       "      <td>214.0</td>\n",
       "      <td>214.0</td>\n",
       "      <td>214.0</td>\n",
       "    </tr>\n",
       "    <tr>\n",
       "      <th>1</th>\n",
       "      <td>1</td>\n",
       "      <td>\\n모터룸\\n이 그림은 실제 차량과 다를 수 있습니다.</td>\n",
       "      <td>모터룸에 대해 어떤 내용이 포함되어 있나요?</td>\n",
       "      <td>모터룸에 대한 그림은 실제 차량과 다를 수 있다고 언급되어 있습니다.</td>\n",
       "      <td>1.0</td>\n",
       "      <td>395.0</td>\n",
       "      <td>19.0</td>\n",
       "      <td>429.0</td>\n",
       "      <td>416.0</td>\n",
       "    </tr>\n",
       "    <tr>\n",
       "      <th>2</th>\n",
       "      <td>2</td>\n",
       "      <td>\\n에어컨 시스템\\n에어컨 관련 작업 시, 반드시 지정된 냉매를 사용하십시오.지정되...</td>\n",
       "      <td>에어컨 시스템 작업 시 지정된 냉매를 사용해야 하는 이유는 무엇인가요?</td>\n",
       "      <td>지정되지 않은 냉매를 사용하면 냉방 성능이 저하되고 심각한 부품 손상이 발생할 수 ...</td>\n",
       "      <td>2.0</td>\n",
       "      <td>227.0</td>\n",
       "      <td>227.0</td>\n",
       "      <td>227.0</td>\n",
       "      <td>226.0</td>\n",
       "    </tr>\n",
       "    <tr>\n",
       "      <th>3</th>\n",
       "      <td>2</td>\n",
       "      <td>\\n에어컨 시스템\\n에어컨 관련 작업 시, 반드시 지정된 냉매를 사용하십시오.지정되...</td>\n",
       "      <td>에어컨 시스템에서 사용되는 에어컨 냉매의 용량은 얼마인가요?</td>\n",
       "      <td>에어컨 냉매의 용량은 900g±25입니다.</td>\n",
       "      <td>2.0</td>\n",
       "      <td>227.0</td>\n",
       "      <td>227.0</td>\n",
       "      <td>227.0</td>\n",
       "      <td>416.0</td>\n",
       "    </tr>\n",
       "    <tr>\n",
       "      <th>4</th>\n",
       "      <td>2</td>\n",
       "      <td>\\n에어컨 시스템\\n에어컨 관련 작업 시, 반드시 지정된 냉매를 사용하십시오.지정되...</td>\n",
       "      <td>에어컨 시스템에 사용되는 냉동유의 용량은 얼마인가요?</td>\n",
       "      <td>냉동유의 용량은 180±10입니다.</td>\n",
       "      <td>2.0</td>\n",
       "      <td>227.0</td>\n",
       "      <td>227.0</td>\n",
       "      <td>416.0</td>\n",
       "      <td>416.0</td>\n",
       "    </tr>\n",
       "    <tr>\n",
       "      <th>...</th>\n",
       "      <td>...</td>\n",
       "      <td>...</td>\n",
       "      <td>...</td>\n",
       "      <td>...</td>\n",
       "      <td>...</td>\n",
       "      <td>...</td>\n",
       "      <td>...</td>\n",
       "      <td>...</td>\n",
       "      <td>...</td>\n",
       "    </tr>\n",
       "    <tr>\n",
       "      <th>1319</th>\n",
       "      <td>472</td>\n",
       "      <td>완속 충전 시 충전 커넥터 잠금 모드\\n완속 충전 시 충전 커넥터 잠금 모드\\n충전...</td>\n",
       "      <td>완속 충전 시 충전 커넥터 잠금 모드는 어떤 기능을 하는 건가요?</td>\n",
       "      <td>완속 충전 시 충전 커넥터 잠금 모드는 외부인이 충전 커넥터를 충전 인렛으로부터 분...</td>\n",
       "      <td>472.0</td>\n",
       "      <td>472.0</td>\n",
       "      <td>472.0</td>\n",
       "      <td>461.0</td>\n",
       "      <td>461.0</td>\n",
       "    </tr>\n",
       "    <tr>\n",
       "      <th>1320</th>\n",
       "      <td>472</td>\n",
       "      <td>완속 충전 시 충전 커넥터 잠금 모드\\n완속 충전 시 충전 커넥터 잠금 모드\\n충전...</td>\n",
       "      <td>충전 커넥터 잠금을 해제하려면 어떤 작업을 해야 하나요?</td>\n",
       "      <td>충전 커넥터 잠금을 해제하기 위해서는 차량 도어 잠금을 해제해야 합니다.</td>\n",
       "      <td>472.0</td>\n",
       "      <td>472.0</td>\n",
       "      <td>461.0</td>\n",
       "      <td>460.0</td>\n",
       "      <td>472.0</td>\n",
       "    </tr>\n",
       "    <tr>\n",
       "      <th>1321</th>\n",
       "      <td>472</td>\n",
       "      <td>완속 충전 시 충전 커넥터 잠금 모드\\n완속 충전 시 충전 커넥터 잠금 모드\\n충전...</td>\n",
       "      <td>충전 중에 도어를 잠그면 어떻게 되나요?</td>\n",
       "      <td>충전 중에 도어를 잠그면 충전 커넥터도 즉시 다시 잠기게 됩니다.</td>\n",
       "      <td>463.0</td>\n",
       "      <td>178.0</td>\n",
       "      <td>463.0</td>\n",
       "      <td>178.0</td>\n",
       "      <td>461.0</td>\n",
       "    </tr>\n",
       "    <tr>\n",
       "      <th>1322</th>\n",
       "      <td>473</td>\n",
       "      <td>\\n충전이 시작되지 않은 경우 확인사항\\n충전기를 차량에 연결한 후 충전이 시작되지...</td>\n",
       "      <td>충전이 시작되지 않은 경우 어떤 확인사항을 해야 하나요?</td>\n",
       "      <td>충전이 시작되지 않는 경우 예약 충전 설정, 충전기의 작동 상태, 클러스터에 표시된...</td>\n",
       "      <td>473.0</td>\n",
       "      <td>469.0</td>\n",
       "      <td>466.0</td>\n",
       "      <td>469.0</td>\n",
       "      <td>73.0</td>\n",
       "    </tr>\n",
       "    <tr>\n",
       "      <th>1323</th>\n",
       "      <td>473</td>\n",
       "      <td>\\n충전이 시작되지 않은 경우 확인사항\\n충전기를 차량에 연결한 후 충전이 시작되지...</td>\n",
       "      <td>충전이 시작되지 않을 때 어떤 조치를 취해야 하나요?</td>\n",
       "      <td>충전이 시작되지 않을 때 다른 충전기를 이용해 충전 상태를 확인하고, 문제가 해결되...</td>\n",
       "      <td>469.0</td>\n",
       "      <td>473.0</td>\n",
       "      <td>466.0</td>\n",
       "      <td>464.0</td>\n",
       "      <td>469.0</td>\n",
       "    </tr>\n",
       "  </tbody>\n",
       "</table>\n",
       "<p>1324 rows × 9 columns</p>\n",
       "</div>"
      ],
      "text/plain": [
       "      doc_id                                       doc_contents  \\\n",
       "0          0  \\n구동 모터 번호 \\n2WD / 4WD\\n4WD\\n구동 모터 번호는 차량 밑에서 ...   \n",
       "1          1                     \\n모터룸\\n이 그림은 실제 차량과 다를 수 있습니다.   \n",
       "2          2  \\n에어컨 시스템\\n에어컨 관련 작업 시, 반드시 지정된 냉매를 사용하십시오.지정되...   \n",
       "3          2  \\n에어컨 시스템\\n에어컨 관련 작업 시, 반드시 지정된 냉매를 사용하십시오.지정되...   \n",
       "4          2  \\n에어컨 시스템\\n에어컨 관련 작업 시, 반드시 지정된 냉매를 사용하십시오.지정되...   \n",
       "...      ...                                                ...   \n",
       "1319     472  완속 충전 시 충전 커넥터 잠금 모드\\n완속 충전 시 충전 커넥터 잠금 모드\\n충전...   \n",
       "1320     472  완속 충전 시 충전 커넥터 잠금 모드\\n완속 충전 시 충전 커넥터 잠금 모드\\n충전...   \n",
       "1321     472  완속 충전 시 충전 커넥터 잠금 모드\\n완속 충전 시 충전 커넥터 잠금 모드\\n충전...   \n",
       "1322     473  \\n충전이 시작되지 않은 경우 확인사항\\n충전기를 차량에 연결한 후 충전이 시작되지...   \n",
       "1323     473  \\n충전이 시작되지 않은 경우 확인사항\\n충전기를 차량에 연결한 후 충전이 시작되지...   \n",
       "\n",
       "                                           질문  \\\n",
       "0                   구동 모터 번호는 어디에서 확인할 수 있나요?   \n",
       "1                    모터룸에 대해 어떤 내용이 포함되어 있나요?   \n",
       "2     에어컨 시스템 작업 시 지정된 냉매를 사용해야 하는 이유는 무엇인가요?   \n",
       "3           에어컨 시스템에서 사용되는 에어컨 냉매의 용량은 얼마인가요?   \n",
       "4               에어컨 시스템에 사용되는 냉동유의 용량은 얼마인가요?   \n",
       "...                                       ...   \n",
       "1319     완속 충전 시 충전 커넥터 잠금 모드는 어떤 기능을 하는 건가요?   \n",
       "1320          충전 커넥터 잠금을 해제하려면 어떤 작업을 해야 하나요?   \n",
       "1321                   충전 중에 도어를 잠그면 어떻게 되나요?   \n",
       "1322          충전이 시작되지 않은 경우 어떤 확인사항을 해야 하나요?   \n",
       "1323            충전이 시작되지 않을 때 어떤 조치를 취해야 하나요?   \n",
       "\n",
       "                                                     대답   doc1   doc2   doc3  \\\n",
       "0                          구동 모터 번호는 차량 밑에서 확인할 수 있습니다.    0.0    5.0  214.0   \n",
       "1                모터룸에 대한 그림은 실제 차량과 다를 수 있다고 언급되어 있습니다.    1.0  395.0   19.0   \n",
       "2     지정되지 않은 냉매를 사용하면 냉방 성능이 저하되고 심각한 부품 손상이 발생할 수 ...    2.0  227.0  227.0   \n",
       "3                               에어컨 냉매의 용량은 900g±25입니다.    2.0  227.0  227.0   \n",
       "4                                   냉동유의 용량은 180±10입니다.    2.0  227.0  227.0   \n",
       "...                                                 ...    ...    ...    ...   \n",
       "1319  완속 충전 시 충전 커넥터 잠금 모드는 외부인이 충전 커넥터를 충전 인렛으로부터 분...  472.0  472.0  472.0   \n",
       "1320           충전 커넥터 잠금을 해제하기 위해서는 차량 도어 잠금을 해제해야 합니다.  472.0  472.0  461.0   \n",
       "1321               충전 중에 도어를 잠그면 충전 커넥터도 즉시 다시 잠기게 됩니다.  463.0  178.0  463.0   \n",
       "1322  충전이 시작되지 않는 경우 예약 충전 설정, 충전기의 작동 상태, 클러스터에 표시된...  473.0  469.0  466.0   \n",
       "1323  충전이 시작되지 않을 때 다른 충전기를 이용해 충전 상태를 확인하고, 문제가 해결되...  469.0  473.0  466.0   \n",
       "\n",
       "       doc4   doc5  \n",
       "0     214.0  214.0  \n",
       "1     429.0  416.0  \n",
       "2     227.0  226.0  \n",
       "3     227.0  416.0  \n",
       "4     416.0  416.0  \n",
       "...     ...    ...  \n",
       "1319  461.0  461.0  \n",
       "1320  460.0  472.0  \n",
       "1321  178.0  461.0  \n",
       "1322  469.0   73.0  \n",
       "1323  464.0  469.0  \n",
       "\n",
       "[1324 rows x 9 columns]"
      ]
     },
     "execution_count": 492,
     "metadata": {},
     "output_type": "execute_result"
    }
   ],
   "source": [
    "qaset"
   ]
  },
  {
   "cell_type": "code",
   "execution_count": 529,
   "metadata": {},
   "outputs": [
    {
     "data": {
      "text/plain": [
       "0.6608761329305136"
      ]
     },
     "execution_count": 529,
     "metadata": {},
     "output_type": "execute_result"
    }
   ],
   "source": [
    "len(qaset[qaset['doc_id']==qaset['doc1']])/len(qaset)"
   ]
  },
  {
   "cell_type": "markdown",
   "metadata": {},
   "source": [
    "Top 2 정확도"
   ]
  },
  {
   "cell_type": "code",
   "execution_count": 530,
   "metadata": {},
   "outputs": [
    {
     "data": {
      "text/plain": [
       "0.7726586102719033"
      ]
     },
     "execution_count": 530,
     "metadata": {},
     "output_type": "execute_result"
    }
   ],
   "source": [
    "qaset[['doc_id', 'doc1', 'doc2']].apply(lambda x: x[0] in x[1:3].values, axis=1).sum()/len(qaset)"
   ]
  },
  {
   "cell_type": "markdown",
   "metadata": {},
   "source": [
    "Top 3 정확도"
   ]
  },
  {
   "cell_type": "code",
   "execution_count": 531,
   "metadata": {},
   "outputs": [
    {
     "data": {
      "text/plain": [
       "0.8066465256797583"
      ]
     },
     "execution_count": 531,
     "metadata": {},
     "output_type": "execute_result"
    }
   ],
   "source": [
    "qaset[['doc_id', 'doc1', 'doc2', 'doc3']].apply(lambda x: x[0] in x[1:4].values, axis=1).sum()/len(qaset)"
   ]
  },
  {
   "cell_type": "markdown",
   "metadata": {},
   "source": [
    "Top 5 정확도"
   ]
  },
  {
   "cell_type": "code",
   "execution_count": 532,
   "metadata": {},
   "outputs": [
    {
     "data": {
      "text/plain": [
       "0.8534743202416919"
      ]
     },
     "execution_count": 532,
     "metadata": {},
     "output_type": "execute_result"
    }
   ],
   "source": [
    "qaset[['doc_id', 'doc1', 'doc2', 'doc3', 'doc4','doc5']].apply(lambda x: x[0] in x[1:6].values, axis=1).sum()/len(qaset)"
   ]
  },
  {
   "cell_type": "markdown",
   "metadata": {},
   "source": [
    "# Reranker 적용"
   ]
  },
  {
   "cell_type": "code",
   "execution_count": 286,
   "metadata": {},
   "outputs": [],
   "source": [
    "import torch\n",
    "import numpy as np"
   ]
  },
  {
   "cell_type": "code",
   "execution_count": 436,
   "metadata": {},
   "outputs": [],
   "source": [
    "# Load model directly\n",
    "from transformers import AutoTokenizer, AutoModelForSequenceClassification\n",
    "\n",
    "tokenizer = AutoTokenizer.from_pretrained(\"Dongjin-kr/ko-reranker\")\n",
    "model = AutoModelForSequenceClassification.from_pretrained(\"Dongjin-kr/ko-reranker\")"
   ]
  },
  {
   "cell_type": "code",
   "execution_count": 437,
   "metadata": {},
   "outputs": [],
   "source": [
    "def exp_normalize(x):\n",
    "    b = x.max()\n",
    "    y = np.exp(x - b)\n",
    "    return y / y.sum()"
   ]
  },
  {
   "cell_type": "code",
   "execution_count": 438,
   "metadata": {},
   "outputs": [],
   "source": [
    "# qaset_rr['doc1'] = np.nan\n",
    "# qaset_rr['doc2'] = np.nan\n",
    "# qaset_rr['doc3'] = np.nan\n",
    "# qaset_rr['doc4'] = np.nan\n",
    "# qaset_rr['doc5'] = np.nan\n",
    "\n",
    "qaset['rr_doc1'] = np.nan\n",
    "qaset['rr_doc2'] = np.nan\n",
    "qaset['rr_doc3'] = np.nan\n",
    "qaset['rr_doc4'] = np.nan\n",
    "qaset['rr_doc5'] = np.nan\n"
   ]
  },
  {
   "cell_type": "code",
   "execution_count": 439,
   "metadata": {},
   "outputs": [],
   "source": [
    "from collections import OrderedDict"
   ]
  },
  {
   "cell_type": "code",
   "execution_count": 440,
   "metadata": {},
   "outputs": [],
   "source": [
    "torch.set_default_device(\"cpu\")"
   ]
  },
  {
   "cell_type": "code",
   "execution_count": 459,
   "metadata": {},
   "outputs": [],
   "source": [
    "topK = 5"
   ]
  },
  {
   "cell_type": "code",
   "execution_count": 471,
   "metadata": {},
   "outputs": [
    {
     "name": "stderr",
     "output_type": "stream",
     "text": [
      "1122it [45:23,  2.43s/it]\n"
     ]
    }
   ],
   "source": [
    "for i, row in tqdm(qaset[qaset['rr_doc1'].isna()].iterrows()):\n",
    "    query = row['질문']\n",
    "    query_result = search_doc(query, topK)\n",
    "    query_result = OrderedDict(sorted(query_result.items(), key=lambda x: x[0], reverse=False))\n",
    "    pairs = list(map(lambda k: [k[0],k[1][1]['embedding_contents']], zip([query]*len(query_result), query_result.items())))\n",
    "    doc_ids = list(map(lambda x: x[1]['doc_id'], query_result.items()))\n",
    "    # qaset_rr.loc[i, ['doc1', 'doc2', 'doc3', 'doc4', 'doc5']] = np.array(doc_ids)\n",
    "    with torch.no_grad():\n",
    "        inputs = tokenizer(pairs, padding=True, truncation=True, return_tensors='pt', max_length=512)\n",
    "        scores = model(**inputs, return_dict=True).logits.view(-1, ).float()\n",
    "        scores = exp_normalize(scores.numpy())\n",
    "        \n",
    "        qaset.loc[i, ['rr_doc1', 'rr_doc2', 'rr_doc3', 'rr_doc4', 'rr_doc5']] = np.array(doc_ids)[np.argsort(scores)][::-1]\n"
   ]
  },
  {
   "cell_type": "code",
   "execution_count": 472,
   "metadata": {},
   "outputs": [],
   "source": [
    "qaset.to_parquet('reranker_gpt35_xmlcontext.paruqet', index=False)"
   ]
  },
  {
   "cell_type": "code",
   "execution_count": 493,
   "metadata": {},
   "outputs": [],
   "source": [
    "qaset = pd.read_parquet('reranker_gpt35_xmlcontext.paruqet')"
   ]
  },
  {
   "cell_type": "code",
   "execution_count": 534,
   "metadata": {},
   "outputs": [],
   "source": [
    "sample_qaset_rr = qaset[~qaset['doc1'].isna()].copy()\n",
    "sample_datasize = len(sample_qaset_rr)"
   ]
  },
  {
   "cell_type": "markdown",
   "metadata": {},
   "source": [
    "## Hit Rate"
   ]
  },
  {
   "cell_type": "code",
   "execution_count": 474,
   "metadata": {},
   "outputs": [
    {
     "name": "stdout",
     "output_type": "stream",
     "text": [
      "0.6299093655589124\n",
      "0.7077039274924471\n"
     ]
    }
   ],
   "source": [
    "print(len(sample_qaset_rr[sample_qaset_rr['doc_id']==sample_qaset_rr['doc1']])/sample_datasize)\n",
    "print(len(sample_qaset_rr[sample_qaset_rr['doc_id']==sample_qaset_rr['rr_doc1']])/sample_datasize)"
   ]
  },
  {
   "cell_type": "code",
   "execution_count": 475,
   "metadata": {},
   "outputs": [
    {
     "name": "stdout",
     "output_type": "stream",
     "text": [
      "0.7348942598187311\n",
      "0.7620845921450151\n"
     ]
    }
   ],
   "source": [
    "print(sample_qaset_rr[['doc_id', 'doc1', 'doc2']].apply(lambda x: x[0] in x[1:3].values, axis=1).sum()/sample_datasize)\n",
    "print(sample_qaset_rr[['doc_id', 'rr_doc1', 'rr_doc2']].apply(lambda x: x[0] in x[1:3].values, axis=1).sum()/sample_datasize)"
   ]
  },
  {
   "cell_type": "code",
   "execution_count": 476,
   "metadata": {},
   "outputs": [
    {
     "name": "stdout",
     "output_type": "stream",
     "text": [
      "0.7688821752265861\n",
      "0.7794561933534743\n"
     ]
    }
   ],
   "source": [
    "print(sample_qaset_rr[['doc_id', 'doc1', 'doc2', 'doc3']].apply(lambda x: x[0] in x[1:4].values, axis=1).sum()/sample_datasize)\n",
    "print(sample_qaset_rr[['doc_id', 'rr_doc1', 'rr_doc2', 'rr_doc3']].apply(lambda x: x[0] in x[1:4].values, axis=1).sum()/sample_datasize)"
   ]
  },
  {
   "cell_type": "code",
   "execution_count": 477,
   "metadata": {},
   "outputs": [
    {
     "name": "stdout",
     "output_type": "stream",
     "text": [
      "0.8149546827794562\n",
      "0.7915407854984894\n"
     ]
    }
   ],
   "source": [
    "print(sample_qaset_rr[['doc_id', 'doc1', 'doc2', 'doc3', 'doc4','doc5']].apply(lambda x: x[0] in x[1:6].values, axis=1).sum()/sample_datasize)\n",
    "print(sample_qaset_rr[['doc_id', 'rr_doc1', 'rr_doc2', 'rr_doc3', 'rr_doc4','rr_doc5']].apply(lambda x: x[0] in x[1:6].values, axis=1).sum()/sample_datasize)"
   ]
  },
  {
   "cell_type": "markdown",
   "metadata": {},
   "source": [
    "## MRR"
   ]
  },
  {
   "cell_type": "code",
   "execution_count": 533,
   "metadata": {},
   "outputs": [],
   "source": [
    "def get_mrr(x):\n",
    "    x = x.values\n",
    "    rank = np.where(x[1:6]==x[0])[0]\n",
    "    if len(rank)>0:\n",
    "        return 1/(rank[0] + 1)\n",
    "    else:\n",
    "        return 0"
   ]
  },
  {
   "cell_type": "code",
   "execution_count": 535,
   "metadata": {},
   "outputs": [],
   "source": [
    "sample_qaset_rr['mrr'] = sample_qaset_rr[['doc_id', 'doc1', 'doc2', 'doc3', 'doc4','doc5']]\\\n",
    "        .apply(lambda x: get_mrr(x), axis=1)\n",
    "\n",
    "# sample_qaset_rr['rr_mrr'] = sample_qaset_rr[['doc_id', 'rr_doc1', 'rr_doc2', 'rr_doc3', 'rr_doc4','rr_doc5']]\\\n",
    "#         .apply(lambda x: get_mrr(x), axis=1)"
   ]
  },
  {
   "cell_type": "code",
   "execution_count": 536,
   "metadata": {},
   "outputs": [
    {
     "data": {
      "text/plain": [
       "0.7390861027190332"
      ]
     },
     "execution_count": 536,
     "metadata": {},
     "output_type": "execute_result"
    }
   ],
   "source": [
    "sample_qaset_rr['mrr'].mean()"
   ]
  },
  {
   "cell_type": "code",
   "execution_count": 499,
   "metadata": {},
   "outputs": [
    {
     "data": {
      "text/plain": [
       "0.7434415911379658"
      ]
     },
     "execution_count": 499,
     "metadata": {},
     "output_type": "execute_result"
    }
   ],
   "source": [
    "sample_qaset_rr['rr_mrr'].mean()"
   ]
  },
  {
   "cell_type": "code",
   "execution_count": 538,
   "metadata": {},
   "outputs": [
    {
     "name": "stdout",
     "output_type": "stream",
     "text": [
      "자기 인증 라벨이 차량에 부착되어 있는 이유는 무엇인가요? 3 431\n",
      "휠 너트 체결토크가 왜 중요한가요? 9 427\n",
      "타이어 사이즈가 동일해도 무엇이 다를 수 있나요? 11 423\n",
      "스탠딩 웨이브 현상이란 무엇인가요? 15 135\n",
      "브레이크 오일이 부족하거나 급격히 감소했을 때 어떻게 해아할까요? 19 398\n",
      "냉각수량이 부족하거나 급격히 감소했을 때 어떻게 해아할까요? 19 394\n",
      "냉각수의 양을 점검할 때 주의할 점은 무엇인가요? 19 394\n",
      "어린이를 무릎에 앉히면 어떤 위험이 있을 수 있나요? 20 48\n",
      "안전벨트를 착용하지 않고 충돌이 발생하면 어떤 위험을 감수해야 하나요? 23 43\n",
      "동승석에 어린이용 보호장치를 설치하면 어떤 위험이 있을까요? 24 48\n",
      "운전자의 헤드레스트 높이를 조절하는 이유는 무엇인가요? 25 65\n",
      "음주운전이 왜 위험한가요? 27 261\n",
      "약물을 복용한 후에는 어떻게 해야 하나요? 27 200\n",
      "주차 브레이크를 푼 후에 어떤 절차를 거쳐야 하나요? 30 275\n",
      "주행 중에는 무엇을 해야 하나요? 35 36\n",
      "차량에 비인가 전기 장치를 임의로 장착하면 어떤 문제가 발생할 수 있나요? 37 42\n",
      "어떤 옷을 입으면 시트원단을 오염시킬 수 있나요? 38 418\n",
      "스티어링 휠을 비닐을 제거할 때 어떤 도구를 사용하면 안 되나요? 38 133\n",
      "어린이와 함께 차량을 탈 때 주의해야 하는 사항은 무엇인가요? 40 22\n",
      "어린이 보조 좌석이 왜 중요한가요? 44 48\n",
      "동승석에 어린이 보조 좌석을 설치하면 어떻게 되나요? 52 48\n",
      "에어백은 어떤 상황에서 충돌 및 전복 시 작동되나요? 57 59\n",
      "어린이를 동승석에 어린이 보조 좌석을 설치하면 어떤 위험이 있나요? 57 48\n",
      "에어백이 작동하는 상황 중 어떤 경우에는 에어백이 작동하지 않나요? 57 59\n",
      "에어백이 작동할 때 어떤 상황을 피해야 하나요? 60 59\n",
      "릴렉션 컴포트 시트를 사용할 때 주의해야 할 점은 무엇인가요? 66 200\n",
      "인포테인먼트 시스템이 업데이트되면 어떤 점이 바뀌나요? 68 177\n",
      "주행 가능 거리는 어떻게 계산되나요? 71 454\n",
      "외기 온도를 변경하려면 어떻게 해야 하나요? 71 226\n",
      "차량이 경계 상태에 들어갔음을 어떻게 알 수 있나요? 82 321\n",
      "차량이 경계 상태에 들어가지 못한 경우에는 어떻게 해야 하나요? 82 321\n",
      "전자식 차일드 락 기능이 작동 중인 상태에서 배터리가 방전되면 어떻게 해야 하나요? 88 183\n",
      "차량을 주행하기 전에 무엇을 확인해야 하나요? 91 402\n",
      "도어가 잠긴 상태에서 강제로 도어 잠금 버튼이나 중앙 도어 잠금 버튼을 누르면 어떻게 되나요? 92 91\n",
      "시동을 끄면 도어 잠금 상태는 어떻게 되나요? 92 90\n",
      "디지털 사이드 미러 점검 표시 표시등이 나타나면 어떤 작업을 해야 하나요? 95 104\n",
      "DSM 모니터에 나타나는 안내선은 어떤 지점을 표시하나요? 102 95\n",
      "DSM 시스템에 이상이 생겼을 때 어떤 경고 메시지가 표시되나요? 102 95\n",
      "디지털 센터 미러가 오작동할 때 어떻게 대처해야 하나요? 103 104\n",
      "디지털 센터 미러의 디스플레이를 끄면 어떤 상태로 사용할 수 있나요? 105 104\n",
      "레버는 무엇을 전환하는 데 사용되나요? 106 134\n",
      "선택/조절 버튼은 어떤 기능을 제공하나요? 106 226\n",
      "파워 선블라인드 작동 시 어떤 부분을 확인해야 하나요? 110 111\n",
      "주차 중 이벤트 알림 서비스를 이용하려면 어떻게 해야 하나요? 115 316\n",
      "어떤 경우에 이벤트(충격 감지) 녹화 기능이 작동되나요? 118 114\n",
      "유리창 주변에 날카로운 물건을 놓아두면 어떤 문제가 발생할 수 있나요? 119 162\n",
      "솔라루프에 무거운 물건을 올리거나 충격을 가하면 어떻게 될 수 있나요? 123 52\n",
      "건전지를 교체한 후에 무엇을 확인해야 하나요? 124 207\n",
      "스마트 키가 작동하지 않을 때 도어를 잠그거나 해제하는 방법은 무엇인가요? 125 126\n",
      "도어를 잠그는 방법은 무엇인가요? 126 89\n",
      "도어를 잠금 해제하는 방법은 어떻게 되나요? 126 90\n",
      "어떤 상황에서는 스마트 테일게이트의 작동이 지연되거나 작동 거리가 변할 수 있나요? 129 304\n",
      "운전석 공조 연동 자동 제어 기능은 무엇인가요? 133 322\n",
      "그물망에 넣으면 안 되는 물건은 무엇인가요? 146 208\n",
      "과속 단속 구간에서 무드 램프가 어떻게 표시되나요? 150 291\n",
      "실내등이 켜진 상태를 유지하는 동안 어떤 상황에서 서서히 꺼지나요? 153 148\n",
      "운전석 자세 메모리 시스템을 사용할 때 주의해야 할 전기 소비에 대해 어떤 내용이 있나요? 157 200\n",
      "운전석 자세 메모리 시스템은 무엇을 저장할 수 있나요? 158 159\n",
      "어떻게 운전석 자세 메모리 시스템을 설정하나요? 158 157\n",
      "운전석 자세 메모리 시스템은 무엇을 위한 기능인가요? 160 157\n",
      "운전석이 어떻게 이동하나요? 160 66\n",
      "어떻게 운전석을 다시 원위치로 이동시킬 수 있나요? 160 66\n",
      "외기 유입을 원하지 않을 때 어떻게 A/C를 해제할 수 있나요? 162 226\n",
      "외기 유입 및 에어컨이 자동으로 선택되지 않을 때 어떻게 해야 하나요? 163 226\n",
      "유리창 습기 방지 기능이 설정된 경우, 외기 유입과 에어컨 작동은 어떻게 이루어지나요? 164 165\n",
      "외기 유입과 에어컨 작동이 어떤 조건에 따라 자동으로 선택되나요? 165 226\n",
      "어디에서 인포테인먼트 시스템에 대한 자세한 내용을 확인할 수 있나요? 165 177\n",
      "유리창을 한 번에 열고 닫을 수 있는 기능이 무엇인가요? 166 168\n",
      "유리창을 열거나 닫을 때 잠금 기능을 어떻게 사용하나요? 166 167\n",
      "이모빌라이저 시스템은 무엇을 위해 고안된 장치인가요? 169 389\n",
      "키를 더 필요로 하거나 분실했을 때는 어떻게 해야 하나요? 169 127\n",
      "안테나가 어떤 신호를 수신하나요? 174 228\n",
      "음성인식 시스템은 무엇을 통해 차량을 제어하고 다양한 기능을 실행할 수 있나요? 176 250\n",
      "HID 타입의 전조등을 장착할 경우 어떤 문제가 발생할 수 있나요? 177 212\n",
      "전좌석 메모리 시트를 설정할 때 안전을 위해 어떤 상태여야 하나요? 181 179\n",
      "차량을 떠날 때 반드시 해야 하는 조치는 무엇인가요? 183 30\n",
      "룸 램프가 켜지는 조건은 무엇인가요? 185 151\n",
      "주간 주행등이 어떤 상황에서 기능이 해제되나요? 189 246\n",
      "운전석 공조 연동 자동 제어 기능을 설정하거나 해제하는 방법은 무엇인가요? 192 320\n",
      "어디에서 '열선 시트 및 통풍 시트'에 대한 자세한 내용을 확인할 수 있나요? 192 63\n",
      "외기 모드와 실내 순환 모드의 차이는 무엇인가요? 195 226\n",
      "증강현실 모드에서 전방 차량 출발 알림이 표시되면 어떤 의미일까요? 202 314\n",
      "테일게이트를 열 때 주의해야 할 점은 무엇인가요? 203 18\n",
      "전방 카메라 센서의 관리에 대해 왜 주의가 필요한가요? 210 364\n",
      "중고차를 구입한 경우에 어떤 문구를 클러스터 표시창에서 확인해야 하나요? 219 74\n",
      "중고차를 구입한 후에 해야 할 작업은 무엇인가요? 219 411\n",
      "시동이 걸리지 않은 상태에서도 공조장치를 작동할 수 있나요? 223 309\n",
      "고전압 배터리를 충전할 때 어떤 작업이 이루어지나요? 223 441\n",
      "에어컨 성능이 저하되는 원인은 무엇인가요? 227 226\n",
      "일사량 감지 센서가 어떤 역할을 하며, 이를 방해하는 요소는 무엇인가요? 228 366\n",
      "냉각수를 혼합할 때 어떤 비율을 유지해야 하나요? 232 394\n",
      "왜 휭 바람과 역 바람이 불 때는 천천히 운전해야 하나요? 234 261\n",
      "어떻게 브레이크 패드의 마모를 줄일 수 있나요? 234 271\n",
      "드라이브 모드 설정에 따라 히터 및 에어컨 시스템은 어떻게 제어되나요? 235 226\n",
      "차량을 견인할 때 어떤 사항을 반드시 확인해야 하나요? 237 240\n",
      "리프트로 차량을 들어 올린 상태에서 차량을 구동시킬 때 무엇을 꼭 해야 하나요? 240 257\n",
      "타이어 펑크 등 긴급 상황이 발생했을 때 어떤 조치를 취해야 하나요? 241 380\n",
      "스마트 회생 시스템은 어떤 상황에서 차량을 완전히 제동시키거나 충돌을 회피하지 않나요? 244 248\n",
      "시스템 이상 시 어디에서 점검 및 정비를 받아야 하나요? 245 17\n",
      "스마트 회생 제동 강도는 어떻게 조절할 수 있나요? 247 283\n",
      "스마트 회생 시스템이 정상적으로 작동하지 않을 수 있는 상황은 무엇인가요? 247 245\n",
      "스마트 회생 시스템은 차량의 주행에 어떠한 영향을 미치는 기능인가요? 250 242\n",
      "ACC 상태에서 어떤 동작을 하면 클러스터 표시창에 어떤 메시지가 표시되나요? 255 73\n",
      "가상 엔진 사운드 시스템(VESS)은 무엇인가요? 258 176\n",
      "차선을 변경할 때 주의할 절차는 무엇인가요? 259 182\n",
      "급출발, 급가속, 급제동을 왜 삼가야 하나요? 259 260\n",
      "회생 제동 시스템을 효과적으로 사용하기 위해서는 어떻게 해야 하나요? 260 283\n",
      "와이퍼에 줄무늬가 생기거나 유리창이 잘 닦이지 않을 때 어떻게 해야 하나요? 261 401\n",
      "타이어의 상태가 좋지 않은 상태로 급정차할 경우 어떤 위험이 있나요? 261 388\n",
      "비가 내릴 때 전조등의 빛이 노면에 흡수되거나 반사되어 앞이 잘 안 보이게 되는데, 어떻게 대비해야 하나요? 262 261\n",
      "라디에이터가 깨끗하지 않을 때 어떤 문제가 발생할 수 있나요? 263 304\n",
      "자동 정차 기능이 작동 중인 상태에서 어떤 상황이 발생하면 전자식 파킹 브레이크가 작동하나요? 274 300\n",
      "AAF란 무엇의 약자인가요? 277 319\n",
      "차로변경 보조 기능은 어떤 경우에 운전자를 도와주나요? 284 337\n",
      "고속도로 안전구간 자동감속내비게이션은 어떤 경우에 작동하나요? 289 291\n",
      "내비게이션 기반 스마트 크루즈 컨트롤에 이상이 발생했을 때 어떻게 해결할 수 있나요? 290 292\n",
      "내비게이션 기반 스마트 크루즈 컨트롤을 설정할 때 주의할 점은 무엇인가요? 290 292\n",
      "서라운드 뷰 모니터는 무엇을 도와주는 기능인가요? 293 295\n",
      "주행 중 후방 뷰 기능은 무엇을 확인할 수 있게 도와주나요? 293 296\n",
      "주행 중 후방 뷰가 켜져 있을 때 후진하면 어떻게 되나요? 295 296\n",
      "MSLA란 무엇을 의미하나요? 297 327\n",
      "수동 속도 제한 보조를 사용하지 않을 때 어떤 조치를 취해야 하나요? 299 298\n",
      "수동 속도 제한 보조를 사용할 때 주의해야 할 점은 무엇인가요? 299 298\n",
      "원격 스마트 주차 보조가 작동 준비 중일 때 어떤 확인을 해야 하나요? 301 318\n",
      "차량이 정차한 후에 탑승자가 차에서 내리려고 할 때 무엇이 운전자에게 알려주나요? 306 31\n",
      "전자식 차일드 락이 잠긴 상태에서 후측방의 차량을 인식하여 충돌 위험이 판단되면 어떻게 됩니까? 306 88\n",
      "안전 하차 보조를 끄려면 어떻게 해야 하나요? 307 309\n",
      "후측방 레이더 주변에 이물질이 묻거나 장비가 걸리면 어떻게 되나요? 308 368\n",
      "전방 카메라의 관리에 대해 왜 주의해야 하나요? 311 364\n",
      "'전방 차량 출발 알림'을 선택하면 무슨 일이 일어나나요? 312 314\n",
      "휴식 권유 문구가 클러스터에 표시되는 조건은 무엇인가요? 314 288\n",
      "원격 스마트 주차 보조는 무엇을 도와주는 주차 편의 기능인가요? 315 316\n",
      "원격 스마트 주차 보조의 경고음을 완전히 끌 수 있나요? 317 318\n",
      "경고 음량을 변경하면 어떤 다른 운전자 보조기능의 음량도 함께 변경될 수 있나요? 317 307\n",
      "전방 충돌방지 보조 시스템은 어떤 상황에서 운전자에게 경고를 주나요? 319 366\n",
      "전방 충돌방지 보조의 '충돌 경고' 기능은 어떤 동작을 하나요? 320 322\n",
      "전방/후방 주차 거리 경고란 무엇을 하는 기능인가요? 323 326\n",
      "속도 제한 보조 설정 시 왜 안전한 곳에 정차해야 하나요? 328 309\n",
      "전방 카메라 센서의 주의 사항은 어디에서 확인할 수 있나요? 331 118\n",
      "경고 음량을 어떻게 변경할 수 있나요? 332 307\n",
      "핸즈 오프 경고는 언제 울리나요? 338 334\n",
      "크루즈 컨트롤 설정속도를 어떻게 감소시킬 수 있나요? 341 303\n",
      "크루즈 컨트롤에서 설정속도를 어떻게 증가시킬 수 있나요? 342 344\n",
      "설정된 속도로 돌아가려면 어떻게 해야 하나요? 344 341\n",
      "올라간 속도에서 다시 현재 속도로 재설정하려면 어떻게 해야 하나요? 344 345\n",
      "크루즈 컨트롤을 재설정하려면 어떻게 해야 하나요? 345 340\n",
      "크루즈 컨트롤을 재설정할 때 주의할 점은 무엇인가요? 345 340\n",
      "오르막에서는 어떻게 되나요?  346 239\n",
      "후방 교차 충돌방지 보조 시스템은 어떤 역할을 하나요? 347 349\n",
      "후방 교차 충돌방지 보조를 끄려면 어떻게 해야 하나요? 348 349\n",
      "후방 교차 충돌방지 보조가 작동하지 않을 때 어떤 상황에서 제동 제어가 작동하지 않을 수 있나요? 349 350\n",
      "후방 모니터는 무엇을 도와주는 기능인가요? 351 365\n",
      "후방 주차 가이드라인의 가로 가이드라인이 차량으로부터 어떤 거리를 나타내나요? 352 294\n",
      "후방 주차 거리 경고란 무엇인가요? 355 356\n",
      "후방 주차 거리 경고 시스템은 언제 작동하나요? 356 326\n",
      "후방 주차 충돌방지 보조는 어떤 역할을 하나요? 358 361\n",
      "후측방 충돌방지 보조 시스템이 작동하지 않을 수 있는 경우는 무엇인가요? 366 368\n",
      "타이어 응급 처치 키트(TMK)를 사용하는 방법은 어디에서 확인할 수 있나요? 380 389\n",
      "차량을 짧은 거리 이동할 때 주의해야 하는 사항은 무엇인가요? 381 16\n",
      "외기 온도가 급격히 변할 때 주행 전에 무엇을 해야 하나요? 385 232\n",
      "실런트(봉합제)를 사용하여 펑크난 타이어를 수리한 경우 어떤 조치를 해야 할까요? 386 389\n",
      "폭설 시에는 어떤 행동을 해야 하나요? 390 239\n",
      "폭설 시에 차량을 방치하거나 갓길에 주차하면 어떤 문제가 발생할 수 있나요? 390 16\n",
      "폭설 시에 차량을 비워야 할 때는 어떤 조치를 해야 하나요? 390 266\n",
      "와셔액 부족 경고등이 켜졌을 때 어떻게 해야 하나요? 399 458\n",
      "일상 점검을 왜 실시해야 하나요? 402 240\n",
      "실내등이 켜지지 않을 때 어디에서 점검을 받아야 하나요? 406 404\n",
      "전조등이나 방향 지시등이 켜지지 않을 때 어떤 조치를 취해야 하나요? 408 407\n",
      "정비할 때 어떤 부품을 사용해야 하나요? 411 29\n",
      "보조 배터리의 - 단자를 연결할 때 주의해야 하는 사항은 무엇인가요? 412 396\n",
      "차량을 짧은 거리를 반복해서 주행할 때 어떤 점검이 필요한가요? 415 414\n",
      "타이어 손상을 줄이기 위해 어떤 주기로 타이어를 점검해야 하나요? 421 424\n",
      "전기 장치가 작동하지 않을 때 먼저 해야 할 점은 무엇인가요? 428 412\n",
      "멀티 타입 퓨즈는 어떻게 고정되어 있나요? 429 43\n",
      "전구에 이상이 없는데 전조등이나 다른 전기 장치가 작동하지 않을 때 어디에서 점검을 받아야 하나요? 430 405\n",
      "주행 가능 거리는 어떻게 측정되나요? 437 454\n",
      "주행 패턴이 변하면 무엇이 달라질 수 있나요? 437 454\n",
      "어디에서 충전소를 검색할 수 있나요? 440 469\n",
      "블루링크 서비스를 이용하면 무엇을 확인할 수 있나요? 440 172\n",
      "전기차의 배터리는 어떤 목적으로 구성되어 있나요? 444 446\n",
      "보조 배터리는 언제 자동으로 충전되나요? 444 466\n",
      "차량이 후진할 때 어떤 경고음이 발생하나요? 452 356\n",
      "왜 주변 상황을 충분히 주의해야 하나요? 452 321\n",
      "차량 시동을 걸 때 주의해야 할 점은 무엇인가요? 455 257\n",
      "주차 브레이크를 걸지 않고 차량을 정지하면 어떤 문제가 발생할 수 있나요? 456 275\n",
      "차량을 정지한 후 어떻게 확인해야 하나요? 456 412\n",
      "전기차 시스템에 고장이 발생했을 때 어떤 조치를 해아 하나요? 458 449\n",
      "충전 시 이상(냄새, 연기 등)을 발견했을 때 어떻게 해야 하나요? 460 466\n",
      "완속 충전 케이블을 사용할 때 주의해야 하는 점은 무엇인가요? 460 461\n",
      "충전 케이블을 어떤 상태로 보관해야 하나요? 462 461\n",
      "전기차 충전기의 형상과 사용 방법은 어떻게 다를 수 있나요? 464 467\n",
      "외부 충전기에 문제가 있을 때 어떻게 해야 배터리 충전을 계속할 수 있나요? 468 73\n",
      "전기차 충전 상태 표시등은 어떤 위치에 있나요? 471 70\n",
      "충전 중에 도어를 잠그면 어떻게 되나요? 472 463\n"
     ]
    }
   ],
   "source": [
    "for i, row in sample_qaset_rr[sample_qaset_rr['mrr']==0].iterrows():\n",
    "    print(row['질문'], row['doc_id'], int(row['doc1']))"
   ]
  },
  {
   "cell_type": "code",
   "execution_count": 517,
   "metadata": {},
   "outputs": [],
   "source": [
    "query_result = search_doc('어디에서 충전소를 검색할 수 있나요?', topK)"
   ]
  },
  {
   "cell_type": "code",
   "execution_count": 518,
   "metadata": {},
   "outputs": [
    {
     "data": {
      "text/plain": [
       "{0: {'distance': 0.561803936958313,\n",
       "  'majorheading': '전기차 시작하기',\n",
       "  'subheading': '전기 자동차 충전 종류',\n",
       "  'minorheading': '충전에 대한 정보',\n",
       "  'doc_contents': '충전에 대한 정보\\n충전에 대한 정보\\n충전의 종류에는 공공 충전소의 전용 충전기를 이용하는 완속 및 급속 충전, 가정용 전기 콘센트를이용하는 휴대용 충전 등이 있습니다. 완속 충전: 공공 충전소의 완속 충전기를 이용하여 충전합니다. 차량 화물칸에 수납되어 있는 완속형 충전 케이블(사양 적용 시)을 이용하여 충전하십시오. 자세한 내용은 ‘완속 충전 방법’을 참고하십시오. 급속 충전: 공공 충전소의 급속 충전기를 이용하여 충전합니다. 급속 충전 방법은 각 급속 충전기설치 회사에서 지원하는 별도 매뉴얼을 참고하십시오.급속 충전만을 연속적 또는 반복적으로 사용하면 배터리 성능 및 수명이 감소할 수 있습니다. 긴급하지 않은 평상시에는 완속 충전을 사용하십시오. 휴대용 충전: 충전된 배터리의 용량이 적어 공공 충전소까지 이동하기 어려운 경우, 옵션으로 구입할 수 있는 220 V 휴대용 충전기(ICCB: In Cable Control Box)를 이용하여 충전할 수 있습니다.가정용 전기를 사용할 경우 전기 요금 및 전기 부하 문제가 발생할 수 있습니다.',\n",
       "  'img_urls': [],\n",
       "  'tbl_img_urls': [],\n",
       "  'tbl_contents': [],\n",
       "  'doc_id': 469,\n",
       "  'embedding_contents': '충전에 대한 정보\\n충전의 종류에는 공공 충전소의 전용 충전기를 이용하는 완속 및 급속 충전, 가정용 전기 콘센트를이용하는 휴대용 충전 등이 있습니다. 완속 충전: 공공 충전소의 완속 충전기를 이용하여 충전합니다. 차량 화물칸에 수납되어 있는 완속형 충전 케이블(사양 적용 시)을 이용하여 충전하십시오. 자세한 내용은 ‘완속 충전 방법’을 참고하십시오. 급속 충전: 공공 충전소의 급속 충전기를 이용하여 충전합니다. 급속 충전 방법은 각 급속 충전기설치 회사에서 지원하는 별도 매뉴얼을 참고하십시오.급속 충전만을 연속적 또는 반복적으로 사용하면 배터리 성능 및 수명이 감소할 수 있습니다. 긴급하지 않은 평상시에는 완속 충전을 사용하십시오. 휴대용 충전: 충전된 배터리의 용량이 적어 공공 충전소까지 이동하기 어려운 경우, 옵션으로 구입할 수 있는 220 V 휴대용 충전기(ICCB: In Cable Control Box)를 이용하여 충전할 수 있습니다.가정용 전기를 사용할 경우 전기 요금 및 전기 부하 문제가'},\n",
       " 1: {'distance': 0.5536168217658997,\n",
       "  'majorheading': '전기차 시작하기',\n",
       "  'subheading': '전기 자동차 충전 종류',\n",
       "  'minorheading': '충전에 대한 정보',\n",
       "  'doc_contents': '충전에 대한 정보\\n충전에 대한 정보\\n충전의 종류에는 공공 충전소의 전용 충전기를 이용하는 완속 및 급속 충전, 가정용 전기 콘센트를이용하는 휴대용 충전 등이 있습니다. 완속 충전: 공공 충전소의 완속 충전기를 이용하여 충전합니다. 차량 화물칸에 수납되어 있는 완속형 충전 케이블(사양 적용 시)을 이용하여 충전하십시오. 자세한 내용은 ‘완속 충전 방법’을 참고하십시오. 급속 충전: 공공 충전소의 급속 충전기를 이용하여 충전합니다. 급속 충전 방법은 각 급속 충전기설치 회사에서 지원하는 별도 매뉴얼을 참고하십시오.급속 충전만을 연속적 또는 반복적으로 사용하면 배터리 성능 및 수명이 감소할 수 있습니다. 긴급하지 않은 평상시에는 완속 충전을 사용하십시오. 휴대용 충전: 충전된 배터리의 용량이 적어 공공 충전소까지 이동하기 어려운 경우, 옵션으로 구입할 수 있는 220 V 휴대용 충전기(ICCB: In Cable Control Box)를 이용하여 충전할 수 있습니다.가정용 전기를 사용할 경우 전기 요금 및 전기 부하 문제가 발생할 수 있습니다.',\n",
       "  'img_urls': [],\n",
       "  'tbl_img_urls': [],\n",
       "  'tbl_contents': [],\n",
       "  'doc_id': 469,\n",
       "  'embedding_contents': '충전에 대한 정보\\n충전에 대한 정보'},\n",
       " 2: {'distance': 0.5277368426322937,\n",
       "  'majorheading': '전기차 시작하기',\n",
       "  'subheading': '전기 자동차 충전 종류',\n",
       "  'minorheading': '전기 자동차 충전 종류',\n",
       "  'doc_contents': '전기 자동차 충전 종류\\n전기 자동차 충전 종류\\n충전 방법의 종류\\n 충전기의 형상 및 사용 방법은 각 충전기 제조사마다 다를 수 있습니다.구동용(고전압) 배터리 상태와 수명, 충전기의 사양, 주변 온도에 따라 배터리를 충전하는 시간이 달라질 수 있습니다.',\n",
       "  'img_urls': [],\n",
       "  'tbl_img_urls': ['./image/ioniq5_2024/22_0_table.jpeg'],\n",
       "  'tbl_contents': ['|    | 구 분       | 완속 충전                 | 급속 충전                 | 휴대용 충전            |\\n|---:|:------------|:--------------------------|:--------------------------|:-----------------------|\\n|  0 | 충전 인렛   | ONE1Q011036               | ONE1Q011037               | ONE1Q011036            |\\n|    | (차량)      |                           |                           |                        |\\n|  1 | 충전 커넥터 | ONE1Q011083               | OAEEQ016079N              | ONE1Q011083            |\\n|  2 | 충전 전원   | OLFP0Q5007K               | OAEEQ016023               | ONX4EPHQ011019L        |\\n|  3 | 충전 방법   | 공공 충전소의 완속 충전기 | 공공 충전소의 급속 충전기 | 가정용 전기 사용       |\\n|    |             | 이용                      | 이용                      |                        |\\n|  4 | 충전 시간   | 기본형: 약 9시간          | 기본형: 약 18분(350kW),   | 기본형: 약 26시간      |\\n|    |             | 항속형: 약 11시간 45분    | 약 63분(50kW)             | 항속형: 약 34시간 25분 |\\n|    |             | ※ 100% 까지 충전 가능     | 항속형: 약 18분(350kW),   | ※ 100% 까지 충전 가능  |\\n|    |             |                           | 약 73분(50kW)             |                        |\\n|    |             |                           | ※ 80%기준, 100% 까지      |                        |\\n|    |             |                           | 충전 가능                 |                        |'],\n",
       "  'doc_id': 467,\n",
       "  'embedding_contents': '전기 자동차 충전 종류\\n|    |             |                           | 충전 가능                 |                        |'},\n",
       " 3: {'distance': 0.5265572667121887,\n",
       "  'majorheading': '전기차 시작하기',\n",
       "  'subheading': '전기 자동차 충전 종류',\n",
       "  'minorheading': '전기 자동차 충전 종류',\n",
       "  'doc_contents': '전기 자동차 충전 종류\\n전기 자동차 충전 종류\\n충전 방법의 종류\\n 충전기의 형상 및 사용 방법은 각 충전기 제조사마다 다를 수 있습니다.구동용(고전압) 배터리 상태와 수명, 충전기의 사양, 주변 온도에 따라 배터리를 충전하는 시간이 달라질 수 있습니다.',\n",
       "  'img_urls': [],\n",
       "  'tbl_img_urls': ['./image/ioniq5_2024/22_0_table.jpeg'],\n",
       "  'tbl_contents': ['|    | 구 분       | 완속 충전                 | 급속 충전                 | 휴대용 충전            |\\n|---:|:------------|:--------------------------|:--------------------------|:-----------------------|\\n|  0 | 충전 인렛   | ONE1Q011036               | ONE1Q011037               | ONE1Q011036            |\\n|    | (차량)      |                           |                           |                        |\\n|  1 | 충전 커넥터 | ONE1Q011083               | OAEEQ016079N              | ONE1Q011083            |\\n|  2 | 충전 전원   | OLFP0Q5007K               | OAEEQ016023               | ONX4EPHQ011019L        |\\n|  3 | 충전 방법   | 공공 충전소의 완속 충전기 | 공공 충전소의 급속 충전기 | 가정용 전기 사용       |\\n|    |             | 이용                      | 이용                      |                        |\\n|  4 | 충전 시간   | 기본형: 약 9시간          | 기본형: 약 18분(350kW),   | 기본형: 약 26시간      |\\n|    |             | 항속형: 약 11시간 45분    | 약 63분(50kW)             | 항속형: 약 34시간 25분 |\\n|    |             | ※ 100% 까지 충전 가능     | 항속형: 약 18분(350kW),   | ※ 100% 까지 충전 가능  |\\n|    |             |                           | 약 73분(50kW)             |                        |\\n|    |             |                           | ※ 80%기준, 100% 까지      |                        |\\n|    |             |                           | 충전 가능                 |                        |'],\n",
       "  'doc_id': 467,\n",
       "  'embedding_contents': '전기 자동차 충전 종류\\n|    | (차량)      |                           |                           |                        |\\n|  1 | 충전 커넥터 | ONE1Q011083               | OAEEQ016079N              | ONE1Q011083            |\\n|  2 | 충전 전원   | OLFP0Q5007K               | OAEEQ016023               | ONX4EPHQ011019L        |\\n|  3 | 충전 방법   | 공공 충전소의 완속 충전기 | 공공 충전소의 급속 충전기 | 가정용 전기 사용       |\\n|    |             | 이용                      | 이용                      |                        |'},\n",
       " 4: {'distance': 0.5167752504348755,\n",
       "  'majorheading': '전기차 시작하기',\n",
       "  'subheading': '전기 자동차 충전',\n",
       "  'minorheading': '급속 충전 방법',\n",
       "  'doc_contents': \"급속 충전 방법\\n급속 충전 방법\\n급속 충전기\\n공공 충전소의 급속 충전기를 이용하여 충전할수 있습니다. 급속 충전기에 설치된 충전 케이블을 이용하여 충전하십시오.\\n 충전기의 형상 및 사용 방법은 각 충전기 제조사마다 상이할 수 있습니다.배터리가 완전히 충전된 상태에서 급속 충전을시도할 경우, 일부 업체의 급속 충전기를 연결했을 때 차량과의 통신 오류로 오류 메시지가표시될 수 있습니다.\\n배터리가 완전히 충전된 상태에서 추가로 급속충전을 시도하지 마십시오.\\n\\n급속 충전기 연결 방법1. 브레이크 페달을 밟은 상태에서 주차 브레이크를 걸어 두십시오.2. 각종 전원 스위치를 끄고, ‘P’(주차)단으로변속하고 시동을 끄십시오. ‘P’(주차)단 이외의 단에서 충전을 시도할 경우 ‘P’(주차)단으로 자동 변속하여 충전을 진행합니다. 3. 충전 도어의 판넬을 눌러 충전 도어를 여십시오.\\n충전 도어 여는 다른 방법 및 자세한 내용은 ‘전동식 충전 도어’를 참고하십시오.\\n추운 날씨에 충전 도어가 얼어서 열리지 않으면 충전 도어 주변을 톡톡 두드려 얼음을제거한 후 여십시오. 만일 강제로 열 경우 충전 도어가 파손될 수 있습니다.\\n4. 충전 커넥터와 충전 인렛에 먼지 등 이물질이 없는지 확인하십시오.5. 충전 커넥터 손잡이 부분을 잡고 차량의 급속 충전인렛에 연결하십시오. 이때, ‘찰칵’ 소리가 날 때까지 충분히 밀어 주십시오.정상적으로 결합되지 않은 경우 충전 커넥터와 충전 단자 접속 불량으로 화재가 발생할수 있습니다.충전 방법, 분리 방법에 대한 설명은 각 급속충전기 매뉴얼을 참고하십시오.\\n6. 클러스터 내 구동용(고전압) 배터리 충전 표시등이 켜져 있는지 확인하십시오. 충전 표시등은 약 1분 동안 표시됩니다. 충전 표시등이 꺼져 있을 경우 충전이 되지 않습니다.충전커넥터가 정확히 연결되지 않을 경우 다시 충전 케이블을 연결하여 충전하십시오.\\n 안전을 위해 ‘P’(주차)단에서만 충전하십시오.충전이 시작된 이후 라디오 등을 사용하려면 시동 버튼을 눌러 ‘ACC’ 또는 ‘ON’ 상태로 진입하십시오. 충전 중에는 ‘P’(주차)단에서 다른 위치로변속할 수 없습니다.\\n 구동용(고전압) 배터리를 충전할 때 또는배터리가 온도가 높을 때 온도 관리를 위해 에어컨을 이용하여 냉각을 합니다.이때, 에어컨 압축기 및 냉각팬 작동에 따른 소음 또는 진동이 발생할 수 있으나 충전 성능을 위한 정상적인 현상입니다. 또한, 구동용(고전압) 배터리 충전 중 에어컨을 작동하면 배터리 냉각 시스템 작동 때문에 에어컨 성능이 저하될 수 있습니다.이것은 배터리 수명과 충전 성능을 위한정상적인 현상입니다. 노후화되거나 통신 지연이 발생하는 급속충전기는 충전 시 간헐적으로 고주파 소음('삐~')이 차량 외부에서 들릴 수 있습니다.이 소음은 충전 유지를 위해 차량이 전자파를 자체적으로 줄여주는 기능이 작동하면서 발생하며, 충전 및 차량 성능에 영향을 주지 않는 정상적인 현상입니다.\\n7. 충전이 시작되면 클러스터 표시창에 충전 예상 소요시간이 약 1분 동안 표시됩니다.\\n충전 예상 소요 시간은 구동용(고전압) 배터리상태와 수명, 충전기의 사양, 주변 온도에 따라달라질 수 있습니다.\\n\\n충전 상태 확인차량 구동용(고전압) 배터리 충전 시 차량 외부에서 충전량을 확인할 수 있습니다.자세한 내용은 ‘전기 자동차 충전 표시등’을 참고하십시오.\\n\\n급속 충전기 분리 방법1. 급속 충전이 완료되었거나 급속 충전기에서충전을 멈추면 충전 커넥터를 분리하십시오. 충전 커넥터의 분리 방법에 대한 자세한 내용은 각 급속 충전기 매뉴얼을 참고하십시오.\\n2. 충전 도어를 확실하게 닫으십시오.\",\n",
       "  'img_urls': ['./image/ioniq5_2024/34_12_img.png'],\n",
       "  'tbl_img_urls': [],\n",
       "  'tbl_contents': [],\n",
       "  'doc_id': 459,\n",
       "  'embedding_contents': '급속 충전 방법\\n급속 충전 방법\\n급속 충전기\\n공공 충전소의 급속 충전기를 이용하여 충전할수 있습니다. 급속 충전기에 설치된 충전 케이블을 이용하여 충전하십시오.\\n 충전기의 형상 및 사용 방법은 각 충전기 제조사마다 상이할 수 있습니다.배터리가 완전히 충전된 상태에서 급속 충전을시도할 경우, 일부 업체의 급속 충전기를 연결했을 때 차량과의 통신 오류로 오류 메시지가표시될 수 있습니다.\\n배터리가 완전히 충전된 상태에서 추가로 급속충전을 시도하지 마십시오.'}}"
      ]
     },
     "execution_count": 518,
     "metadata": {},
     "output_type": "execute_result"
    }
   ],
   "source": [
    "query_result"
   ]
  },
  {
   "cell_type": "code",
   "execution_count": null,
   "metadata": {},
   "outputs": [],
   "source": []
  }
 ],
 "metadata": {
  "kernelspec": {
   "display_name": "myMechanic",
   "language": "python",
   "name": "mymechanic"
  },
  "language_info": {
   "codemirror_mode": {
    "name": "ipython",
    "version": 3
   },
   "file_extension": ".py",
   "mimetype": "text/x-python",
   "name": "python",
   "nbconvert_exporter": "python",
   "pygments_lexer": "ipython3",
   "version": "3.8.13"
  }
 },
 "nbformat": 4,
 "nbformat_minor": 2
}
