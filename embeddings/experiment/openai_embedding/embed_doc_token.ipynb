{
 "cells": [
  {
   "cell_type": "code",
   "execution_count": 1,
   "metadata": {},
   "outputs": [
    {
     "name": "stderr",
     "output_type": "stream",
     "text": [
      "/Users/yj/.pyenv/versions/myMechanic/lib/python3.8/site-packages/tqdm/auto.py:21: TqdmWarning: IProgress not found. Please update jupyter and ipywidgets. See https://ipywidgets.readthedocs.io/en/stable/user_install.html\n",
      "  from .autonotebook import tqdm as notebook_tqdm\n"
     ]
    }
   ],
   "source": [
    "import os\n",
    "import openai\n",
    "import numpy as np\n",
    "import pandas as pd\n",
    "from tqdm import tqdm\n",
    "from openai import OpenAI\n",
    "from pymilvus import Collection, CollectionSchema, FieldSchema, DataType, connections\n",
    "from pymilvus import connections, utility\n",
    "from langchain_openai import OpenAIEmbeddings\n",
    "from langchain import text_splitter \n",
    "from langchain_community.vectorstores import Milvus\n",
    "from langchain_community.retrievers.milvus import MilvusRetriever\n",
    "from langchain.text_splitter import RecursiveCharacterTextSplitter\n",
    "\n",
    "from transformers import AutoTokenizer, AutoModel"
   ]
  },
  {
   "cell_type": "markdown",
   "metadata": {},
   "source": [
    "# 실험환경"
   ]
  },
  {
   "cell_type": "code",
   "execution_count": 2,
   "metadata": {},
   "outputs": [],
   "source": [
    "# 임베딩 모델이름\n",
    "company = 'OPENAI'\n",
    "embedding_models = 'text-embedding-3-large'\n",
    "header_include = True\n",
    "table_include = True\n",
    "split_yn = False\n",
    "documnet_name = \"2024 IONIQ5\""
   ]
  },
  {
   "cell_type": "code",
   "execution_count": 3,
   "metadata": {},
   "outputs": [],
   "source": [
    "exp_name = f\"{company}_{embedding_models}_h{header_include}_t{table_include}_s{split_yn}\"\n",
    "exp_dir = '../result/' + exp_name\n",
    "\n",
    "os.makedirs(exp_dir, exist_ok=True)"
   ]
  },
  {
   "cell_type": "code",
   "execution_count": 4,
   "metadata": {},
   "outputs": [],
   "source": [
    "DOC_DATA_DIR = '../../../pdf_parsing/parse_result/'\n",
    "DOC_DATA_PATH =  DOC_DATA_DIR + 'doc_ioniq5_result.parquet'\n",
    "OPENAI_API_KEY = os.environ['OPENAI_API_KEY']\n",
    "\n",
    "tqdm.pandas()"
   ]
  },
  {
   "cell_type": "code",
   "execution_count": 5,
   "metadata": {},
   "outputs": [],
   "source": [
    "df = pd.read_parquet(DOC_DATA_PATH)"
   ]
  },
  {
   "cell_type": "markdown",
   "metadata": {},
   "source": [
    "## 문장 길이"
   ]
  },
  {
   "cell_type": "code",
   "execution_count": 11,
   "metadata": {},
   "outputs": [
    {
     "data": {
      "text/plain": [
       "<Axes: ylabel='Frequency'>"
      ]
     },
     "execution_count": 11,
     "metadata": {},
     "output_type": "execute_result"
    },
    {
     "data": {
      "image/png": "[encoded data removed]",
      "text/plain": [
       "<Figure size 640x480 with 1 Axes>"
      ]
     },
     "metadata": {},
     "output_type": "display_data"
    }
   ],
   "source": [
    "df['doc_table_contents'].apply(lambda x: len(x)).plot.hist(bins=100)"
   ]
  },
  {
   "cell_type": "markdown",
   "metadata": {},
   "source": [
    "# Embedding"
   ]
  },
  {
   "cell_type": "code",
   "execution_count": 6,
   "metadata": {},
   "outputs": [],
   "source": [
    "client = OpenAI(api_key=OPENAI_API_KEY)"
   ]
  },
  {
   "cell_type": "code",
   "execution_count": 7,
   "metadata": {},
   "outputs": [],
   "source": [
    "global tokens\n",
    "\n",
    "tokens=0\n",
    "\n",
    "\n",
    "def get_embedding(text):\n",
    "    response = client.embeddings.create(\n",
    "        model=\"text-embedding-3-large\",\n",
    "        input=text\n",
    "    )\n",
    "    global tokens\n",
    "    tokens = tokens + response.usage.total_tokens\n",
    "    # print(index)\n",
    "    return response.data[0].embedding"
   ]
  },
  {
   "cell_type": "code",
   "execution_count": 327,
   "metadata": {},
   "outputs": [],
   "source": [
    "df['doc_table_contents'] = \\\n",
    "    \"설명서 대제목:\" + df['h1'] + '\\n' + \\\n",
    "    \"설명서 중제목:\" + df['h2'].fillna('') + '\\n' +\\\n",
    "    \"설명서 소제목:\" + df['h3'].fillna('') + '\\n' + \\\n",
    "    df['doc_table_contents']"
   ]
  },
  {
   "cell_type": "code",
   "execution_count": 28,
   "metadata": {},
   "outputs": [
    {
     "name": "stderr",
     "output_type": "stream",
     "text": [
      "100%|██████████| 1089/1089 [08:49<00:00,  2.06it/s]\n"
     ]
    }
   ],
   "source": [
    "embedding_result = df['doc_table_contents'].progress_apply(lambda x: get_embedding(x))"
   ]
  },
  {
   "cell_type": "code",
   "execution_count": 31,
   "metadata": {},
   "outputs": [
    {
     "name": "stdout",
     "output_type": "stream",
     "text": [
      "TOKEN USAGE: 458270\n",
      "PRICE USAGE: 11.363048553466797원\n"
     ]
    }
   ],
   "source": [
    "print(f\"TOKEN USAGE: {tokens}\")\n",
    "print(f\"PRICE USAGE: {(tokens/1024/1024)*0.02*1300}원\")"
   ]
  },
  {
   "cell_type": "code",
   "execution_count": 32,
   "metadata": {},
   "outputs": [],
   "source": [
    "df['embeddings'] = embedding_result"
   ]
  },
  {
   "cell_type": "markdown",
   "metadata": {},
   "source": [
    "## Embedding 결과 저장"
   ]
  },
  {
   "cell_type": "code",
   "execution_count": 34,
   "metadata": {},
   "outputs": [],
   "source": [
    "embedding_result_path = exp_dir + '/embeddings.parquet'\n",
    "df.to_parquet(embedding_result_path, index=False)"
   ]
  },
  {
   "cell_type": "markdown",
   "metadata": {},
   "source": [
    "# Vector DB 저장"
   ]
  },
  {
   "cell_type": "code",
   "execution_count": 130,
   "metadata": {},
   "outputs": [],
   "source": [
    "MILVUS_HOST = os.environ['MILVUS_HOST']\n",
    "MILVUS_PORT = os.environ['MILVUS_PORT']\n",
    "COLLECTION_NAME = \"ioniq5_2024_manual\"\n",
    "connections.connect(alias=\"default\", host=MILVUS_HOST, port=MILVUS_PORT)"
   ]
  },
  {
   "cell_type": "code",
   "execution_count": 326,
   "metadata": {},
   "outputs": [],
   "source": [
    "embedding_result_path = exp_dir + '/embeddings.parquet'\n",
    "df = pd.read_parquet(embedding_result_path)"
   ]
  },
  {
   "cell_type": "markdown",
   "metadata": {},
   "source": [
    "## Document 내 header 제외"
   ]
  },
  {
   "cell_type": "markdown",
   "metadata": {},
   "source": [
    "**내용이 없기 때문**"
   ]
  },
  {
   "cell_type": "code",
   "execution_count": 15,
   "metadata": {},
   "outputs": [],
   "source": [
    "df = df[df['h1']!=df['doc_contents']]\n",
    "df = df[df['h2']!=df['doc_contents']]\n",
    "df = df[df['h3']!=df['doc_contents']]"
   ]
  },
  {
   "cell_type": "code",
   "execution_count": 16,
   "metadata": {},
   "outputs": [],
   "source": [
    "df['car_type'] = documnet_name"
   ]
  },
  {
   "cell_type": "markdown",
   "metadata": {},
   "source": [
    "**Collection 삭제 예시**"
   ]
  },
  {
   "cell_type": "code",
   "execution_count": 9,
   "metadata": {},
   "outputs": [],
   "source": [
    "# utility.drop_collection(\"ioniq5_2024_manual\")"
   ]
  },
  {
   "cell_type": "markdown",
   "metadata": {},
   "source": [
    "## Collection 생성"
   ]
  },
  {
   "cell_type": "code",
   "execution_count": 131,
   "metadata": {},
   "outputs": [],
   "source": [
    "id_field = FieldSchema(name=\"id\", dtype=DataType.INT64, is_primary=True, auto_id=False)\n",
    "car_type_filed = FieldSchema(name=\"car_type\", dtype=DataType.VARCHAR, max_length=100, is_primary=False, auto_id=False,\n",
    "                           description='차종')\n",
    "major_h_filed = FieldSchema(name=\"majorheading\", dtype=DataType.VARCHAR, max_length=100, is_primary=False, auto_id=False,\n",
    "                           description='설명서의 대제목')\n",
    "sub_h_filed = FieldSchema(name=\"subheadings\", dtype=DataType.VARCHAR, max_length=100, is_primary=False, auto_id=False,\n",
    "                         description='설명서의 중제목')\n",
    "minor_h_filed = FieldSchema(name=\"minorheading\", dtype=DataType.VARCHAR, max_length=100, is_primary=False, auto_id=False,\n",
    "                           description='설명서의 소제목')\n",
    "contents_filed = FieldSchema(name=\"contents\", dtype=DataType.VARCHAR, max_length=20000, is_primary=False, auto_id=False,\n",
    "                            description='설명서의 내용')\n",
    "imgurl_filed = FieldSchema(name=\"img_url\", dtype=DataType.ARRAY, element_type=DataType.VARCHAR, max_capacity=20, max_length=50,\n",
    "                            description='이미지 URL 경로')\n",
    "tblimgurl_field = FieldSchema(name=\"tbl_img_url\", dtype=DataType.ARRAY, element_type=DataType.VARCHAR, max_capacity=20, max_length=50,\n",
    "                            description='표 이미지 URL 경로')\n",
    "tbl_contents_filed = FieldSchema(name=\"tbl_contents\", dtype=DataType.VARCHAR, max_length=10000, is_primary=False, auto_id=False,\n",
    "                            description='표 내용')\n",
    "page_filed = FieldSchema(name=\"block_nums\", dtype=DataType.VARCHAR, max_length=7, is_primary=False, auto_id=False,\n",
    "                            description='page번호')\n",
    "vector_filed = FieldSchema(name=\"vector\", dtype=DataType.FLOAT_VECTOR, dim=3072)\n",
    "# 컬렉션 스키마 정의\n",
    "schema = CollectionSchema(\n",
    "    fields=[\n",
    "        id_field, \n",
    "        car_type_filed,\n",
    "        major_h_filed,\n",
    "        sub_h_filed,\n",
    "        minor_h_filed,\n",
    "        contents_filed,\n",
    "        imgurl_filed,\n",
    "        tblimgurl_field,\n",
    "        tbl_contents_filed,\n",
    "        page_filed,\n",
    "        vector_filed],\n",
    "    description=\"2024 아이오닉5 문서\"\n",
    ")\n",
    "\n",
    "# 컬렉션 생성\n",
    "if COLLECTION_NAME not in utility.list_collections():\n",
    "    collection = Collection(name=COLLECTION_NAME, schema=schema)\n",
    "else:\n",
    "    collection = Collection(name=COLLECTION_NAME)\n"
   ]
  },
  {
   "cell_type": "markdown",
   "metadata": {},
   "source": [
    "## Data 적재"
   ]
  },
  {
   "cell_type": "code",
   "execution_count": 13,
   "metadata": {},
   "outputs": [],
   "source": [
    "#Index 생성\n",
    "df = df.reset_index(drop=True).reset_index()\n",
    "\n",
    "#NaN 처리\n",
    "df[['table_contents']] = df[['table_contents']].fillna('')\n",
    "df['img_urls'] = df['img_urls'].apply(lambda d: d.tolist() if d is not None else [])\n",
    "df['table_img_urls'] = df['table_img_urls'].apply(lambda d: d.tolist() if d is not None else [])\n",
    "\n",
    "# Pandas DataFrame에서 데이터 추출 및 Milvus에 삽입\n",
    "ids = df['level_0'].to_list()\n",
    "car_types = df['car_type'].to_list()\n",
    "h1s = df['h1'].to_list()\n",
    "h2s = df['h2'].fillna('').astype(str).to_list()\n",
    "h3s = df['h3'].fillna('').astype(str).to_list()\n",
    "cons = df['doc_table_contents'].to_list()\n",
    "img_urls = df['img_urls'].to_list()\n",
    "table_img_urls = df['table_img_urls'].to_list()\n",
    "table_contents = df['table_contents'].to_list()\n",
    "blocks = df['block_num'].to_list()\n",
    "vectors = df['embeddings'].to_list()"
   ]
  },
  {
   "cell_type": "code",
   "execution_count": null,
   "metadata": {},
   "outputs": [],
   "source": [
    "if COLLECTION_NAME not in utility.list_collections():\n",
    "    mr = collection.insert([ids, car_types, h1s, h2s, h3s, cons, img_urls, table_img_urls, table_contents, blocks, vectors])"
   ]
  },
  {
   "cell_type": "markdown",
   "metadata": {},
   "source": [
    "## Index 생성"
   ]
  },
  {
   "cell_type": "code",
   "execution_count": null,
   "metadata": {},
   "outputs": [],
   "source": [
    "collection.create_index(\n",
    "    field_name=\"vector\", \n",
    "    index_params={\n",
    "        \"index_type\": \"IVF_FLAT\", \n",
    "        \"metric_type\": \"COSINE\", \n",
    "        \"params\": {\"nlist\": df['h2'].nunique()} # Cluster 개수\n",
    "        }\n",
    ")"
   ]
  },
  {
   "cell_type": "markdown",
   "metadata": {},
   "source": [
    "# Evaluation"
   ]
  },
  {
   "cell_type": "markdown",
   "metadata": {},
   "source": [
    "## 평가 데이터 불러오기"
   ]
  },
  {
   "cell_type": "code",
   "execution_count": 8,
   "metadata": {},
   "outputs": [],
   "source": [
    "df = pd.read_parquet(\"/Users/yj/Kim/3.study/5.GenAI/my-small-mechanic/embeddings/evaluation_dataset/llm_qa_testset_gpt35_turbo.parquet\")"
   ]
  },
  {
   "cell_type": "code",
   "execution_count": 132,
   "metadata": {},
   "outputs": [],
   "source": [
    "client = OpenAI(api_key=os.environ['OPENAI_API_KEY'])"
   ]
  },
  {
   "cell_type": "code",
   "execution_count": 133,
   "metadata": {},
   "outputs": [],
   "source": [
    "topK = 5\n",
    "nprobe = int(df.groupby('h2').size().max())\n",
    "SEARCH_PARAM = {\n",
    "    \"index_type\": \"IVF_FLAT\", \"metric_type\": \"COSINE\", \"params\": {\"nprobe\": nprobe}\n",
    "}\n",
    "\n",
    "def get_embedding(text):\n",
    "    response = client.embeddings.create(\n",
    "        model=\"text-embedding-3-large\",\n",
    "        input=text\n",
    "    )\n",
    "    return response.data[0].embedding\n",
    "\n",
    "def embed_search(search_string):\n",
    "    search_embeddings = get_embedding(search_string)#['vectors'][0].tolist()\n",
    "    return search_embeddings\n",
    "\n",
    "\n",
    "def search_doc(query, topK=3):\n",
    "    user_vector = embed_search(query)\n",
    "    results = collection.search([user_vector],\"vector\",param=SEARCH_PARAM, limit=topK, expr=None, \n",
    "                             output_fields=['majorheading', 'subheadings', 'minorheading', 'contents', 'img_url', 'tbl_img_url', 'tbl_contents', 'block_nums'])\n",
    "\n",
    "    search_dict = {}\n",
    "    \n",
    "    for i, result in enumerate(results[0]):\n",
    "        doc_entity = result.entity\n",
    "        doc = {\n",
    "            'distance': result.distance,\n",
    "            'majorheading': doc_entity.get('majorheading'),\n",
    "            'subheadings': doc_entity.get('subheadings'),\n",
    "            'minorheading': doc_entity.get('minorheading'),\n",
    "            'contents': doc_entity.get('contents'),\n",
    "            'img_url': doc_entity.get('img_url'),\n",
    "            'tbl_img_url': doc_entity.get('tbl_img_url'),\n",
    "            'tbl_contents': doc_entity.get('tbl_contents'),\n",
    "            'block_nums': doc_entity.get('block_nums'),\n",
    "            \n",
    "        }\n",
    "        search_dict[i] = doc\n",
    "    return search_dict"
   ]
  },
  {
   "cell_type": "markdown",
   "metadata": {},
   "source": [
    "## 평가"
   ]
  },
  {
   "cell_type": "code",
   "execution_count": 43,
   "metadata": {},
   "outputs": [],
   "source": [
    "qaset = df[['block_num', 'doc_contents', 'question', 'answer']]\n",
    "qaset = qaset[(qaset['question']!='error') & (qaset['question']!='')]"
   ]
  },
  {
   "cell_type": "code",
   "execution_count": 44,
   "metadata": {},
   "outputs": [],
   "source": [
    "qaset['question'] = qaset['question'].apply(lambda x: list(map(lambda y: y[2:], x.split('\\n'))))\n",
    "qaset['answer'] = qaset['answer'].apply(lambda x: list(filter(lambda z: len(z)>0, list(map(lambda y: y[2:], x.split('\\n'))))))"
   ]
  },
  {
   "cell_type": "code",
   "execution_count": 46,
   "metadata": {},
   "outputs": [],
   "source": [
    "block_num_list = []\n",
    "contents_list = []\n",
    "question_list = []\n",
    "answer_list = []\n",
    "for i, row in qaset.iterrows():\n",
    "    block_num = row['block_num']\n",
    "    doc_contents = row['doc_contents']\n",
    "    question = row['question']\n",
    "    answer = row['answer']\n",
    "    \n",
    "    for q,a in zip(question, answer):\n",
    "        block_num_list.append(block_num)\n",
    "        contents_list.append(doc_contents)\n",
    "        question_list.append(q)\n",
    "        answer_list.append(a)"
   ]
  },
  {
   "cell_type": "code",
   "execution_count": 70,
   "metadata": {},
   "outputs": [],
   "source": [
    "qaset = pd.DataFrame({'block_num': block_num_list, 'doc_contents': contents_list, 'question': question_list, 'answer': answer_list})"
   ]
  },
  {
   "cell_type": "code",
   "execution_count": 71,
   "metadata": {},
   "outputs": [],
   "source": [
    "qaset['doc1'] = np.nan\n",
    "qaset['doc2'] = np.nan\n",
    "qaset['doc3'] = np.nan\n",
    "qaset['doc4'] = np.nan\n",
    "qaset['doc5'] = np.nan\n"
   ]
  },
  {
   "cell_type": "code",
   "execution_count": 74,
   "metadata": {},
   "outputs": [
    {
     "name": "stderr",
     "output_type": "stream",
     "text": [
      "100it [00:47,  2.08it/s]\n"
     ]
    }
   ],
   "source": [
    "for i, row in tqdm(qaset.iterrows()):\n",
    "    query = row['question']\n",
    "    quert_result = search_doc(query, topK)\n",
    "    for k, v in quert_result.items():\n",
    "        columns = f\"doc{k+1}\"\n",
    "        qaset.loc[i, columns] = v['block_nums']\n",
    "        \n",
    "    if i==100:\n",
    "        break"
   ]
  },
  {
   "cell_type": "code",
   "execution_count": 75,
   "metadata": {},
   "outputs": [],
   "source": [
    "qaset.to_parquet(f'../result/{exp_name}/prediection.parquet', index=False)"
   ]
  },
  {
   "cell_type": "code",
   "execution_count": 78,
   "metadata": {},
   "outputs": [],
   "source": [
    "sample_qaset = qaset.loc[0:99].copy()"
   ]
  },
  {
   "cell_type": "markdown",
   "metadata": {},
   "source": [
    "## Top 1 정확도"
   ]
  },
  {
   "cell_type": "code",
   "execution_count": 83,
   "metadata": {},
   "outputs": [
    {
     "data": {
      "text/plain": [
       "0.52"
      ]
     },
     "execution_count": 83,
     "metadata": {},
     "output_type": "execute_result"
    }
   ],
   "source": [
    "len(sample_qaset[sample_qaset['block_num']==sample_qaset['doc1']])/len(sample_qaset)"
   ]
  },
  {
   "cell_type": "markdown",
   "metadata": {},
   "source": [
    "Top 2 정확도"
   ]
  },
  {
   "cell_type": "code",
   "execution_count": 95,
   "metadata": {},
   "outputs": [
    {
     "data": {
      "text/plain": [
       "0.69"
      ]
     },
     "execution_count": 95,
     "metadata": {},
     "output_type": "execute_result"
    }
   ],
   "source": [
    "sample_qaset[['block_num', 'doc1', 'doc2']].apply(lambda x: x[0] in x[1:3].values, axis=1).sum()/100"
   ]
  },
  {
   "cell_type": "markdown",
   "metadata": {},
   "source": [
    "Top 3 정확도"
   ]
  },
  {
   "cell_type": "code",
   "execution_count": 96,
   "metadata": {},
   "outputs": [
    {
     "data": {
      "text/plain": [
       "0.78"
      ]
     },
     "execution_count": 96,
     "metadata": {},
     "output_type": "execute_result"
    }
   ],
   "source": [
    "sample_qaset[['block_num', 'doc1', 'doc2', 'doc3']].apply(lambda x: x[0] in x[1:4].values, axis=1).sum()/100"
   ]
  },
  {
   "cell_type": "markdown",
   "metadata": {},
   "source": [
    "Top 5 정확도"
   ]
  },
  {
   "cell_type": "code",
   "execution_count": 97,
   "metadata": {},
   "outputs": [
    {
     "data": {
      "text/plain": [
       "0.86"
      ]
     },
     "execution_count": 97,
     "metadata": {},
     "output_type": "execute_result"
    }
   ],
   "source": [
    "sample_qaset[['block_num', 'doc1', 'doc2', 'doc3', 'doc4','doc5']].apply(lambda x: x[0] in x[1:6].values, axis=1).sum()/100"
   ]
  },
  {
   "cell_type": "markdown",
   "metadata": {},
   "source": [
    "# Reranker 적용"
   ]
  },
  {
   "cell_type": "code",
   "execution_count": 110,
   "metadata": {},
   "outputs": [],
   "source": [
    "import torch\n",
    "import numpy as np"
   ]
  },
  {
   "cell_type": "code",
   "execution_count": 108,
   "metadata": {},
   "outputs": [],
   "source": [
    "# Load model directly\n",
    "from transformers import AutoTokenizer, AutoModelForSequenceClassification\n",
    "\n",
    "tokenizer = AutoTokenizer.from_pretrained(\"Dongjin-kr/ko-reranker\")\n",
    "model = AutoModelForSequenceClassification.from_pretrained(\"Dongjin-kr/ko-reranker\")"
   ]
  },
  {
   "cell_type": "code",
   "execution_count": 109,
   "metadata": {},
   "outputs": [],
   "source": [
    "def exp_normalize(x):\n",
    "    b = x.max()\n",
    "    y = np.exp(x - b)\n",
    "    return y / y.sum()"
   ]
  },
  {
   "cell_type": "code",
   "execution_count": 100,
   "metadata": {},
   "outputs": [],
   "source": [
    "qaset_rr = pd.DataFrame({'block_num': block_num_list, 'doc_contents': contents_list, 'question': question_list, 'answer': answer_list})"
   ]
  },
  {
   "cell_type": "code",
   "execution_count": 229,
   "metadata": {},
   "outputs": [],
   "source": [
    "qaset_rr['doc1'] = np.nan\n",
    "qaset_rr['doc2'] = np.nan\n",
    "qaset_rr['doc3'] = np.nan\n",
    "qaset_rr['doc4'] = np.nan\n",
    "qaset_rr['doc5'] = np.nan\n",
    "\n",
    "qaset_rr['rr_doc1'] = np.nan\n",
    "qaset_rr['rr_doc2'] = np.nan\n",
    "qaset_rr['rr_doc3'] = np.nan\n",
    "qaset_rr['rr_doc4'] = np.nan\n",
    "qaset_rr['rr_doc5'] = np.nan\n"
   ]
  },
  {
   "cell_type": "code",
   "execution_count": 265,
   "metadata": {},
   "outputs": [
    {
     "name": "stderr",
     "output_type": "stream",
     "text": [
      "1103it [28:12,  1.53s/it]\n"
     ]
    }
   ],
   "source": [
    "for i, row in tqdm(qaset_rr.iterrows()):\n",
    "    \n",
    "    if i>509:\n",
    "        query = row['question']\n",
    "        query_result = search_doc(query, topK)\n",
    "        query_result = OrderedDict(sorted(query_result.items(), key=lambda x: x[0], reverse=False))\n",
    "        pairs = list(map(lambda k: [k[0],k[1][1]['contents']], zip([query]*len(query_result), query_result.items())))\n",
    "        block_nums = list(map(lambda x: x[1]['block_nums'], query_result.items()))\n",
    "        qaset_rr.loc[i, ['doc1', 'doc2', 'doc3', 'doc4', 'doc5']] = np.array(block_nums)\n",
    "        with torch.no_grad():\n",
    "            inputs = tokenizer(pairs, padding=True, truncation=True, return_tensors='pt', max_length=512)\n",
    "            scores = model(**inputs, return_dict=True).logits.view(-1, ).float()\n",
    "            scores = exp_normalize(scores.numpy())\n",
    "            \n",
    "            qaset_rr.loc[i, ['rr_doc1', 'rr_doc2', 'rr_doc3', 'rr_doc4', 'rr_doc5']] = np.array(block_nums)[np.argsort(scores)][::-1]\n"
   ]
  },
  {
   "cell_type": "code",
   "execution_count": null,
   "metadata": {},
   "outputs": [],
   "source": [
    "qaset_rr.to_parquet('test.paruqet', index=False)"
   ]
  },
  {
   "cell_type": "code",
   "execution_count": 269,
   "metadata": {},
   "outputs": [],
   "source": [
    "sample_qaset_rr = qaset_rr.copy()\n",
    "sample_datasize = len(sample_qaset_rr)"
   ]
  },
  {
   "cell_type": "markdown",
   "metadata": {},
   "source": [
    "## Hit Rate"
   ]
  },
  {
   "cell_type": "code",
   "execution_count": 270,
   "metadata": {},
   "outputs": [
    {
     "name": "stdout",
     "output_type": "stream",
     "text": [
      "0.5738893925657298\n",
      "0.6328195829555757\n"
     ]
    }
   ],
   "source": [
    "print(len(sample_qaset_rr[sample_qaset_rr['block_num']==sample_qaset_rr['doc1']])/sample_datasize)\n",
    "print(len(sample_qaset_rr[sample_qaset_rr['block_num']==sample_qaset_rr['rr_doc1']])/sample_datasize)"
   ]
  },
  {
   "cell_type": "code",
   "execution_count": 271,
   "metadata": {},
   "outputs": [
    {
     "name": "stdout",
     "output_type": "stream",
     "text": [
      "0.7189483227561196\n",
      "0.7479601087941976\n"
     ]
    }
   ],
   "source": [
    "print(sample_qaset_rr[['block_num', 'doc1', 'doc2']].apply(lambda x: x[0] in x[1:3].values, axis=1).sum()/sample_datasize)\n",
    "print(sample_qaset_rr[['block_num', 'rr_doc1', 'rr_doc2']].apply(lambda x: x[0] in x[1:3].values, axis=1).sum()/sample_datasize)"
   ]
  },
  {
   "cell_type": "code",
   "execution_count": 272,
   "metadata": {},
   "outputs": [
    {
     "name": "stdout",
     "output_type": "stream",
     "text": [
      "0.7796917497733454\n",
      "0.8041704442429737\n"
     ]
    }
   ],
   "source": [
    "print(sample_qaset_rr[['block_num', 'doc1', 'doc2', 'doc3']].apply(lambda x: x[0] in x[1:4].values, axis=1).sum()/sample_datasize)\n",
    "print(sample_qaset_rr[['block_num', 'rr_doc1', 'rr_doc2', 'rr_doc3']].apply(lambda x: x[0] in x[1:4].values, axis=1).sum()/sample_datasize)"
   ]
  },
  {
   "cell_type": "code",
   "execution_count": 273,
   "metadata": {},
   "outputs": [
    {
     "name": "stdout",
     "output_type": "stream",
     "text": [
      "0.8395285584768812\n",
      "0.8395285584768812\n"
     ]
    }
   ],
   "source": [
    "print(sample_qaset_rr[['block_num', 'doc1', 'doc2', 'doc3', 'doc4','doc5']].apply(lambda x: x[0] in x[1:6].values, axis=1).sum()/sample_datasize)\n",
    "print(sample_qaset_rr[['block_num', 'rr_doc1', 'rr_doc2', 'rr_doc3', 'rr_doc4','rr_doc5']].apply(lambda x: x[0] in x[1:6].values, axis=1).sum()/sample_datasize)"
   ]
  },
  {
   "cell_type": "markdown",
   "metadata": {},
   "source": [
    "## MRR"
   ]
  },
  {
   "cell_type": "code",
   "execution_count": 314,
   "metadata": {},
   "outputs": [],
   "source": [
    "def get_mrr(x):\n",
    "    x = x.values\n",
    "    rank = np.where(x[1:6]==x[0])[0]\n",
    "    if len(rank)>0:\n",
    "        return 1/(rank[0] + 1)\n",
    "    else:\n",
    "        return 0"
   ]
  },
  {
   "cell_type": "code",
   "execution_count": 318,
   "metadata": {},
   "outputs": [],
   "source": [
    "sample_qaset_rr['mrr'] = sample_qaset_rr[['block_num', 'doc1', 'doc2', 'doc3', 'doc4','doc5']]\\\n",
    "        .apply(lambda x: get_mrr(x), axis=1)\n",
    "\n",
    "sample_qaset_rr['rr_mrr'] = sample_qaset_rr[['block_num', 'rr_doc1', 'rr_doc2', 'rr_doc3', 'rr_doc4','rr_doc5']]\\\n",
    "        .apply(lambda x: get_mrr(x), axis=1)"
   ]
  },
  {
   "cell_type": "code",
   "execution_count": 319,
   "metadata": {},
   "outputs": [
    {
     "data": {
      "text/plain": [
       "0.6804472650347537"
      ]
     },
     "execution_count": 319,
     "metadata": {},
     "output_type": "execute_result"
    }
   ],
   "source": [
    "sample_qaset_rr['mrr'].mean()"
   ]
  },
  {
   "cell_type": "code",
   "execution_count": 320,
   "metadata": {},
   "outputs": [
    {
     "data": {
      "text/plain": [
       "0.7171501964339679"
      ]
     },
     "execution_count": 320,
     "metadata": {},
     "output_type": "execute_result"
    }
   ],
   "source": [
    "sample_qaset_rr['rr_mrr'].mean()"
   ]
  },
  {
   "cell_type": "code",
   "execution_count": 345,
   "metadata": {},
   "outputs": [
    {
     "data": {
      "text/html": [
       "<div>\n",
       "<style scoped>\n",
       "    .dataframe tbody tr th:only-of-type {\n",
       "        vertical-align: middle;\n",
       "    }\n",
       "\n",
       "    .dataframe tbody tr th {\n",
       "        vertical-align: top;\n",
       "    }\n",
       "\n",
       "    .dataframe thead th {\n",
       "        text-align: right;\n",
       "    }\n",
       "</style>\n",
       "<table border=\"1\" class=\"dataframe\">\n",
       "  <thead>\n",
       "    <tr style=\"text-align: right;\">\n",
       "      <th></th>\n",
       "      <th>block_num</th>\n",
       "      <th>h1</th>\n",
       "      <th>h2</th>\n",
       "      <th>h3</th>\n",
       "      <th>doc_table_contents</th>\n",
       "      <th>table_contents</th>\n",
       "      <th>img_urls</th>\n",
       "      <th>embeddings</th>\n",
       "    </tr>\n",
       "  </thead>\n",
       "  <tbody>\n",
       "    <tr>\n",
       "      <th>28</th>\n",
       "      <td>21_3</td>\n",
       "      <td>전기차 시작하기</td>\n",
       "      <td>전기 자동차 충전 종류</td>\n",
       "      <td>충전 시간에 대한 정보</td>\n",
       "      <td>설명서 대제목:전기차 시작하기\\n설명서 중제목:전기 자동차 충전 종류\\n설명서 소제...</td>\n",
       "      <td>표: 21_4\\n|    | 충전 방법   | 충전 방법   | 기본형       ...</td>\n",
       "      <td>None</td>\n",
       "      <td>[0.0017971007619053125, -0.034057457000017166,...</td>\n",
       "    </tr>\n",
       "    <tr>\n",
       "      <th>29</th>\n",
       "      <td>22_0</td>\n",
       "      <td>전기차 시작하기</td>\n",
       "      <td>전기 자동차 충전 종류</td>\n",
       "      <td>전기 자동차 충전 종류</td>\n",
       "      <td>설명서 대제목:전기차 시작하기\\n설명서 중제목:전기 자동차 충전 종류\\n설명서 소제...</td>\n",
       "      <td>표: 22_2\\n|    | 구 분       | 완속 충전             ...</td>\n",
       "      <td>None</td>\n",
       "      <td>[0.028417671099305153, -0.015612320974469185, ...</td>\n",
       "    </tr>\n",
       "    <tr>\n",
       "      <th>32</th>\n",
       "      <td>23_3</td>\n",
       "      <td>전기차 시작하기</td>\n",
       "      <td>전기 자동차 충전 표시등</td>\n",
       "      <td>충전 상태 표시등</td>\n",
       "      <td>설명서 대제목:전기차 시작하기\\n설명서 중제목:전기 자동차 충전 표시등\\n설명서 소...</td>\n",
       "      <td>표: 23_6\\n|    | 충전 표시등 동작   | 충전량[%]   |\\n|---...</td>\n",
       "      <td>[./image/ioniq5_2024/23_4_img.png]</td>\n",
       "      <td>[-0.0076967403292655945, -0.013680819422006607...</td>\n",
       "    </tr>\n",
       "    <tr>\n",
       "      <th>33</th>\n",
       "      <td>23_15</td>\n",
       "      <td>전기차 시작하기</td>\n",
       "      <td>전기 자동차 충전 표시등</td>\n",
       "      <td>충전 상태 표시등</td>\n",
       "      <td>설명서 대제목:전기차 시작하기\\n설명서 중제목:전기 자동차 충전 표시등\\n설명서 소...</td>\n",
       "      <td>표: 23_18\\n|    | 충전 표시등 동작   | 충전량[%]   |\\n|--...</td>\n",
       "      <td>[./image/ioniq5_2024/23_16_img.jpeg]</td>\n",
       "      <td>[0.010524286888539791, -0.011710510589182377, ...</td>\n",
       "    </tr>\n",
       "    <tr>\n",
       "      <th>36</th>\n",
       "      <td>24_7</td>\n",
       "      <td>전기차 시작하기</td>\n",
       "      <td>충전 커넥터 잠금</td>\n",
       "      <td>완속 충전 시 충전 커넥터 잠금 모드</td>\n",
       "      <td>설명서 대제목:전기차 시작하기\\n설명서 중제목:충전 커넥터 잠금\\n설명서 소제목:완...</td>\n",
       "      <td>표: 24_8\\n|    | 커넥터 잠금   | 동작      | 동작    | 동...</td>\n",
       "      <td>None</td>\n",
       "      <td>[0.001777324010618031, 0.004161614924669266, -...</td>\n",
       "    </tr>\n",
       "  </tbody>\n",
       "</table>\n",
       "</div>"
      ],
      "text/plain": [
       "   block_num        h1             h2                    h3  \\\n",
       "28      21_3  전기차 시작하기   전기 자동차 충전 종류          충전 시간에 대한 정보   \n",
       "29      22_0  전기차 시작하기   전기 자동차 충전 종류          전기 자동차 충전 종류   \n",
       "32      23_3  전기차 시작하기  전기 자동차 충전 표시등             충전 상태 표시등   \n",
       "33     23_15  전기차 시작하기  전기 자동차 충전 표시등             충전 상태 표시등   \n",
       "36      24_7  전기차 시작하기      충전 커넥터 잠금  완속 충전 시 충전 커넥터 잠금 모드   \n",
       "\n",
       "                                   doc_table_contents  \\\n",
       "28  설명서 대제목:전기차 시작하기\\n설명서 중제목:전기 자동차 충전 종류\\n설명서 소제...   \n",
       "29  설명서 대제목:전기차 시작하기\\n설명서 중제목:전기 자동차 충전 종류\\n설명서 소제...   \n",
       "32  설명서 대제목:전기차 시작하기\\n설명서 중제목:전기 자동차 충전 표시등\\n설명서 소...   \n",
       "33  설명서 대제목:전기차 시작하기\\n설명서 중제목:전기 자동차 충전 표시등\\n설명서 소...   \n",
       "36  설명서 대제목:전기차 시작하기\\n설명서 중제목:충전 커넥터 잠금\\n설명서 소제목:완...   \n",
       "\n",
       "                                       table_contents  \\\n",
       "28  표: 21_4\\n|    | 충전 방법   | 충전 방법   | 기본형       ...   \n",
       "29  표: 22_2\\n|    | 구 분       | 완속 충전             ...   \n",
       "32  표: 23_6\\n|    | 충전 표시등 동작   | 충전량[%]   |\\n|---...   \n",
       "33  표: 23_18\\n|    | 충전 표시등 동작   | 충전량[%]   |\\n|--...   \n",
       "36  표: 24_8\\n|    | 커넥터 잠금   | 동작      | 동작    | 동...   \n",
       "\n",
       "                                img_urls  \\\n",
       "28                                  None   \n",
       "29                                  None   \n",
       "32    [./image/ioniq5_2024/23_4_img.png]   \n",
       "33  [./image/ioniq5_2024/23_16_img.jpeg]   \n",
       "36                                  None   \n",
       "\n",
       "                                           embeddings  \n",
       "28  [0.0017971007619053125, -0.034057457000017166,...  \n",
       "29  [0.028417671099305153, -0.015612320974469185, ...  \n",
       "32  [-0.0076967403292655945, -0.013680819422006607...  \n",
       "33  [0.010524286888539791, -0.011710510589182377, ...  \n",
       "36  [0.001777324010618031, 0.004161614924669266, -...  "
      ]
     },
     "execution_count": 345,
     "metadata": {},
     "output_type": "execute_result"
    }
   ],
   "source": [
    "df[~df['table_img_urls'].isna()][['block_num', 'h1','h2', 'h3', 'doc_table_contents', 'table_contents', 'img_urls', 'embeddings']].head()"
   ]
  },
  {
   "cell_type": "code",
   "execution_count": 336,
   "metadata": {},
   "outputs": [
    {
     "name": "stdout",
     "output_type": "stream",
     "text": [
      "전기 자동차 충전 종류\n",
      "충전 방법의 종류\n",
      " 충전기의 형상 및 사용 방법은 각 충전기 제조사마다 다를 수 있습니다.구동용(고전압) 배터리 상태와 수명, 충전기의 사양, 주변 온도에 따라 배터리를 충전하는 시간이 달라질 수 있습니다.\n"
     ]
    }
   ],
   "source": [
    "print(df[~df['table_contents'].isna()]['doc_contents'].reset_index(drop=True).loc[1])"
   ]
  },
  {
   "cell_type": "code",
   "execution_count": 342,
   "metadata": {},
   "outputs": [
    {
     "name": "stdout",
     "output_type": "stream",
     "text": [
      "설명서 대제목:전기차 시작하기\n",
      "설명서 중제목:전기 자동차 개요\n",
      "설명서 소제목:배터리에 대한 정보\n",
      "설명서 대제목:전기차 시작하기\n",
      "설명서 중제목:전기 자동차 개요\n",
      "설명서 소제목:배터리에 대한 정보\n",
      "배터리에 대한 정보\n",
      " 본 차량의 배터리는 모터 및 에어컨을 작동시키는 구동용(고전압) 배터리와 조명, 와이퍼, 오디오 등을 작동시키는 보조 배터리(12V)로 구성되어 있습니다. 보조 배터리는 주행 가능 표시등()이켜진 상태 또는 구동용(고전압) 배터리가 충전되는 경우에 자동으로 충전됩니다.\n"
     ]
    }
   ],
   "source": [
    "print(df['doc_table_contents'].loc[3])"
   ]
  },
  {
   "cell_type": "code",
   "execution_count": null,
   "metadata": {},
   "outputs": [],
   "source": [
    "embedding_result_path = exp_dir + '/embeddings.parquet'\n",
    "df.to_parquet(embedding_result_path, index=False)"
   ]
  }
 ],
 "metadata": {
  "kernelspec": {
   "display_name": "myMechanic",
   "language": "python",
   "name": "mymechanic"
  },
  "language_info": {
   "codemirror_mode": {
    "name": "ipython",
    "version": 3
   },
   "file_extension": ".py",
   "mimetype": "text/x-python",
   "name": "python",
   "nbconvert_exporter": "python",
   "pygments_lexer": "ipython3",
   "version": "3.8.13"
  }
 },
 "nbformat": 4,
 "nbformat_minor": 2
}
