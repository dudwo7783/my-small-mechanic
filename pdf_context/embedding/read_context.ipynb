{
 "cells": [
  {
   "cell_type": "code",
   "execution_count": 1,
   "metadata": {},
   "outputs": [],
   "source": [
    "import pandas as pd"
   ]
  },
  {
   "cell_type": "code",
   "execution_count": 2,
   "metadata": {},
   "outputs": [],
   "source": [
    "df = pd.read_parquet('./SANTAFE_MX5_2023_embeddings.parquet')"
   ]
  },
  {
   "cell_type": "code",
   "execution_count": 4,
   "metadata": {},
   "outputs": [
    {
     "data": {
      "text/plain": [
       "array(['\\n에어컨 시스템\\n\\n에어컨 관련 작업 시, 반드시 지정된 냉매를 사용하십시오.지정되지 않은 냉매를 사용하면 냉방 성능 저하 및 심각한 부품 손상을 일으킬 수 있습니다. ',\n",
       "       '\\n엔진 번호\\n\\nSmartstream G2.5 T-GDI\\n\\n엔진 번호는 실린더 블록(그림의 위치)에 타각되어 있습니다.',\n",
       "       '\\n엔진룸\\n\\nSmartstream G2.5 T-GDI\\n\\n본 도안은 실제 차량과 다를 수 있습니다.',\n",
       "       '\\n오픈소스 소프트웨어 정보\\n\\n본 차량은 오픈소스 라이선스가 적용된 소프트웨어를 포함하고 있습니다.소스코드를 포함한 오픈소스 라이선스 정보는 홈페이지 https://www.hyundai.com/worldwide/opensource를 통해 제공 받으실 수 있습니다.차량을 구매한 후 3년 내에 이메일opensource@hyundai.com로 이 차량에 탑재된 소프트웨어의 오픈소스 코드를 요청하시면 저장매체 비용, 운반비 등 제공에 필요한 최소한의 비용을 받고 CD-ROM 등의 저장 매체에 담아 보내드립니다.',\n",
       "       '\\n자기 인증 라벨\\n\\n자기 인증 라벨은 차량이 대한민국 자동차 관리법령에 맞게 제작되었음을 나타냅니다.'],\n",
       "      dtype=object)"
      ]
     },
     "execution_count": 4,
     "metadata": {},
     "output_type": "execute_result"
    }
   ],
   "source": [
    "df['doc_contents'].drop_duplicates().values[:5]"
   ]
  },
  {
   "cell_type": "code",
   "execution_count": null,
   "metadata": {},
   "outputs": [],
   "source": []
  }
 ],
 "metadata": {
  "kernelspec": {
   "display_name": "myMechanic_py39",
   "language": "python",
   "name": "python3"
  },
  "language_info": {
   "codemirror_mode": {
    "name": "ipython",
    "version": 3
   },
   "file_extension": ".py",
   "mimetype": "text/x-python",
   "name": "python",
   "nbconvert_exporter": "python",
   "pygments_lexer": "ipython3",
   "version": "3.9.11"
  }
 },
 "nbformat": 4,
 "nbformat_minor": 2
}
