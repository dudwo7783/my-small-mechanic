{
 "cells": [
  {
   "cell_type": "code",
   "execution_count": 2,
   "metadata": {},
   "outputs": [],
   "source": [
    "import os\n",
    "from tqdm import tqdm\n",
    "\n",
    "import pandas as pd\n",
    "from parse_tool import PDFProcessor\n",
    "from text_processing import *\n"
   ]
  },
  {
   "cell_type": "code",
   "execution_count": 15,
   "metadata": {},
   "outputs": [],
   "source": [
    "# NAMESPACE = 'SANTAFE_MX5_2023'\n",
    "NAMESPACE = 'SONATA_DN8_2024'\n",
    "# pdf_file = '/Users/yj/Kim/1.work/SKR/8.GenAI/my-small-mechanic/pdf_parser/pdf/2024 아이오닉 5 (IONIQ 5) NE.pdf'\n",
    "\n",
    "# pdf_file = '/Users/yj/Kim/1.work/SKR/8.GenAI/my-small-mechanic/pdf_parser/pdf/디 올 뉴 싼타페 MX5.pdf'\n",
    "pdf_file = '/Users/yj/Kim/1.work/SKR/8.GenAI/my-small-mechanic/pdf_parser/pdf/2024 쏘나타 디 엣지 DN8.pdf'\n",
    "context_file_root_path = '/Users/yj/Kim/1.work/SKR/8.GenAI/my-small-mechanic/pdf_context'\n",
    "\n",
    "os.makedirs(context_file_root_path + f'/image/{NAMESPACE}', exist_ok=True)\n",
    "os.makedirs(context_file_root_path + f'/csv/{NAMESPACE}', exist_ok=True)\n",
    "os.makedirs(context_file_root_path + f'/text/{NAMESPACE}', exist_ok=True)\n",
    "context_text_dir = context_file_root_path + f'/text/{NAMESPACE}'\n",
    "\n",
    "fitz_page_start = 6\n",
    "fitz_page_end = 498"
   ]
  },
  {
   "cell_type": "code",
   "execution_count": 16,
   "metadata": {},
   "outputs": [],
   "source": [
    "pdf_processor = PDFProcessor(NAMESPACE, pdf_file, fitz_page_start, fitz_page_end, y_range=(39, 575), context_file_root_path = context_file_root_path)"
   ]
  },
  {
   "cell_type": "code",
   "execution_count": 17,
   "metadata": {},
   "outputs": [
    {
     "name": "stdout",
     "output_type": "stream",
     "text": [
      "Processing page 50\n",
      "Processing page 100\n",
      "Processing page 150\n",
      "Processing page 200\n",
      "Processing page 250\n",
      "Processing page 300\n",
      "Processing page 350\n",
      "Processing page 400\n",
      "Processing page 450\n",
      "End of processing \n"
     ]
    }
   ],
   "source": [
    "span_list = []\n",
    "contents_list = []\n",
    "img_urls = []\n",
    "csv_urls = []\n",
    "contents_type = []\n",
    "block_nums = []\n",
    "while 1:\n",
    "    try:\n",
    "        if pdf_processor.page_num % 50 == 0:\n",
    "            print(f\"Processing page {pdf_processor.page_num}\")\n",
    "        next(pdf_processor)\n",
    "        page_result = pdf_processor.parse_pdf()\n",
    "        \n",
    "        span_list.extend(page_result['span'])\n",
    "        contents_list.extend(page_result['contents'])\n",
    "        csv_urls.extend(page_result['csv_urls'])\n",
    "        img_urls.extend(page_result['img_urls'])\n",
    "        contents_type.extend(page_result['contents_type'])\n",
    "        block_nums.extend(page_result['block_num'])\n",
    "    except StopIteration as e:\n",
    "        print('End of processing', e)\n",
    "        break\n",
    "    except Exception as e:\n",
    "        print(f\"Error raised: {e}, page_num: {pdf_processor.page_num}\")\n",
    "        break"
   ]
  },
  {
   "cell_type": "code",
   "execution_count": 18,
   "metadata": {},
   "outputs": [],
   "source": [
    "df = pd.DataFrame({\n",
    "    'span': span_list,\n",
    "    'contents': contents_list,\n",
    "    'csv_urls': csv_urls,\n",
    "    'img_urls': img_urls,\n",
    "    'ctype': contents_type,\n",
    "    'block_num': block_nums\n",
    "})\n",
    "\n",
    "df = df[(df['ctype']=='image') | (~df['contents'].isna())]"
   ]
  },
  {
   "cell_type": "code",
   "execution_count": 19,
   "metadata": {},
   "outputs": [],
   "source": [
    "df.to_csv(f'{context_text_dir}/{NAMESPACE}_result.csv', index=False)\n",
    "df.to_parquet(f'{context_text_dir}/{NAMESPACE}_result.parquet', index=False)"
   ]
  },
  {
   "cell_type": "code",
   "execution_count": 20,
   "metadata": {},
   "outputs": [],
   "source": [
    "df = pd.read_parquet(f'{context_text_dir}/{NAMESPACE}_result.parquet')"
   ]
  },
  {
   "cell_type": "code",
   "execution_count": 21,
   "metadata": {},
   "outputs": [],
   "source": [
    "df = remove_invalid_row_by_string(df)\n",
    "df = remove_invalid_row_by_span(df)\n",
    "df = add_header(df)"
   ]
  },
  {
   "cell_type": "code",
   "execution_count": 22,
   "metadata": {},
   "outputs": [],
   "source": [
    "block_df = group_by_block(df)\n",
    "doc_df = group_by_doc(block_df)"
   ]
  },
  {
   "cell_type": "code",
   "execution_count": 23,
   "metadata": {},
   "outputs": [],
   "source": [
    "doc_df.to_parquet(f'{context_text_dir}/doc_{NAMESPACE}_result.parquet')"
   ]
  },
  {
   "cell_type": "code",
   "execution_count": null,
   "metadata": {},
   "outputs": [],
   "source": []
  },
  {
   "cell_type": "code",
   "execution_count": null,
   "metadata": {},
   "outputs": [],
   "source": []
  }
 ],
 "metadata": {
  "kernelspec": {
   "display_name": "myMechanic_py39",
   "language": "python",
   "name": "python3"
  },
  "language_info": {
   "codemirror_mode": {
    "name": "ipython",
    "version": 3
   },
   "file_extension": ".py",
   "mimetype": "text/x-python",
   "name": "python",
   "nbconvert_exporter": "python",
   "pygments_lexer": "ipython3",
   "version": "3.9.11"
  }
 },
 "nbformat": 4,
 "nbformat_minor": 2
}
