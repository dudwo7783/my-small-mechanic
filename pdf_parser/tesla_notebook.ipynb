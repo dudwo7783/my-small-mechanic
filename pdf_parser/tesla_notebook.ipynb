{
 "cells": [
  {
   "cell_type": "code",
   "execution_count": 1,
   "metadata": {},
   "outputs": [],
   "source": [
    "import os\n",
    "from tqdm import tqdm\n",
    "\n",
    "import pandas as pd\n",
    "from parse_tool import PDFProcessor\n",
    "from text_processing import *\n"
   ]
  },
  {
   "cell_type": "code",
   "execution_count": 2,
   "metadata": {},
   "outputs": [],
   "source": [
    "# NAMESPACE = 'SANTAFE_MX5_2023'\n",
    "NAMESPACE = 'TESLA_MODEL3'\n",
    "# pdf_file = '/Users/yj/Kim/1.work/SKR/8.GenAI/my-small-mechanic/pdf_parser/pdf/2024 아이오닉 5 (IONIQ 5) NE.pdf'\n",
    "\n",
    "# pdf_file = '/Users/yj/Kim/1.work/SKR/8.GenAI/my-small-mechanic/pdf_parser/pdf/디 올 뉴 싼타페 MX5.pdf'\n",
    "pdf_file = '/Users/yj/Kim/1.work/SKR/8.GenAI/my-small-mechanic/pdf_parser/pdf/TESLA_MODEL3.pdf'\n",
    "context_file_root_path = '/Users/yj/Kim/1.work/SKR/8.GenAI/my-small-mechanic/pdf_context'\n",
    "\n",
    "os.makedirs(context_file_root_path + f'/image/{NAMESPACE}', exist_ok=True)\n",
    "os.makedirs(context_file_root_path + f'/csv/{NAMESPACE}', exist_ok=True)\n",
    "os.makedirs(context_file_root_path + f'/text/{NAMESPACE}', exist_ok=True)\n",
    "context_text_dir = context_file_root_path + f'/text/{NAMESPACE}'\n",
    "\n",
    "fitz_page_start = 7\n",
    "fitz_page_end = 253\n",
    "HYUNNDAI_y_range = (39, 575)\n",
    "TESLA_y_range=(39,775)\n"
   ]
  },
  {
   "cell_type": "code",
   "execution_count": 10,
   "metadata": {},
   "outputs": [],
   "source": [
    "company = 'hyundai'\n",
    "if NAMESPACE.startswith(\"TESLA\"):\n",
    "    company = 'tesla'"
   ]
  },
  {
   "cell_type": "code",
   "execution_count": 11,
   "metadata": {},
   "outputs": [],
   "source": [
    "pdf_processor = PDFProcessor(NAMESPACE, pdf_file, fitz_page_start, fitz_page_end, y_range=TESLA_y_range, context_file_root_path = context_file_root_path, company=company)"
   ]
  },
  {
   "cell_type": "code",
   "execution_count": 12,
   "metadata": {},
   "outputs": [
    {
     "name": "stdout",
     "output_type": "stream",
     "text": [
      "Processing page 50\n",
      "Processing page 100\n",
      "Processing page 150\n",
      "Processing page 200\n",
      "Processing page 250\n",
      "End of processing \n"
     ]
    }
   ],
   "source": [
    "span_list = []\n",
    "contents_list = []\n",
    "img_urls = []\n",
    "csv_urls = []\n",
    "contents_type = []\n",
    "block_nums = []\n",
    "while 1:\n",
    "    try:\n",
    "        if pdf_processor.page_num % 50 == 0:\n",
    "            print(f\"Processing page {pdf_processor.page_num}\")\n",
    "        next(pdf_processor)\n",
    "        page_result = pdf_processor.parse_pdf()\n",
    "        \n",
    "        span_list.extend(page_result['span'])\n",
    "        contents_list.extend(page_result['contents'])\n",
    "        csv_urls.extend(page_result['csv_urls'])\n",
    "        img_urls.extend(page_result['img_urls'])\n",
    "        contents_type.extend(page_result['contents_type'])\n",
    "        block_nums.extend(page_result['block_num'])\n",
    "    except StopIteration as e:\n",
    "        print('End of processing', e)\n",
    "        break\n",
    "    except Exception as e:\n",
    "        print(f\"Error raised: {e}, page_num: {pdf_processor.page_num}\")\n",
    "        break"
   ]
  },
  {
   "cell_type": "code",
   "execution_count": 13,
   "metadata": {},
   "outputs": [],
   "source": [
    "df = pd.DataFrame({\n",
    "    'span': span_list,\n",
    "    'contents': contents_list,\n",
    "    'csv_urls': csv_urls,\n",
    "    'img_urls': img_urls,\n",
    "    'ctype': contents_type,\n",
    "    'block_num': block_nums\n",
    "})\n",
    "\n",
    "df = df[(df['ctype']=='image') | (~df['contents'].isna())]"
   ]
  },
  {
   "cell_type": "code",
   "execution_count": 14,
   "metadata": {},
   "outputs": [],
   "source": [
    "df.to_csv(f'{context_text_dir}/{NAMESPACE}_result.csv', index=False)\n",
    "df.to_parquet(f'{context_text_dir}/{NAMESPACE}_result.parquet', index=False)"
   ]
  },
  {
   "cell_type": "markdown",
   "metadata": {},
   "source": [
    "# 목차 생성"
   ]
  },
  {
   "cell_type": "code",
   "execution_count": 17,
   "metadata": {},
   "outputs": [
    {
     "name": "stdout",
     "output_type": "stream",
     "text": [
      "End of processing \n"
     ]
    }
   ],
   "source": [
    "fitz_page_start = 1\n",
    "fitz_page_end = 3\n",
    "pdf_processor = PDFProcessor(NAMESPACE, pdf_file, fitz_page_start, fitz_page_end, y_range=TESLA_y_range, context_file_root_path = context_file_root_path, company='tesla')\n",
    "span_list = []\n",
    "contents_list = []\n",
    "img_urls = []\n",
    "csv_urls = []\n",
    "contents_type = []\n",
    "block_nums = []\n",
    "while 1:\n",
    "    try:\n",
    "        if pdf_processor.page_num % 50 == 0:\n",
    "            print(f\"Processing page {pdf_processor.page_num}\")\n",
    "        next(pdf_processor)\n",
    "        page_result = pdf_processor.parse_pdf()\n",
    "        \n",
    "        span_list.extend(page_result['span'])\n",
    "        contents_list.extend(page_result['contents'])\n",
    "        csv_urls.extend(page_result['csv_urls'])\n",
    "        img_urls.extend(page_result['img_urls'])\n",
    "        contents_type.extend(page_result['contents_type'])\n",
    "        block_nums.extend(page_result['block_num'])\n",
    "    except StopIteration as e:\n",
    "        print('End of processing', e)\n",
    "        break\n",
    "    except Exception as e:\n",
    "        print(f\"Error raised: {e}, page_num: {pdf_processor.page_num}\")\n",
    "        break\n",
    "    \n",
    "header_df = pd.DataFrame({\n",
    "    'span': span_list,\n",
    "    'contents': contents_list,\n",
    "    'csv_urls': csv_urls,\n",
    "    'img_urls': img_urls,\n",
    "    'ctype': contents_type,\n",
    "    'block_num': block_nums\n",
    "})\n",
    "\n",
    "header_df = header_df[(header_df['ctype']=='image') | (~header_df['contents'].isna())]"
   ]
  },
  {
   "cell_type": "code",
   "execution_count": 18,
   "metadata": {},
   "outputs": [
    {
     "data": {
      "text/html": [
       "<div>\n",
       "<style scoped>\n",
       "    .dataframe tbody tr th:only-of-type {\n",
       "        vertical-align: middle;\n",
       "    }\n",
       "\n",
       "    .dataframe tbody tr th {\n",
       "        vertical-align: top;\n",
       "    }\n",
       "\n",
       "    .dataframe thead th {\n",
       "        text-align: right;\n",
       "    }\n",
       "</style>\n",
       "<table border=\"1\" class=\"dataframe\">\n",
       "  <thead>\n",
       "    <tr style=\"text-align: right;\">\n",
       "      <th></th>\n",
       "      <th>span</th>\n",
       "      <th>contents</th>\n",
       "      <th>csv_urls</th>\n",
       "      <th>img_urls</th>\n",
       "      <th>ctype</th>\n",
       "      <th>block_num</th>\n",
       "    </tr>\n",
       "  </thead>\n",
       "  <tbody>\n",
       "    <tr>\n",
       "      <th>0</th>\n",
       "      <td>\"('NotoSansKR-Regular', 0, 12)\"</td>\n",
       "      <td>개요...............................................</td>\n",
       "      <td>None</td>\n",
       "      <td>None</td>\n",
       "      <td>text</td>\n",
       "      <td>2_0</td>\n",
       "    </tr>\n",
       "    <tr>\n",
       "      <th>1</th>\n",
       "      <td>\"('NotoSansKR-Regular', 0, 9)\"</td>\n",
       "      <td>외관...............................................</td>\n",
       "      <td>None</td>\n",
       "      <td>None</td>\n",
       "      <td>text</td>\n",
       "      <td>2_0</td>\n",
       "    </tr>\n",
       "    <tr>\n",
       "      <th>2</th>\n",
       "      <td>\"('NotoSansKR-Regular', 0, 9)\"</td>\n",
       "      <td>실내...............................................</td>\n",
       "      <td>None</td>\n",
       "      <td>None</td>\n",
       "      <td>text</td>\n",
       "      <td>2_0</td>\n",
       "    </tr>\n",
       "    <tr>\n",
       "      <th>3</th>\n",
       "      <td>\"('NotoSansKR-Regular', 0, 9)\"</td>\n",
       "      <td>터치스크린............................................</td>\n",
       "      <td>None</td>\n",
       "      <td>None</td>\n",
       "      <td>text</td>\n",
       "      <td>2_0</td>\n",
       "    </tr>\n",
       "    <tr>\n",
       "      <th>4</th>\n",
       "      <td>\"('NotoSansKR-Regular', 0, 9)\"</td>\n",
       "      <td>실내 전자 장치.........................................</td>\n",
       "      <td>None</td>\n",
       "      <td>None</td>\n",
       "      <td>text</td>\n",
       "      <td>2_0</td>\n",
       "    </tr>\n",
       "    <tr>\n",
       "      <th>...</th>\n",
       "      <td>...</td>\n",
       "      <td>...</td>\n",
       "      <td>...</td>\n",
       "      <td>...</td>\n",
       "      <td>...</td>\n",
       "      <td>...</td>\n",
       "    </tr>\n",
       "    <tr>\n",
       "      <th>104</th>\n",
       "      <td>\"('NotoSansKR-Regular', 0, 9)\"</td>\n",
       "      <td>기능 사용 가능 여부 설명...................................</td>\n",
       "      <td>None</td>\n",
       "      <td>None</td>\n",
       "      <td>text</td>\n",
       "      <td>3_3</td>\n",
       "    </tr>\n",
       "    <tr>\n",
       "      <th>105</th>\n",
       "      <td>\"('NotoSansKR-Regular', 0, 9)\"</td>\n",
       "      <td>면책 조항............................................</td>\n",
       "      <td>None</td>\n",
       "      <td>None</td>\n",
       "      <td>text</td>\n",
       "      <td>3_3</td>\n",
       "    </tr>\n",
       "    <tr>\n",
       "      <th>106</th>\n",
       "      <td>\"('NotoSansKR-Regular', 0, 9)\"</td>\n",
       "      <td>안전 결함 보고.........................................</td>\n",
       "      <td>None</td>\n",
       "      <td>None</td>\n",
       "      <td>text</td>\n",
       "      <td>3_3</td>\n",
       "    </tr>\n",
       "    <tr>\n",
       "      <th>107</th>\n",
       "      <td>\"('NotoSansKR-Regular', 0, 9)\"</td>\n",
       "      <td>인증 적합성...........................................</td>\n",
       "      <td>None</td>\n",
       "      <td>None</td>\n",
       "      <td>text</td>\n",
       "      <td>3_3</td>\n",
       "    </tr>\n",
       "    <tr>\n",
       "      <th>108</th>\n",
       "      <td>\"('NotoSansKR-Regular', 0, 12)\"</td>\n",
       "      <td>색인...............................................</td>\n",
       "      <td>None</td>\n",
       "      <td>None</td>\n",
       "      <td>text</td>\n",
       "      <td>3_4</td>\n",
       "    </tr>\n",
       "  </tbody>\n",
       "</table>\n",
       "<p>109 rows × 6 columns</p>\n",
       "</div>"
      ],
      "text/plain": [
       "                                span  \\\n",
       "0    \"('NotoSansKR-Regular', 0, 12)\"   \n",
       "1     \"('NotoSansKR-Regular', 0, 9)\"   \n",
       "2     \"('NotoSansKR-Regular', 0, 9)\"   \n",
       "3     \"('NotoSansKR-Regular', 0, 9)\"   \n",
       "4     \"('NotoSansKR-Regular', 0, 9)\"   \n",
       "..                               ...   \n",
       "104   \"('NotoSansKR-Regular', 0, 9)\"   \n",
       "105   \"('NotoSansKR-Regular', 0, 9)\"   \n",
       "106   \"('NotoSansKR-Regular', 0, 9)\"   \n",
       "107   \"('NotoSansKR-Regular', 0, 9)\"   \n",
       "108  \"('NotoSansKR-Regular', 0, 12)\"   \n",
       "\n",
       "                                              contents csv_urls img_urls  \\\n",
       "0    개요...............................................     None     None   \n",
       "1    외관...............................................     None     None   \n",
       "2    실내...............................................     None     None   \n",
       "3    터치스크린............................................     None     None   \n",
       "4    실내 전자 장치.........................................     None     None   \n",
       "..                                                 ...      ...      ...   \n",
       "104  기능 사용 가능 여부 설명...................................     None     None   \n",
       "105  면책 조항............................................     None     None   \n",
       "106  안전 결함 보고.........................................     None     None   \n",
       "107  인증 적합성...........................................     None     None   \n",
       "108  색인...............................................     None     None   \n",
       "\n",
       "    ctype block_num  \n",
       "0    text       2_0  \n",
       "1    text       2_0  \n",
       "2    text       2_0  \n",
       "3    text       2_0  \n",
       "4    text       2_0  \n",
       "..    ...       ...  \n",
       "104  text       3_3  \n",
       "105  text       3_3  \n",
       "106  text       3_3  \n",
       "107  text       3_3  \n",
       "108  text       3_4  \n",
       "\n",
       "[109 rows x 6 columns]"
      ]
     },
     "execution_count": 18,
     "metadata": {},
     "output_type": "execute_result"
    }
   ],
   "source": [
    "header_df"
   ]
  },
  {
   "cell_type": "code",
   "execution_count": 19,
   "metadata": {},
   "outputs": [],
   "source": [
    "header_df[['contents', 'page']] = header_df['contents'].apply(lambda x: pd.Series([x.split('.')[0], x.split('.')[-1]]))\n",
    "header_df['page'] = header_df['page'].astype(int)\n",
    "header_df['page'] = header_df['page'] + 2\n",
    "header_df.loc[header_df['span'].astype(str)=='\"(\\'NotoSansKR-Regular\\', 0, 12)\"', 'index'] = 'h1'\n",
    "header_df.loc[header_df['span'].astype(str)=='\"(\\'NotoSansKR-Regular\\', 0, 9)\"', 'index'] = 'h2'\n",
    "header_df.loc[header_df['index'] == 'h1', 'tmp_order'] = -2\n",
    "header_df.loc[header_df['index'] == 'h2', 'tmp_order'] = -1\n",
    "header_df['tmp_order'] = header_df['tmp_order'].astype(int)"
   ]
  },
  {
   "cell_type": "code",
   "execution_count": 20,
   "metadata": {},
   "outputs": [],
   "source": [
    "header_df.loc[header_df['index'] == 'h1', 'block_num'] = header_df.loc[header_df['index'] == 'h1', 'page'].astype(str) + '_0'\n",
    "header_df.loc[header_df['index'] == 'h2', 'block_num'] = header_df.loc[header_df['index'] == 'h2', 'page'].astype(str) + '_1'"
   ]
  },
  {
   "cell_type": "markdown",
   "metadata": {},
   "source": [
    "# 텍스트 정제"
   ]
  },
  {
   "cell_type": "code",
   "execution_count": 28,
   "metadata": {},
   "outputs": [],
   "source": [
    "df = pd.read_parquet(f'{context_text_dir}/{NAMESPACE}_result.parquet')\n",
    "df[['page', 'num']] = df['block_num'].apply(lambda x: pd.Series([x.split('_')[0], x.split('_')[1]]))\n",
    "df['block_num'] = df['page'] + '_' + (df['num'].astype(int) + 2).astype(str)\n",
    "df['page'] = df['page'].astype(int)"
   ]
  },
  {
   "cell_type": "code",
   "execution_count": 29,
   "metadata": {},
   "outputs": [],
   "source": [
    "df = remove_invalid_row_by_span(df, 'tesla')\n",
    "df = add_header(df, 'tesla')"
   ]
  },
  {
   "cell_type": "code",
   "execution_count": 30,
   "metadata": {},
   "outputs": [],
   "source": [
    "df = df.reset_index(names='tmp_order')\n",
    "df['tmp_order'] = df['tmp_order']"
   ]
  },
  {
   "cell_type": "code",
   "execution_count": 31,
   "metadata": {},
   "outputs": [],
   "source": [
    "df = pd.concat([header_df, df], axis=0).sort_values(['page', 'tmp_order']).drop(columns = ['tmp_order', 'num'])"
   ]
  },
  {
   "cell_type": "code",
   "execution_count": 34,
   "metadata": {},
   "outputs": [],
   "source": [
    "block_df = group_by_block(df)\n",
    "doc_df = group_by_doc(block_df)\n"
   ]
  },
  {
   "cell_type": "code",
   "execution_count": 38,
   "metadata": {},
   "outputs": [
    {
     "data": {
      "text/plain": [
       "'충전 중지\\n\\n충전 중 언제든지 충전 케이블의 연결을 해제하거나 터치스크린에서 충전 중지를 터치하여 충전을 중지하십시오.\\n\\n참고: 승인 없이 충전 케이블 연결을 분리할 수 없도록 충전 케이블 래치가 잠겨 있어서 Model 3이(가) 잠금 해제되거나 승인된 스마트폰을 인식한 이후에만 충전 케이블의 연결을 분리할 수 있습니다.\\n\\n참고: 초기 세대 충전 포트가 장착된 경우 충전 포트는 Model 3이(가) 잠겨 있는 경우에도 차량이 충전 중이 아닐 때와 주변 온도가 41°F(5°C) 미만으로 낮을 때 잠금 해제된 상태로 유지됩니다.\\n\\n다음과 같이 충전 케이블 연결을 분리합니다.\\n\\n1. 커넥터 핸들의 버튼을 길게 눌러 래치를 해제합니다.\\n\\n2. 충전 포트에서 커넥터를 당깁니다. 충전 포트 도어가 자동으로 닫힙니다.\\n\\n참고: 다음과 같은 방법을 사용하여 충전 포트 도어를 닫을 수도 있습니다.\\n\\n• 터치스크린에서 차량 상태 개요의 충전 포트 아이콘(번개)을 터치합니다.\\n\\n• 터치스크린에서 컨트롤 > 충전 > 충전 포트 닫기로 이동합니다.\\n\\n• 음성 명령을 사용하여 충전 포트 도어를 닫습니다(음성 명령 페이\\n\\n지의 19 참조).\\n\\n경고: 충전 포트 도어를 절대 수동으로 닫지 마세요. 그런 경우 손상을 입힐 수 있습니다.\\n\\n공용 충전 스테이션에서 어댑터를 사용할 때 충전 케이블을 분리하려면 다음과 같이 합니다.\\n\\n1. Model 3을(를) 잠금 해제합니다.\\n\\n2. 공용 충전 핸들을 한 손으로 잡고 어댑터를 다른 손으로 잡은 다음 공용 충전 핸들의 버튼을 누른 상태를 유지하면서 핸들과 어댑터를 바깥쪽으로 잡아 당겨 동시에 분리합니다.\\n\\n참고: 충전 스테이션 핸들이 어댑터에서 분리되어 어댑터가 Model 3 안에 있는 경우 터치스크린을 사용하여 충전 포트 잠금을 해제합니다.\\n\\n3. 충전 핸들의 버튼을 다시 길게 눌러 공용 충전 핸들에서 어댑터를 분리합니다.\\n\\n참고: 충전 포트에서 커넥터를 제거하면 약 10초 뒤에 충전 포트 도어가 자동으로 닫힙니다.\\n\\n참고: 다음과 같은 방법을 사용하여 충전 포트 도어를 닫을 수도 있습니다.\\n\\n• 터치스크린에서 차량 상태 개요의 충전 포트 아이콘(번개)을 터치합니다.\\n\\n• 터치스크린에서 컨트롤 > 충전 > 충전 포트 닫기로 이동합니다.\\n\\n• 음성 명령을 사용하여 충전 포트 도어를 닫습니다(음성 명령 페이\\n\\n지의 19 참조).\\n\\n경고: 충전 포트 도어를 절대 수동으로 닫지 마세요. 그런 경우 손상을 입힐 수 있습니다.\\n\\n경고: Tesla는 Model 3를 사용하지 않을 때에는 전원에 연결된 상태로 둘 것을 강력하게 권장합니다. 이렇게 하면 배터리가 최적의 충전 수위를 유지합니다.'"
      ]
     },
     "execution_count": 38,
     "metadata": {},
     "output_type": "execute_result"
    }
   ],
   "source": [
    "doc_df[doc_df['h3'].str.contains('충전 중지')]['doc_contents'].values[0]"
   ]
  },
  {
   "cell_type": "code",
   "execution_count": 39,
   "metadata": {},
   "outputs": [],
   "source": [
    "doc_df.to_parquet(f'{context_text_dir}/doc_{NAMESPACE}_result.parquet')\n",
    "doc_df.to_csv(f'{context_text_dir}/doc_{NAMESPACE}_result.csv')"
   ]
  }
 ],
 "metadata": {
  "kernelspec": {
   "display_name": "myMechanic_py39",
   "language": "python",
   "name": "python3"
  },
  "language_info": {
   "codemirror_mode": {
    "name": "ipython",
    "version": 3
   },
   "file_extension": ".py",
   "mimetype": "text/x-python",
   "name": "python",
   "nbconvert_exporter": "python",
   "pygments_lexer": "ipython3",
   "version": "3.9.11"
  }
 },
 "nbformat": 4,
 "nbformat_minor": 2
}
