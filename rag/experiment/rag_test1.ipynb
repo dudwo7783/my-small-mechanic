{
 "cells": [
  {
   "cell_type": "code",
   "execution_count": null,
   "metadata": {},
   "outputs": [],
   "source": [
    "# 임베딩 모델이름\n",
    "company = 'OPENAI'\n",
    "embedding_models = 'text-embedding-3-large'\n",
    "header_include = True\n",
    "table_include = True\n",
    "split_yn = False\n",
    "documnet_name = \"2024 IONIQ5\""
   ]
  },
  {
   "cell_type": "code",
   "execution_count": null,
   "metadata": {},
   "outputs": [],
   "source": []
  }
 ],
 "metadata": {
  "language_info": {
   "name": "python"
  }
 },
 "nbformat": 4,
 "nbformat_minor": 2
}
