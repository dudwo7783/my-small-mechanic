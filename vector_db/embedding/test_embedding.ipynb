{
 "cells": [
  {
   "cell_type": "code",
   "execution_count": 1,
   "metadata": {},
   "outputs": [
    {
     "name": "stderr",
     "output_type": "stream",
     "text": [
      "/Users/yj/.pyenv/versions/3.9.11/envs/myMechanic_py39/lib/python3.9/site-packages/tqdm/auto.py:21: TqdmWarning: IProgress not found. Please update jupyter and ipywidgets. See https://ipywidgets.readthedocs.io/en/stable/user_install.html\n",
      "  from .autonotebook import tqdm as notebook_tqdm\n"
     ]
    }
   ],
   "source": [
    "import pandas as pd\n",
    "import os\n",
    "from chunking import ParentChildChunking\n",
    "from embedding import extract_table_token, bm25_embedding, openai_embeddings\n",
    "from pymilvus import Collection, CollectionSchema, FieldSchema, DataType, connections\n",
    "from pymilvus import connections, utility"
   ]
  },
  {
   "cell_type": "code",
   "execution_count": 28,
   "metadata": {},
   "outputs": [],
   "source": [
    "# NAMESPACE = 'IONIQ5_2024'\n",
    "# NAMESPACE = 'SANTAFE_MX5_2023'\n",
    "NAMESPACE = 'SONATA_DN8_2024'\n",
    "\n",
    "\n",
    "context_file_root_path = '/Users/yj/Kim/1.work/SKR/8.GenAI/my-small-mechanic/pdf_context'\n",
    "bm25_model_root_path = '/Users/yj/Kim/1.work/SKR/8.GenAI/my-small-mechanic/vector_db/bm25'\n",
    "context_text_dir = context_file_root_path + f'/text/{NAMESPACE}'\n",
    "\n",
    "MILVUS_HOST = os.environ['MILVUS_HOST']#'localhost' #\n",
    "MILVUS_PORT = os.environ['MILVUS_PORT']\n",
    "COLLECTION_NAME = \"HYNDAI_CAR_MANUAL\"#\"\"\n",
    "\n",
    "os.makedirs(bm25_model_root_path, exist_ok=True)\n",
    "\n",
    "# connections.connect(alias=\"default\", host=MILVUS_HOST, port=MILVUS_PORT)\n"
   ]
  },
  {
   "cell_type": "code",
   "execution_count": 20,
   "metadata": {},
   "outputs": [],
   "source": [
    "\n",
    "df = pd.read_parquet(f'{context_text_dir}/doc_{NAMESPACE}_result.parquet' )"
   ]
  },
  {
   "cell_type": "code",
   "execution_count": 4,
   "metadata": {},
   "outputs": [],
   "source": [
    "\n",
    "pcc = ParentChildChunking()\n",
    "semantic_df = pcc.colelct_context_by_semantic(df)\n",
    "pc_df = pcc.parent_child_chunking(semantic_df)\n",
    "pc_df = extract_table_token(pc_df)"
   ]
  },
  {
   "cell_type": "code",
   "execution_count": 30,
   "metadata": {},
   "outputs": [],
   "source": [
    "bm25_model_path = bm25_model_root_path + f'/bm25_{NAMESPACE}_params.json'\n",
    "bm25_embeddings = bm25_embedding(pc_df['embedding_contents'].values.tolist(), bm25_model_path, train=False)\n",
    "pc_df['bm25_embeddings'] = bm25_embeddings"
   ]
  },
  {
   "cell_type": "code",
   "execution_count": null,
   "metadata": {},
   "outputs": [
    {
     "name": "stderr",
     "output_type": "stream",
     "text": [
      "100%|██████████| 583/583 [04:44<00:00,  2.05it/s]\n"
     ]
    }
   ],
   "source": [
    "oai_embeddings = openai_embeddings(pc_df['embedding_contents'].values)\n",
    "pc_df['embeddings'] = oai_embeddings"
   ]
  },
  {
   "cell_type": "code",
   "execution_count": null,
   "metadata": {},
   "outputs": [],
   "source": [
    "pc_df['car_type'] = NAMESPACE\n",
    "pc_df = pc_df.reset_index(drop=True).reset_index()"
   ]
  },
  {
   "cell_type": "code",
   "execution_count": null,
   "metadata": {},
   "outputs": [],
   "source": [
    "pc_df.drop('bm25_embeddings', axis=1).to_parquet(context_file_root_path+f'/embedding/{NAMESPACE}_embeddings.parquet')"
   ]
  },
  {
   "cell_type": "code",
   "execution_count": 29,
   "metadata": {},
   "outputs": [],
   "source": [
    "pc_df = pd.read_parquet(context_file_root_path+f'/embedding/{NAMESPACE}_embeddings.parquet')"
   ]
  },
  {
   "cell_type": "code",
   "execution_count": 31,
   "metadata": {},
   "outputs": [
    {
     "data": {
      "text/html": [
       "<div>\n",
       "<style scoped>\n",
       "    .dataframe tbody tr th:only-of-type {\n",
       "        vertical-align: middle;\n",
       "    }\n",
       "\n",
       "    .dataframe tbody tr th {\n",
       "        vertical-align: top;\n",
       "    }\n",
       "\n",
       "    .dataframe thead th {\n",
       "        text-align: right;\n",
       "    }\n",
       "</style>\n",
       "<table border=\"1\" class=\"dataframe\">\n",
       "  <thead>\n",
       "    <tr style=\"text-align: right;\">\n",
       "      <th></th>\n",
       "      <th>index</th>\n",
       "      <th>doc_id</th>\n",
       "      <th>h1</th>\n",
       "      <th>h2</th>\n",
       "      <th>chunk_group2</th>\n",
       "      <th>doc_contents</th>\n",
       "      <th>img_urls</th>\n",
       "      <th>table_contents</th>\n",
       "      <th>table_img_urls</th>\n",
       "      <th>table_csv_urls</th>\n",
       "      <th>contents_size</th>\n",
       "      <th>h3</th>\n",
       "      <th>child_chunk</th>\n",
       "      <th>table_token</th>\n",
       "      <th>embedding_contents</th>\n",
       "      <th>embeddings</th>\n",
       "      <th>car_type</th>\n",
       "      <th>bm25_embeddings</th>\n",
       "    </tr>\n",
       "  </thead>\n",
       "  <tbody>\n",
       "    <tr>\n",
       "      <th>0</th>\n",
       "      <td>0</td>\n",
       "      <td>0</td>\n",
       "      <td>1.  안내 및 차량 정보</td>\n",
       "      <td>에어컨 시스템</td>\n",
       "      <td>0</td>\n",
       "      <td>\\n에어컨 시스템\\n\\n에어컨 관련 작업 시, 반드시 지정된 냉매를 사용하십시오.지...</td>\n",
       "      <td>[]</td>\n",
       "      <td>[|    | 종류        | 용량     | 사양        |\\n|---...</td>\n",
       "      <td>[image/SONATA_DN8_2024/20_1_table.jpeg]</td>\n",
       "      <td>[csv/SONATA_DN8_2024/21_1_table.csv]</td>\n",
       "      <td>93</td>\n",
       "      <td></td>\n",
       "      <td>에어컨 시스템\\n\\n에어컨 관련 작업 시, 반드시 지정된 냉매를 사용하십시오.지정되...</td>\n",
       "      <td>종류,용량,R,냉동유,참조,에어컨,이미지,yf,냉매,g,사양</td>\n",
       "      <td>에어컨 시스템\\n\\n\\n에어컨 시스템\\n\\n에어컨 관련 작업 시, 반드시 지정된 냉...</td>\n",
       "      <td>[0.015647629275918007, -0.004448536783456802, ...</td>\n",
       "      <td>SONATA_DN8_2024</td>\n",
       "      <td>{0: 1.4818144796619401, 1: 1.4818144796619401,...</td>\n",
       "    </tr>\n",
       "    <tr>\n",
       "      <th>1</th>\n",
       "      <td>1</td>\n",
       "      <td>1</td>\n",
       "      <td>1.  안내 및 차량 정보</td>\n",
       "      <td>엔진 번호</td>\n",
       "      <td>0</td>\n",
       "      <td>\\n엔진 번호\\n\\nSmartstream G2.5 T-GDI\\n\\nSmartstre...</td>\n",
       "      <td>[image/SONATA_DN8_2024/25_2_img.png, image/SON...</td>\n",
       "      <td>[]</td>\n",
       "      <td>[]</td>\n",
       "      <td>[]</td>\n",
       "      <td>130</td>\n",
       "      <td></td>\n",
       "      <td>엔진 번호\\n\\nSmartstream G2.5 T-GDI\\n\\nSmartstream...</td>\n",
       "      <td></td>\n",
       "      <td>엔진 번호\\n\\n\\n엔진 번호\\n\\nSmartstream G2.5 T-GDI\\n\\n...</td>\n",
       "      <td>[0.02475030906498432, -0.0011217625578865409, ...</td>\n",
       "      <td>SONATA_DN8_2024</td>\n",
       "      <td>{20: 1.6328552529591058, 21: 1.632855252959105...</td>\n",
       "    </tr>\n",
       "    <tr>\n",
       "      <th>2</th>\n",
       "      <td>2</td>\n",
       "      <td>2</td>\n",
       "      <td>1.  안내 및 차량 정보</td>\n",
       "      <td>엔진룸</td>\n",
       "      <td>0</td>\n",
       "      <td>\\n엔진룸\\n\\nSmartstream G2.5 T-GDI\\n\\n이 그림은 실제 차량...</td>\n",
       "      <td>[image/SONATA_DN8_2024/14_2_img.png, image/SON...</td>\n",
       "      <td>[]</td>\n",
       "      <td>[]</td>\n",
       "      <td>[]</td>\n",
       "      <td>193</td>\n",
       "      <td></td>\n",
       "      <td>엔진룸\\n\\nSmartstream G2.5 T-GDI\\n\\n이 그림은 실제 차량과 ...</td>\n",
       "      <td></td>\n",
       "      <td>엔진룸\\n\\n\\n엔진룸\\n\\nSmartstream G2.5 T-GDI\\n\\n이 그림...</td>\n",
       "      <td>[0.019963478669524193, -0.02077077515423298, -...</td>\n",
       "      <td>SONATA_DN8_2024</td>\n",
       "      <td>{13: 1.6328552529591058, 20: 1.632855252959105...</td>\n",
       "    </tr>\n",
       "    <tr>\n",
       "      <th>3</th>\n",
       "      <td>3</td>\n",
       "      <td>3</td>\n",
       "      <td>1.  안내 및 차량 정보</td>\n",
       "      <td>오픈소스 소프트웨어 정보</td>\n",
       "      <td>0</td>\n",
       "      <td>\\n오픈소스 소프트웨어 정보\\n\\n본 차량은 오픈소스 라이선스가 적용된 소프트웨어를...</td>\n",
       "      <td>[]</td>\n",
       "      <td>[]</td>\n",
       "      <td>[]</td>\n",
       "      <td>[]</td>\n",
       "      <td>283</td>\n",
       "      <td></td>\n",
       "      <td>오픈소스 소프트웨어 정보\\n\\n본 차량은 오픈소스 라이선스가 적용된 소프트웨어를 포...</td>\n",
       "      <td></td>\n",
       "      <td>오픈소스 소프트웨어 정보\\n\\n\\n오픈소스 소프트웨어 정보\\n\\n본 차량은 오픈소스...</td>\n",
       "      <td>[-0.021060850471258163, 0.004754357505589724, ...</td>\n",
       "      <td>SONATA_DN8_2024</td>\n",
       "      <td>{13: 1.3227518223363675, 33: 1.322751822336367...</td>\n",
       "    </tr>\n",
       "    <tr>\n",
       "      <th>4</th>\n",
       "      <td>4</td>\n",
       "      <td>4</td>\n",
       "      <td>1.  안내 및 차량 정보</td>\n",
       "      <td>자기 인증 라벨</td>\n",
       "      <td>0</td>\n",
       "      <td>\\n자기 인증 라벨\\n\\n자기 인증 라벨은 차량이 대한민국 자동차 관리법령에 맞게 ...</td>\n",
       "      <td>[image/SONATA_DN8_2024/24_4_img.png]</td>\n",
       "      <td>[]</td>\n",
       "      <td>[]</td>\n",
       "      <td>[]</td>\n",
       "      <td>56</td>\n",
       "      <td></td>\n",
       "      <td>자기 인증 라벨\\n\\n자기 인증 라벨은 차량이 대한민국 자동차 관리법령에 맞게 제작...</td>\n",
       "      <td></td>\n",
       "      <td>자기 인증 라벨\\n\\n\\n자기 인증 라벨\\n\\n자기 인증 라벨은 차량이 대한민국 자...</td>\n",
       "      <td>[-0.001701890490949154, -0.04354502260684967, ...</td>\n",
       "      <td>SONATA_DN8_2024</td>\n",
       "      <td>{33: 1.6002330270094294, 65: 1.600233027009429...</td>\n",
       "    </tr>\n",
       "  </tbody>\n",
       "</table>\n",
       "</div>"
      ],
      "text/plain": [
       "   index  doc_id              h1             h2  chunk_group2  \\\n",
       "0      0       0  1.  안내 및 차량 정보        에어컨 시스템             0   \n",
       "1      1       1  1.  안내 및 차량 정보          엔진 번호             0   \n",
       "2      2       2  1.  안내 및 차량 정보            엔진룸             0   \n",
       "3      3       3  1.  안내 및 차량 정보  오픈소스 소프트웨어 정보             0   \n",
       "4      4       4  1.  안내 및 차량 정보       자기 인증 라벨             0   \n",
       "\n",
       "                                        doc_contents  \\\n",
       "0  \\n에어컨 시스템\\n\\n에어컨 관련 작업 시, 반드시 지정된 냉매를 사용하십시오.지...   \n",
       "1  \\n엔진 번호\\n\\nSmartstream G2.5 T-GDI\\n\\nSmartstre...   \n",
       "2  \\n엔진룸\\n\\nSmartstream G2.5 T-GDI\\n\\n이 그림은 실제 차량...   \n",
       "3  \\n오픈소스 소프트웨어 정보\\n\\n본 차량은 오픈소스 라이선스가 적용된 소프트웨어를...   \n",
       "4  \\n자기 인증 라벨\\n\\n자기 인증 라벨은 차량이 대한민국 자동차 관리법령에 맞게 ...   \n",
       "\n",
       "                                            img_urls  \\\n",
       "0                                                 []   \n",
       "1  [image/SONATA_DN8_2024/25_2_img.png, image/SON...   \n",
       "2  [image/SONATA_DN8_2024/14_2_img.png, image/SON...   \n",
       "3                                                 []   \n",
       "4               [image/SONATA_DN8_2024/24_4_img.png]   \n",
       "\n",
       "                                      table_contents  \\\n",
       "0  [|    | 종류        | 용량     | 사양        |\\n|---...   \n",
       "1                                                 []   \n",
       "2                                                 []   \n",
       "3                                                 []   \n",
       "4                                                 []   \n",
       "\n",
       "                            table_img_urls  \\\n",
       "0  [image/SONATA_DN8_2024/20_1_table.jpeg]   \n",
       "1                                       []   \n",
       "2                                       []   \n",
       "3                                       []   \n",
       "4                                       []   \n",
       "\n",
       "                         table_csv_urls  contents_size h3  \\\n",
       "0  [csv/SONATA_DN8_2024/21_1_table.csv]             93      \n",
       "1                                    []            130      \n",
       "2                                    []            193      \n",
       "3                                    []            283      \n",
       "4                                    []             56      \n",
       "\n",
       "                                         child_chunk  \\\n",
       "0  에어컨 시스템\\n\\n에어컨 관련 작업 시, 반드시 지정된 냉매를 사용하십시오.지정되...   \n",
       "1  엔진 번호\\n\\nSmartstream G2.5 T-GDI\\n\\nSmartstream...   \n",
       "2  엔진룸\\n\\nSmartstream G2.5 T-GDI\\n\\n이 그림은 실제 차량과 ...   \n",
       "3  오픈소스 소프트웨어 정보\\n\\n본 차량은 오픈소스 라이선스가 적용된 소프트웨어를 포...   \n",
       "4  자기 인증 라벨\\n\\n자기 인증 라벨은 차량이 대한민국 자동차 관리법령에 맞게 제작...   \n",
       "\n",
       "                         table_token  \\\n",
       "0  종류,용량,R,냉동유,참조,에어컨,이미지,yf,냉매,g,사양   \n",
       "1                                      \n",
       "2                                      \n",
       "3                                      \n",
       "4                                      \n",
       "\n",
       "                                  embedding_contents  \\\n",
       "0  에어컨 시스템\\n\\n\\n에어컨 시스템\\n\\n에어컨 관련 작업 시, 반드시 지정된 냉...   \n",
       "1  엔진 번호\\n\\n\\n엔진 번호\\n\\nSmartstream G2.5 T-GDI\\n\\n...   \n",
       "2  엔진룸\\n\\n\\n엔진룸\\n\\nSmartstream G2.5 T-GDI\\n\\n이 그림...   \n",
       "3  오픈소스 소프트웨어 정보\\n\\n\\n오픈소스 소프트웨어 정보\\n\\n본 차량은 오픈소스...   \n",
       "4  자기 인증 라벨\\n\\n\\n자기 인증 라벨\\n\\n자기 인증 라벨은 차량이 대한민국 자...   \n",
       "\n",
       "                                          embeddings         car_type  \\\n",
       "0  [0.015647629275918007, -0.004448536783456802, ...  SONATA_DN8_2024   \n",
       "1  [0.02475030906498432, -0.0011217625578865409, ...  SONATA_DN8_2024   \n",
       "2  [0.019963478669524193, -0.02077077515423298, -...  SONATA_DN8_2024   \n",
       "3  [-0.021060850471258163, 0.004754357505589724, ...  SONATA_DN8_2024   \n",
       "4  [-0.001701890490949154, -0.04354502260684967, ...  SONATA_DN8_2024   \n",
       "\n",
       "                                     bm25_embeddings  \n",
       "0  {0: 1.4818144796619401, 1: 1.4818144796619401,...  \n",
       "1  {20: 1.6328552529591058, 21: 1.632855252959105...  \n",
       "2  {13: 1.6328552529591058, 20: 1.632855252959105...  \n",
       "3  {13: 1.3227518223363675, 33: 1.322751822336367...  \n",
       "4  {33: 1.6002330270094294, 65: 1.600233027009429...  "
      ]
     },
     "execution_count": 31,
     "metadata": {},
     "output_type": "execute_result"
    }
   ],
   "source": [
    "pc_df.head()"
   ]
  },
  {
   "cell_type": "code",
   "execution_count": null,
   "metadata": {},
   "outputs": [],
   "source": [
    "pc_df['img_urls'] = pc_df['img_urls'].apply(lambda img_urls: list(map(lambda img_url: '/'.join(img_url.split('/')[-3:]), img_urls)))\n",
    "pc_df['table_img_urls'] = pc_df['table_img_urls'].apply(lambda img_urls: list(map(lambda img_url: '/'.join(img_url.split('/')[-3:]), img_urls)))\n",
    "pc_df['table_csv_urls'] = pc_df['table_csv_urls'].apply(lambda img_urls: list(map(lambda img_url: '/'.join(img_url.split('/')[-3:]), img_urls)))"
   ]
  },
  {
   "cell_type": "code",
   "execution_count": 32,
   "metadata": {},
   "outputs": [],
   "source": [
    "id_field = FieldSchema(name=\"id\", dtype=DataType.INT64, is_primary=True, auto_id=False)\n",
    "car_type_filed = FieldSchema(name=\"car_type\", dtype=DataType.VARCHAR, max_length=100, is_primary=False, auto_id=False,\n",
    "                           description='차종')\n",
    "major_h_filed = FieldSchema(name=\"majorheading\", dtype=DataType.VARCHAR, max_length=100, is_primary=False, auto_id=False,\n",
    "                           description='설명서의 대제목')\n",
    "minor_h_filed = FieldSchema(name=\"minorheading\", dtype=DataType.VARCHAR, max_length=100, is_primary=False, auto_id=False,\n",
    "                           description='설명서의 소제목')\n",
    "minor_sub_id_filed = FieldSchema(name=\"minorheading_sub_id\", dtype=DataType.INT64, max_length=100, is_primary=False, auto_id=False,\n",
    "                            description='소제목 ID')\n",
    "\n",
    "parent_doc_id_filed = FieldSchema(name=\"parent_doc_id\", dtype=DataType.INT64, max_length=1000, is_primary=False, auto_id=False,\n",
    "                            description='Parent 문서ID ')\n",
    "\n",
    "contents_filed = FieldSchema(name=\"doc_contents\", dtype=DataType.VARCHAR, max_length=40000, is_primary=False, auto_id=False,\n",
    "                            description='설명서의 내용')\n",
    "imgurl_filed = FieldSchema(name=\"img_urls\", dtype=DataType.ARRAY, element_type=DataType.VARCHAR, max_capacity=20, max_length=50,\n",
    "                            description='이미지 URL 경로')\n",
    "tblimgurl_field = FieldSchema(name=\"table_img_urls\", dtype=DataType.ARRAY, element_type=DataType.VARCHAR, max_capacity=20, max_length=50,\n",
    "                            description='표 이미지 URL 경로')\n",
    "tblcsvurl_filed = FieldSchema(name=\"table_csv_urls\", dtype=DataType.ARRAY, element_type=DataType.VARCHAR, max_capacity=20, max_length=3000,\n",
    "                            description='표 csv 경로')\n",
    "\n",
    "embedding_contents_filed = FieldSchema(name=\"embedding_contents\", dtype=DataType.VARCHAR, max_length=10000, is_primary=False, auto_id=False,\n",
    "                            description='검증용 임베딩 내용')\n",
    "\n",
    "vector_filed = FieldSchema(name=\"vector\", dtype=DataType.FLOAT_VECTOR, dim=3072)\n",
    "bm_25_vector_filed = FieldSchema(name=\"bm25_vector\", dtype=DataType.SPARSE_FLOAT_VECTOR)\n",
    "# 컬렉션 스키마 정의\n",
    "schema = CollectionSchema(\n",
    "    fields=[\n",
    "        id_field, \n",
    "        car_type_filed,\n",
    "        major_h_filed,\n",
    "        minor_h_filed,\n",
    "        minor_sub_id_filed,\n",
    "        parent_doc_id_filed,\n",
    "        contents_filed,\n",
    "        imgurl_filed,\n",
    "        tblimgurl_field,\n",
    "        tblcsvurl_filed,\n",
    "        embedding_contents_filed,\n",
    "        vector_filed,\n",
    "        bm_25_vector_filed\n",
    "        ],\n",
    "    description=\"현대 기아 차량 매뉴얼\",\n",
    "    partition_key_field=\"car_type\"\n",
    "\n",
    ")\n",
    "\n",
    "# 컬렉션 생성\n",
    "if COLLECTION_NAME not in utility.list_collections():\n",
    "    collection = Collection(name=COLLECTION_NAME, schema=schema)\n",
    "else:\n",
    "    collection = Collection(name=COLLECTION_NAME)\n",
    "\n"
   ]
  },
  {
   "cell_type": "code",
   "execution_count": 10,
   "metadata": {},
   "outputs": [],
   "source": [
    "# utility.drop_collection(COLLECTION_NAME)"
   ]
  },
  {
   "cell_type": "code",
   "execution_count": 33,
   "metadata": {},
   "outputs": [],
   "source": [
    "#Index 생성\n",
    "# Pandas DataFrame에서 데이터 추출 및 Milvus에 삽입\n",
    "ids = pc_df['index'].to_list()\n",
    "car_types = pc_df['car_type'].to_list()\n",
    "h1s = pc_df['h1'].to_list()\n",
    "h2s = pc_df['h2'].fillna('').astype(str).to_list()\n",
    "h3s = pc_df['chunk_group2'].to_list()\n",
    "parent_doc_id= pc_df['doc_id'].to_list()\n",
    "\n",
    "cons = pc_df['doc_contents'].to_list()\n",
    "img_urls = pc_df['img_urls'].to_list()\n",
    "table_img_urls = pc_df['table_img_urls'].to_list()\n",
    "table_csv_urls = pc_df['table_csv_urls'].to_list()\n",
    "embedding_cont = pc_df['embedding_contents'].to_list()\n",
    "\n",
    "vectors = pc_df['embeddings'].to_list()\n",
    "bm25_vectors = pc_df['bm25_embeddings'].to_list()"
   ]
  },
  {
   "cell_type": "code",
   "execution_count": 34,
   "metadata": {},
   "outputs": [
    {
     "data": {
      "text/plain": [
       "'SONATA_DN8_2024'"
      ]
     },
     "execution_count": 34,
     "metadata": {},
     "output_type": "execute_result"
    }
   ],
   "source": [
    "NAMESPACE"
   ]
  },
  {
   "cell_type": "code",
   "execution_count": null,
   "metadata": {},
   "outputs": [
    {
     "data": {
      "text/plain": [
       "(insert count: 0, delete count: 36, upsert count: 0, timestamp: 0, success count: 0, err count: 0)"
      ]
     },
     "execution_count": 44,
     "metadata": {},
     "output_type": "execute_result"
    }
   ],
   "source": [
    "# expr = f'''car_type==\"{NAMESPACE}\"'''\n",
    "# collection.delete(expr)"
   ]
  },
  {
   "cell_type": "code",
   "execution_count": 17,
   "metadata": {},
   "outputs": [],
   "source": [
    "expr = f'''car_type==\"{NAMESPACE}\"'''\n",
    "response = collection.query(expr, output_fields=[\"car_type\", \"doc_contents\"])"
   ]
  },
  {
   "cell_type": "code",
   "execution_count": 18,
   "metadata": {},
   "outputs": [
    {
     "data": {
      "text/plain": [
       "619"
      ]
     },
     "execution_count": 18,
     "metadata": {},
     "output_type": "execute_result"
    }
   ],
   "source": [
    "len(response)"
   ]
  },
  {
   "cell_type": "code",
   "execution_count": 35,
   "metadata": {},
   "outputs": [],
   "source": [
    "mr = collection.insert([ids, car_types, h1s, h2s, h3s, parent_doc_id, cons, img_urls, table_img_urls, table_csv_urls, embedding_cont, vectors, bm25_vectors])\n"
   ]
  },
  {
   "cell_type": "code",
   "execution_count": 16,
   "metadata": {},
   "outputs": [],
   "source": [
    "M = 20\n",
    "efConstruction=100"
   ]
  },
  {
   "cell_type": "code",
   "execution_count": 17,
   "metadata": {},
   "outputs": [
    {
     "data": {
      "text/plain": [
       "Status(code=0, message=)"
      ]
     },
     "execution_count": 17,
     "metadata": {},
     "output_type": "execute_result"
    }
   ],
   "source": [
    "collection.create_index(\n",
    "    field_name=\"vector\", \n",
    "    index_params={\n",
    "        \"index_type\": \"HNSW\", \n",
    "        \"index_name\":\"ann_index\",\n",
    "        \"metric_type\": \"COSINE\", \n",
    "        \"params\": {\"M\": M, 'efConstruction':efConstruction} # Cluster 개수\n",
    "        }\n",
    ")"
   ]
  },
  {
   "cell_type": "code",
   "execution_count": 18,
   "metadata": {},
   "outputs": [
    {
     "data": {
      "text/plain": [
       "Status(code=0, message=)"
      ]
     },
     "execution_count": 18,
     "metadata": {},
     "output_type": "execute_result"
    }
   ],
   "source": [
    "\n",
    "collection.create_index(\n",
    "    field_name= \"bm25_vector\",\n",
    "    index_params={\n",
    "        \"index_name\": \"bm25_index\",\n",
    "        \"index_type\": \"SPARSE_INVERTED_INDEX\", # the type of index to be created. set to `SPARSE_INVERTED_INDEX` or `SPARSE_WAND`.\n",
    "        \"metric_type\": \"IP\", # the metric type to be used for the index. Currently, only `IP` (Inner Product) is supported.\n",
    "        \"params\": {\"drop_ratio_build\": 0.01}, # the ratio of small vector values to be dropped during indexing.\n",
    "})"
   ]
  },
  {
   "cell_type": "code",
   "execution_count": null,
   "metadata": {},
   "outputs": [
    {
     "data": {
      "text/plain": [
       "'HYNDAI_CAR_MANUAL'"
      ]
     },
     "execution_count": 18,
     "metadata": {},
     "output_type": "execute_result"
    }
   ],
   "source": [
    "COLLECTION_NAME"
   ]
  },
  {
   "cell_type": "code",
   "execution_count": 14,
   "metadata": {},
   "outputs": [],
   "source": [
    "collection = Collection(COLLECTION_NAME)\n",
    "collection.load()"
   ]
  },
  {
   "cell_type": "code",
   "execution_count": null,
   "metadata": {},
   "outputs": [],
   "source": []
  }
 ],
 "metadata": {
  "kernelspec": {
   "display_name": "myMechanic_py39",
   "language": "python",
   "name": "python3"
  },
  "language_info": {
   "codemirror_mode": {
    "name": "ipython",
    "version": 3
   },
   "file_extension": ".py",
   "mimetype": "text/x-python",
   "name": "python",
   "nbconvert_exporter": "python",
   "pygments_lexer": "ipython3",
   "version": "3.9.11"
  }
 },
 "nbformat": 4,
 "nbformat_minor": 2
}
