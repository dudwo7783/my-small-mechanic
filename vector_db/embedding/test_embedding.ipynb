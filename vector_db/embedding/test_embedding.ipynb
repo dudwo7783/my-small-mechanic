{
 "cells": [
  {
   "cell_type": "code",
   "execution_count": 1,
   "metadata": {},
   "outputs": [
    {
     "name": "stderr",
     "output_type": "stream",
     "text": [
      "/Users/yj/.pyenv/versions/myMechanic_py39/lib/python3.9/site-packages/tqdm/auto.py:21: TqdmWarning: IProgress not found. Please update jupyter and ipywidgets. See https://ipywidgets.readthedocs.io/en/stable/user_install.html\n",
      "  from .autonotebook import tqdm as notebook_tqdm\n"
     ]
    }
   ],
   "source": [
    "import pandas as pd\n",
    "import os\n",
    "from chunking import ParentChildChunking\n",
    "from embedding import extract_table_token, bm25_embedding, openai_embeddings\n",
    "from pymilvus import Collection, CollectionSchema, FieldSchema, DataType, connections\n",
    "from pymilvus import connections, utility"
   ]
  },
  {
   "cell_type": "code",
   "execution_count": 14,
   "metadata": {},
   "outputs": [],
   "source": [
    "NAMESPACE = 'IONIQ5_2024'#\n",
    "context_file_root_path = '/Users/yj/Kim/1.work/SKR/8.GenAI/my-small-mechanic/pdf_context'\n",
    "bm25_model_root_path = '/Users/yj/Kim/1.work/SKR/8.GenAI/my-small-mechanic/vector_db/bm25'\n",
    "context_text_dir = context_file_root_path + f'/text/{NAMESPACE}'\n",
    "\n",
    "MILVUS_HOST = 'localhost' #os.environ['MILVUS_HOST']\n",
    "MILVUS_PORT = os.environ['MILVUS_PORT']\n",
    "COLLECTION_NAME = \"TEST\"\n",
    "\n",
    "os.makedirs(bm25_model_root_path, exist_ok=True)\n",
    "\n",
    "connections.connect(alias=\"default\", host=MILVUS_HOST, port=MILVUS_PORT)\n"
   ]
  },
  {
   "cell_type": "code",
   "execution_count": 4,
   "metadata": {},
   "outputs": [],
   "source": [
    "\n",
    "df = pd.read_parquet(f'{context_text_dir}/doc_{NAMESPACE}_result.parquet' )"
   ]
  },
  {
   "cell_type": "code",
   "execution_count": 6,
   "metadata": {},
   "outputs": [],
   "source": [
    "\n",
    "pcc = ParentChildChunking()\n",
    "semantic_df = pcc.colelct_context_by_semantic(df)\n",
    "pc_df = pcc.parent_child_chunking(semantic_df)\n",
    "pc_df = extract_table_token(pc_df)"
   ]
  },
  {
   "cell_type": "code",
   "execution_count": 7,
   "metadata": {},
   "outputs": [],
   "source": [
    "bm25_model_path = bm25_model_root_path + f'/bm25_{NAMESPACE}_params.json'\n",
    "bm25_embeddings = bm25_embedding(pc_df['embedding_contents'].values.tolist(), bm25_model_path, train=False)\n",
    "pc_df['bm25_embeddings'] = bm25_embeddings"
   ]
  },
  {
   "cell_type": "code",
   "execution_count": 8,
   "metadata": {},
   "outputs": [
    {
     "name": "stderr",
     "output_type": "stream",
     "text": [
      "100%|██████████| 619/619 [05:31<00:00,  1.87it/s]\n"
     ]
    }
   ],
   "source": [
    "oai_embeddings = openai_embeddings(pc_df['embedding_contents'].values)\n",
    "pc_df['embeddings'] = oai_embeddings"
   ]
  },
  {
   "cell_type": "code",
   "execution_count": 9,
   "metadata": {},
   "outputs": [],
   "source": [
    "pc_df['car_type'] = NAMESPACE\n",
    "pc_df = pc_df.reset_index(drop=True).reset_index()"
   ]
  },
  {
   "cell_type": "code",
   "execution_count": 13,
   "metadata": {},
   "outputs": [],
   "source": [
    "pc_df.drop('bm25_embeddings', axis=1).to_parquet(context_file_root_path+f'/embedding/{NAMESPACE}_embeddings.parquet')"
   ]
  },
  {
   "cell_type": "code",
   "execution_count": 16,
   "metadata": {},
   "outputs": [],
   "source": [
    "# Colelction 삭제 원할 시\n",
    "utility.drop_collection(COLLECTION_NAME)"
   ]
  },
  {
   "cell_type": "code",
   "execution_count": 17,
   "metadata": {},
   "outputs": [],
   "source": [
    "id_field = FieldSchema(name=\"id\", dtype=DataType.INT64, is_primary=True, auto_id=False)\n",
    "car_type_filed = FieldSchema(name=\"car_type\", dtype=DataType.VARCHAR, max_length=100, is_primary=False, auto_id=False,\n",
    "                           description='차종')\n",
    "major_h_filed = FieldSchema(name=\"majorheading\", dtype=DataType.VARCHAR, max_length=100, is_primary=False, auto_id=False,\n",
    "                           description='설명서의 대제목')\n",
    "minor_h_filed = FieldSchema(name=\"minorheading\", dtype=DataType.VARCHAR, max_length=100, is_primary=False, auto_id=False,\n",
    "                           description='설명서의 소제목')\n",
    "minor_sub_id_filed = FieldSchema(name=\"minorheading_sub_id\", dtype=DataType.INT64, max_length=100, is_primary=False, auto_id=False,\n",
    "                            description='소제목 ID')\n",
    "\n",
    "parent_doc_id_filed = FieldSchema(name=\"parent_doc_id\", dtype=DataType.INT64, max_length=1000, is_primary=False, auto_id=False,\n",
    "                            description='Parent 문서ID ')\n",
    "\n",
    "contents_filed = FieldSchema(name=\"doc_contents\", dtype=DataType.VARCHAR, max_length=40000, is_primary=False, auto_id=False,\n",
    "                            description='설명서의 내용')\n",
    "imgurl_filed = FieldSchema(name=\"img_urls\", dtype=DataType.ARRAY, element_type=DataType.VARCHAR, max_capacity=20, max_length=50,\n",
    "                            description='이미지 URL 경로')\n",
    "tblimgurl_field = FieldSchema(name=\"table_img_urls\", dtype=DataType.ARRAY, element_type=DataType.VARCHAR, max_capacity=20, max_length=50,\n",
    "                            description='표 이미지 URL 경로')\n",
    "tblcsvurl_filed = FieldSchema(name=\"table_csv_urls\", dtype=DataType.ARRAY, element_type=DataType.VARCHAR, max_capacity=20, max_length=3000,\n",
    "                            description='표 csv 경로')\n",
    "\n",
    "embedding_contents_filed = FieldSchema(name=\"embedding_contents\", dtype=DataType.VARCHAR, max_length=10000, is_primary=False, auto_id=False,\n",
    "                            description='검증용 임베딩 내용')\n",
    "\n",
    "vector_filed = FieldSchema(name=\"vector\", dtype=DataType.FLOAT_VECTOR, dim=3072)\n",
    "bm_25_vector_filed = FieldSchema(name=\"bm25_vector\", dtype=DataType.SPARSE_FLOAT_VECTOR)\n",
    "# 컬렉션 스키마 정의\n",
    "schema = CollectionSchema(\n",
    "    fields=[\n",
    "        id_field, \n",
    "        car_type_filed,\n",
    "        major_h_filed,\n",
    "        minor_h_filed,\n",
    "        minor_sub_id_filed,\n",
    "        parent_doc_id_filed,\n",
    "        contents_filed,\n",
    "        imgurl_filed,\n",
    "        tblimgurl_field,\n",
    "        tblcsvurl_filed,\n",
    "        embedding_contents_filed,\n",
    "        vector_filed,\n",
    "        bm_25_vector_filed\n",
    "        ],\n",
    "    description=\"현대 기아 차량 매뉴얼\",\n",
    "    partition_key_field=\"car_type\"\n",
    "\n",
    ")\n",
    "\n",
    "# 컬렉션 생성\n",
    "if COLLECTION_NAME not in utility.list_collections():\n",
    "    collection = Collection(name=COLLECTION_NAME, schema=schema)\n",
    "else:\n",
    "    collection = Collection(name=COLLECTION_NAME)\n",
    "\n"
   ]
  },
  {
   "cell_type": "code",
   "execution_count": 18,
   "metadata": {},
   "outputs": [],
   "source": [
    "#Index 생성\n",
    "# Pandas DataFrame에서 데이터 추출 및 Milvus에 삽입\n",
    "ids = pc_df['index'].to_list()\n",
    "car_types = pc_df['car_type'].to_list()\n",
    "h1s = pc_df['h1'].to_list()\n",
    "h2s = pc_df['h2'].fillna('').astype(str).to_list()\n",
    "h3s = pc_df['chunk_group2'].to_list()\n",
    "parent_doc_id= pc_df['doc_id'].to_list()\n",
    "\n",
    "cons = pc_df['doc_contents'].to_list()\n",
    "img_urls = pc_df['img_urls'].to_list()\n",
    "table_img_urls = pc_df['table_img_urls'].to_list()\n",
    "table_csv_urls = pc_df['table_csv_urls'].to_list()\n",
    "embedding_cont = pc_df['embedding_contents'].to_list()\n",
    "\n",
    "vectors = pc_df['embeddings'].to_list()\n",
    "bm25_vectors = pc_df['bm25_embeddings'].to_list()"
   ]
  },
  {
   "cell_type": "code",
   "execution_count": 19,
   "metadata": {},
   "outputs": [],
   "source": [
    "mr = collection.insert([ids, car_types, h1s, h2s, h3s, parent_doc_id, cons, img_urls, table_img_urls, table_csv_urls, embedding_cont, vectors, bm25_vectors])\n"
   ]
  },
  {
   "cell_type": "code",
   "execution_count": 20,
   "metadata": {},
   "outputs": [],
   "source": [
    "M = 20\n",
    "efConstruction=100"
   ]
  },
  {
   "cell_type": "code",
   "execution_count": 21,
   "metadata": {},
   "outputs": [
    {
     "data": {
      "text/plain": [
       "Status(code=0, message=)"
      ]
     },
     "execution_count": 21,
     "metadata": {},
     "output_type": "execute_result"
    }
   ],
   "source": [
    "collection.create_index(\n",
    "    field_name=\"vector\", \n",
    "    index_params={\n",
    "        \"index_type\": \"HNSW\", \n",
    "        \"index_name\":\"ann_index\",\n",
    "        \"metric_type\": \"COSINE\", \n",
    "        \"params\": {\"M\": M, 'efConstruction':efConstruction} # Cluster 개수\n",
    "        }\n",
    ")"
   ]
  },
  {
   "cell_type": "code",
   "execution_count": 22,
   "metadata": {},
   "outputs": [
    {
     "data": {
      "text/plain": [
       "Status(code=0, message=)"
      ]
     },
     "execution_count": 22,
     "metadata": {},
     "output_type": "execute_result"
    }
   ],
   "source": [
    "\n",
    "collection.create_index(\n",
    "    field_name= \"bm25_vector\",\n",
    "    index_params={\n",
    "        \"index_name\": \"bm25_index\",\n",
    "        \"index_type\": \"SPARSE_INVERTED_INDEX\", # the type of index to be created. set to `SPARSE_INVERTED_INDEX` or `SPARSE_WAND`.\n",
    "        \"metric_type\": \"IP\", # the metric type to be used for the index. Currently, only `IP` (Inner Product) is supported.\n",
    "        \"params\": {\"drop_ratio_build\": 0.01}, # the ratio of small vector values to be dropped during indexing.\n",
    "})"
   ]
  },
  {
   "cell_type": "code",
   "execution_count": 23,
   "metadata": {},
   "outputs": [],
   "source": [
    "collection = Collection(COLLECTION_NAME)\n",
    "collection.load()"
   ]
  },
  {
   "cell_type": "code",
   "execution_count": null,
   "metadata": {},
   "outputs": [],
   "source": []
  }
 ],
 "metadata": {
  "kernelspec": {
   "display_name": "myMechanic_py39",
   "language": "python",
   "name": "mymechanic_py39"
  },
  "language_info": {
   "codemirror_mode": {
    "name": "ipython",
    "version": 3
   },
   "file_extension": ".py",
   "mimetype": "text/x-python",
   "name": "python",
   "nbconvert_exporter": "python",
   "pygments_lexer": "ipython3",
   "version": "3.9.11"
  }
 },
 "nbformat": 4,
 "nbformat_minor": 2
}
