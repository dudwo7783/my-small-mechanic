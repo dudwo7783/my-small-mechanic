{
 "cells": [
  {
   "cell_type": "code",
   "execution_count": 1,
   "id": "21c74850",
   "metadata": {
    "ExecuteTime": {
     "end_time": "2024-03-10T15:41:50.706195Z",
     "start_time": "2024-03-10T15:41:50.371706Z"
    }
   },
   "outputs": [],
   "source": [
    "from IPython.display import display\n",
    "import os\n",
    "from PIL import Image\n",
    "import math\n",
    "import matplotlib.pyplot as plt\n",
    "\n",
    "import pandas as pd\n",
    "import numpy as np\n",
    "import fitz\n",
    "from IPython.display import display\n",
    "from IPython.display import Image as DisplayImage\n",
    "\n",
    "import fitz  # Import PyMuPDF\n",
    "from IPython.display import display  # Import display function\n",
    "from PIL import Image, ImageDraw, ImageFont  # Import necessary classes from PIL\n",
    "import io  # Import io module for converting bytes\n",
    "\n",
    "from tqdm import tqdm\n",
    "import re"
   ]
  },
  {
   "cell_type": "code",
   "execution_count": 2,
   "id": "f0d52af9-42af-46e1-97c3-d36138d9d186",
   "metadata": {},
   "outputs": [],
   "source": [
    "dpi = 300\n",
    "size_ratio = 1.3\n",
    "y_range = (39, 575)"
   ]
  },
  {
   "cell_type": "code",
   "execution_count": 3,
   "id": "dcffa650-38f9-426d-b98a-9043cafd6b9a",
   "metadata": {},
   "outputs": [],
   "source": [
    "def draw_bbox(page, bboxs):\n",
    "\n",
    "    for bbox in bboxs:  # iterate over all tables\n",
    "        page.draw_rect(bbox,color=fitz.pdfcolor[\"blue\"], width=1.5)\n",
    "    pix = page.get_pixmap()  # Render page to an image\n",
    "\n",
    "    # Convert the pixmap to a PIL Image\n",
    "    img_bytes = pix.tobytes(\"png\")  # Get the image bytes in PNG format\n",
    "    img = Image.open(io.BytesIO(img_bytes))\n",
    "    display(img)\n",
    "    "
   ]
  },
  {
   "cell_type": "code",
   "execution_count": 4,
   "id": "2de53c15-34c5-4b74-b3d2-bf05b53f0407",
   "metadata": {},
   "outputs": [],
   "source": [
    "def save_image(page, page_num, index, prev_text, bbox, xres, yres, width, height, ext, size_ratio=1.3, dpi=300):\n",
    "    \n",
    "    x_scale = dpi /xres  # PyMuPDF의 기본 해상도는 72 DPI입니다.\n",
    "    y_scale = dpi / yres\n",
    "    matrix = fitz.Matrix(x_scale, y_scale)  # 변환 행렬 생성\n",
    "    \n",
    "    # 선택한 bbox 영역의 이미지를 추출 (해상도 조절 적용)\n",
    "    pix = page.get_pixmap(matrix=matrix, clip=bbox)\n",
    "    \n",
    "    # pix = page.get_pixmap(clip=bbox)\n",
    "    \n",
    "    # PIL 이미지로 변환\n",
    "    image = Image.open(io.BytesIO(pix.tobytes()))\n",
    "    image = image.resize((int(width*size_ratio), int(height*size_ratio)), Image.Resampling.LANCZOS)\n",
    "    \n",
    "    \n",
    "    # 이미지에 텍스트 추가\n",
    "    draw = ImageDraw.Draw(image)\n",
    "    # 폰트는 시스템에 따라 경로가 다를 수 있으며, 필요에 따라 수정해야 할 수 있습니다.\n",
    "    font = ImageFont.truetype(\"./font/NanumGothicBold.ttf\", 16)  # 폰트와 크기 설정\n",
    "    draw.text((10, 10), prev_text, fill='black', font=font)\n",
    "    \n",
    "    # image.save(f\"./image/test.{b['ext']}\", dpi=(b['xres'], b['yres']))\n",
    "    img_url = f\"./image/{NAMESPACE}/{page_num}_{index}_img.{ext}\"\n",
    "    image.save(img_url)\n",
    "    return img_url\n",
    "    \n",
    "def save_table(page, page_num, index, prev_text, bbox, xres, yres, width, height, ext, size_ratio=1.3, dpi=300, text_rotation=False):\n",
    "    if text_rotation:\n",
    "        page.set_rotation(0)\n",
    "    x_scale = dpi/2 /xres  # PyMuPDF의 기본 해상도는 72 DPI입니다.\n",
    "    y_scale = dpi/2 / yres\n",
    "    matrix = fitz.Matrix(x_scale, y_scale)  # 변환 행렬 생성\n",
    "    \n",
    "    # 선택한 bbox 영역의 이미지를 추출 (해상도 조절 적용)\n",
    "    # pix = page.get_pixmap(matrix=matrix, clip=bbox)\n",
    "    pix = page.get_pixmap(matrix=matrix, clip=bbox)\n",
    "    \n",
    "    # pix = page.get_pixmap(clip=bbox)\n",
    "    \n",
    "    # PIL 이미지로 변환\n",
    "    image = Image.open(io.BytesIO(pix.tobytes()))\n",
    "    # image = image.resize((int(width*size_ratio), int(height*size_ratio)), Image.Resampling.LANCZOS)\n",
    "    \n",
    "    \n",
    "    # 이미지에 텍스트 추가\n",
    "    draw = ImageDraw.Draw(image)\n",
    "    # 폰트는 시스템에 따라 경로가 다를 수 있으며, 필요에 따라 수정해야 할 수 있습니다.\n",
    "    font = ImageFont.truetype(\"./font/NanumGothicBold.ttf\", 16)  # 폰트와 크기 설정\n",
    "    draw.text((10, 10), prev_text, fill='black', font=font)\n",
    "    \n",
    "    # image.save(f\"./image/test.{b['ext']}\", dpi=(b['xres'], b['yres']))\n",
    "    \n",
    "    if text_rotation:\n",
    "        image = image.rotate(270,expand=True)\n",
    "        page.set_rotation(90)\n",
    "    img_url = f\"./image/{NAMESPACE}/{page_num}_{index}_table.{ext}\"\n",
    "    image.save(img_url)\n",
    "    return img_url\n",
    "        "
   ]
  },
  {
   "cell_type": "code",
   "execution_count": 5,
   "id": "c6033653-06e3-4a29-ad74-a578f54fd6cc",
   "metadata": {},
   "outputs": [],
   "source": [
    "def get_rotated_bbox(page, rect):\n",
    "    \"\"\"\n",
    "    Adjust the bounding box coordinates for a page that is rotated 90 degrees clockwise.\n",
    "    \n",
    "    Args:\n",
    "    - page: The page object from PyMuPDF.\n",
    "    - rect: The original bounding box as a fitz.Rect object.\n",
    "    \n",
    "    Returns:\n",
    "    - A fitz.Rect object representing the adjusted bounding box.\n",
    "    \"\"\"\n",
    "    if page.rotation == 90:\n",
    "        page_width = page.rect.width\n",
    "        page_height = page.rect.height\n",
    "        \n",
    "        # Transform the rectangle coordinates\n",
    "        new_x0 = rect.y0\n",
    "        new_y0 = page_width - rect.x1\n",
    "        new_x1 = rect.y1\n",
    "        new_y1 = page_width - rect.x0\n",
    "        \n",
    "        # Create a new rectangle with the adjusted coordinates\n",
    "        adjusted_rect = fitz.Rect(new_x0, new_y0, new_x1, new_y1)\n",
    "        return adjusted_rect\n",
    "    \n",
    "    # If no rotation or a different rotation, return the original rectangle\n",
    "    return rect\n",
    "\n",
    "def is_text_rotated(page):\n",
    "    blocks = page.get_text(\"dict\")['blocks']\n",
    "    if page.find_tables().tables:\n",
    "        for b in blocks:\n",
    "            if 'lines' in b:\n",
    "                for line in b[\"lines\"]:\n",
    "                    if 'dir' in line:\n",
    "                        if line['dir'] == (0.0, -1.0):\n",
    "                            return True\n",
    "    else:\n",
    "        return False\n",
    "    return False\n",
    "\n",
    "def analyze_page_layout(page, text_rotate):\n",
    "    tbls = page.find_tables().tables\n",
    "    is_two_column = True\n",
    "    blocks = page.get_text(\"dict\")[\"blocks\"]\n",
    "\n",
    "    # 텍스트가 로테이트 되어있거나,\n",
    "    if text_rotate:\n",
    "        is_two_column = False\n",
    "    # 테이블이 있는데 width가 페이지 넓이 절반보다 크거나,    \n",
    "    tbls = page.find_tables().tables\n",
    "    if tbls:\n",
    "        for tbl in tbls:\n",
    "            bbox = tbl.bbox\n",
    "            if (bbox[2] - bbox[0]) > page.rect.width/2:\n",
    "                is_two_column = False\n",
    "    # Block 있는데 width가 페이지 넓이 절반보다 크거나.\n",
    "    if len(list(filter(lambda x: (x['bbox'][2] - x['bbox'][0])>(page.rect.width/2), blocks)))>0:\n",
    "        is_two_column = False\n",
    "    return is_two_column\n",
    "    \n",
    "def sort_blocks(blocks, is_two_column, page_mid, page_rotation=False):\n",
    "    blocks = [\n",
    "        b for b in blocks \n",
    "        if b['bbox'][1] >= y_range[0] and b['bbox'][3] <= y_range[1]\n",
    "    ]\n",
    "\n",
    "    if is_two_column:\n",
    "        left_blocks = [b for b in blocks if b['bbox'][0] < page_mid]\n",
    "        right_blocks = [b for b in blocks if b['bbox'][0] >= page_mid]\n",
    "        sorted_blocks = sorted(left_blocks, key=lambda b: (b['bbox'][1], b['bbox'][0])) + \\\n",
    "                        sorted(right_blocks, key=lambda b: (b['bbox'][1], b['bbox'][0]))\n",
    "    else:\n",
    "        if page_rotation:\n",
    "            sorted_blocks = sorted(blocks, key=lambda b: (b['bbox'][0], b['bbox'][1]))\n",
    "        else:\n",
    "            sorted_blocks = sorted(blocks, key=lambda b: (b['bbox'][1], b['bbox'][0]))\n",
    "    return sorted_blocks\n",
    "\n",
    "\n",
    "def get_tbl_df(tbl, text_rotation=False):\n",
    "    # 여기서 병합된 셀이 단순하다면 이전 cell ffill customizing 필요\n",
    "    df = tbl\n",
    "    df.columns = df.columns = [re.sub(r'^\\d+-', '', col) for col in df.columns]\n",
    "    null_sum = df.isnull().sum()\n",
    "    null_cols = null_sum[null_sum == df.shape[0]].index\n",
    "    df = df.drop(null_cols, axis=1)\n",
    "    if text_rotation:\n",
    "        \n",
    "        first_col_as_df = pd.DataFrame([df.columns.tolist(), df.iloc[0,:].values], columns=range(0, len(df.columns)))\n",
    "        \n",
    "        empty_str_cols = np.where(first_col_as_df.iloc[1, :].values == '')[0].tolist()\n",
    "        first_col_as_df.loc[0, empty_str_cols] = ''\n",
    "        \n",
    "        None_str_cols = np.where(first_col_as_df.iloc[1, :].values is None)[0].tolist()\n",
    "        first_col_as_df.loc[0, None_str_cols] = None\n",
    "        first_col_as_df = first_col_as_df.loc[[0],:]\n",
    "        \n",
    "        df.columns = range(0, len(df.columns))\n",
    "        df = pd.concat([first_col_as_df, df]).fillna(method='ffill')\n",
    "        df = df.set_index(df.columns[0])\n",
    "        df = df.T\n",
    "        df = df.iloc[:,list(range(len(df.columns)-1,-1, -1))]\n",
    "\n",
    "    df_cols = df.columns.tolist()\n",
    "    for i in range(1, len(df_cols)):\n",
    "        if \"Col\" in df_cols[i]:\n",
    "            df_cols[i] = df_cols[i-1]  # \"COl\"을 이전 인덱스의 값으로 대체합니다.\n",
    "    df.columns = df_cols\n",
    "    df_md = df.to_markdown()\n",
    "    return df_md\n",
    "        "
   ]
  },
  {
   "cell_type": "code",
   "execution_count": 6,
   "id": "6a0c81cd-cd48-41a3-a9e5-77165dbc3413",
   "metadata": {},
   "outputs": [],
   "source": [
    "def is_overlapping(area1, area2):\n",
    "    \"\"\"\n",
    "    두 영역이 겹치는지 확인하는 함수.\n",
    "    area1, area2: (x0, y0, x1, y1) 형식의 영역\n",
    "    \"\"\"\n",
    "    x0_1, y0_1, x1_1, y1_1 = area1\n",
    "    x0_2, y0_2, x1_2, y1_2 = area2\n",
    "    return not (x1_1 < x0_2 or x1_2 < x0_1 or y1_1 < y0_2 or y1_2 < y0_1)\n"
   ]
  },
  {
   "cell_type": "code",
   "execution_count": 7,
   "id": "6e231187-ba21-45f6-a166-7d43d1f063d9",
   "metadata": {},
   "outputs": [],
   "source": [
    "def display_pages_with_bboxes_and_captions(page_num, display_pages_with_bboxes_and_captions=True):\n",
    "    spans_list = []\n",
    "    contents_list = []\n",
    "    image_url_list = []\n",
    "    contents_type = []\n",
    "    block_list = []\n",
    "    dpi = 300\n",
    "    size_ratio = 1.3\n",
    "    prev_text = \"\"    \n",
    "\n",
    "    doc = fitz.open(FILE_NM)\n",
    "    doc2 = fitz.open(FILE_NM)\n",
    "    \n",
    "    page = doc.load_page(page_num)\n",
    "    draw_page = doc2.load_page(page_num)\n",
    "    text_rotation = is_text_rotated(page)\n",
    "\n",
    "    table_areas_on_page = {}\n",
    "    tbls = []\n",
    "    for i, tbl in enumerate(page.find_tables().tables):\n",
    "        table_areas_on_page[i] = get_rotated_bbox(page, fitz.Rect(tbl.bbox))\n",
    "        tbls.append(tbl.to_pandas())\n",
    "    \n",
    "\n",
    "    if text_rotation:\n",
    "        page.set_rotation(90)\n",
    "        draw_page.set_rotation(90)\n",
    "    is_two_column = analyze_page_layout(page, text_rotation)\n",
    "    blocks = page.get_text(\"dict\")[\"blocks\"]  # Get text blocks\n",
    "    blocks_sorted = sort_blocks(blocks, is_two_column, page.rect.width / 2, page.rotation)\n",
    "\n",
    "    r_tbls = []\n",
    "    for i, tbl in enumerate(page.find_tables().tables):\n",
    "        r_tbls.append(tbl)\n",
    "\n",
    "    prev_overlap_tbl_num=-1\n",
    "    for i, b in enumerate(blocks_sorted):\n",
    "        overlapping=False\n",
    "        block_num = f\"{page_num}_{i}\"\n",
    "        bbox = b['bbox']  # Get the bounding box of the block\n",
    "        caption = str(i + 1)\n",
    "        if b['type'] == 0:  # Block contains text\n",
    "            # 테이블 bbox안의 텍스트 block이라면 PASS\n",
    "            block_area = b['bbox']  # 텍스트 블록의 영역 (x0, y0, x1, y1)\n",
    "            \n",
    "            for tbl_num, table_area in table_areas_on_page.items():\n",
    "                if is_overlapping(block_area, table_area):\n",
    "                    overlapping=True\n",
    "                    if tbl_num != prev_overlap_tbl_num:\n",
    "                        # print(\"TODO: PANDAS EXTACT, SAVE IMAGE\")\n",
    "                        spans_list.append(None)\n",
    "                        content = get_tbl_df(tbls[tbl_num], text_rotation)\n",
    "                        contents_list.append(content)\n",
    "                        # Save Table Image\n",
    "                        rect = fitz.Rect(r_tbls[tbl_num].bbox)\n",
    "                        tab_bbox = get_rotated_bbox(page, rect)\n",
    "                        # draw_page.draw_rect(tab_bbox,color=fitz.pdfcolor[\"blue\"], width=1.5)\n",
    "                        \n",
    "                        img_url = save_table(draw_page, page_num, tbl_num, '', tab_bbox, 99, 99, tab_bbox[3]-tab_bbox[1], tab_bbox[2] - tab_bbox[0], \n",
    "                                   'jpeg', size_ratio=1.3, dpi=300, text_rotation=text_rotation)\n",
    "\n",
    "                        \n",
    "                        image_url_list.append(img_url)\n",
    "                        block_list.append(block_num)\n",
    "                        contents_type.append('table')\n",
    "                        prev_overlap_tbl_num = tbl_num\n",
    "                        break\n",
    "                    else:\n",
    "                        # print(\"\b테이블 추출 이미 완료\")\n",
    "                        break\n",
    "        \n",
    "                    \n",
    "            if overlapping:\n",
    "                continue\n",
    "\n",
    "            # TODO: INSERT ROW BY LINES\n",
    "            \n",
    "            if 'lines' in b:\n",
    "                for line in b['lines']:\n",
    "                    line_text = ''.join(list(map(lambda x: x.get('text', ''), line['spans'])))\n",
    "                \n",
    "                    line_spans = str(set(list(map(lambda x: str((x.get('font'), x.get('color'), int(x.get('size')))), \n",
    "                                                  line['spans'])))).replace('{', '').replace('}', '')                    \n",
    "\n",
    "                    spans_list.append(line_spans)\n",
    "                    contents_list.append(line_text)\n",
    "                    image_url_list.append(None)\n",
    "                    contents_type.append('text')\n",
    "                    block_list.append(block_num)\n",
    "            \n",
    "                \n",
    "            # Insert text on the pixmap\n",
    "              # Reading order number as caption\n",
    "            rect = fitz.Rect(bbox)  # Create a rectangle\n",
    "            \n",
    "            draw_page.insert_text(  # insert footer 50 points above page bottom\n",
    "                    (bbox[0], bbox[1]), caption, color=(1,0,0)\n",
    "                )\n",
    "\n",
    "            #이미지 캡션을 위해 한줄짜리 block인지 확인 후 저장\n",
    "            text_lines = [span['text'] for line in b[\"lines\"] for span in line[\"spans\"]]\n",
    "            text_lines = list(filter(lambda x: (x != '̰') and (x != ' ') and (x != '•'),text_lines))\n",
    "            if len(text_lines) == 1:\n",
    "                \n",
    "                spans = b[\"lines\"][0][\"spans\"][0]\n",
    "                if not ((spans['size']==6) and (spans['font']=='HyundaiSansTextKR') and \n",
    "                        (spans['color']==16777215)):\n",
    "                    prev_text = text_lines[0]\n",
    "        if b['type'] != 0:  # Block contains text\n",
    "            block_area = b['bbox']\n",
    "            for tbl_num, table_area in table_areas_on_page.items():\n",
    "                if is_overlapping(block_area, table_area):\n",
    "                    overlapping=True\n",
    "                    break\n",
    "            if overlapping:\n",
    "                continue\n",
    "            else:\n",
    "                # Save Images\n",
    "                xres = b['xres']  # PyMuPDF의 기본 해상도는 72 DPI입니다.\n",
    "                yres = b['yres']\n",
    "                ext = b['ext']\n",
    "                width = b['width']\n",
    "                height = b['height']\n",
    "                \n",
    "                img_url = save_image(draw_page, page_num, i, prev_text, bbox, xres, yres, width, height, ext, size_ratio=1.3, dpi=300)\n",
    "                spans_list.append(None)\n",
    "                contents_list.append(None)\n",
    "                image_url_list.append(img_url)\n",
    "                contents_type.append('image')\n",
    "                block_list.append(block_num)\n",
    "                prev_text = \"\"  # 이전 텍스트 초기화\n",
    "                \n",
    "    pix = draw_page.get_pixmap()  # Render page to an image\n",
    "\n",
    "    # Convert the pixmap to a PIL Image\n",
    "    img_bytes = pix.tobytes(\"png\")  # Get the image bytes in PNG format\n",
    "    img = Image.open(io.BytesIO(img_bytes))\n",
    "\n",
    "    # Display the image in the notebook\n",
    "    if display_pages_with_bboxes_and_captions:\n",
    "        display(img)\n",
    "    # return blocks_sorted\n",
    "    return {'span': spans_list, 'contents': contents_list, 'img_urls': image_url_list, 'contents_type': contents_type, 'block_num': block_list}"
   ]
  },
  {
   "cell_type": "code",
   "execution_count": 8,
   "id": "63002ffb-757c-4f43-992b-1f77fc7937e9",
   "metadata": {},
   "outputs": [],
   "source": [
    "# FILE_NM = \"2023 더 뉴 아반떼 - 정기점검.pdf\"#\"2024 아이오닉 5 (IONIQ 5) NE.pdf\"\n",
    "FILE_NM = \"./pdf/2024 아이오닉 5 (IONIQ 5) NE.pdf\"\n",
    "\n",
    "# NAMESPACE = 'the_new_avante_2023'#'ioniq5_2024'\n",
    "NAMESPACE = 'ioniq5_2024'\n",
    "\n",
    "doc = fitz.open(FILE_NM)\n",
    "os.makedirs(f'./image/{NAMESPACE}', exist_ok=True)"
   ]
  },
  {
   "cell_type": "markdown",
   "id": "3cd226b1-9fe5-4a39-9bf1-f62e6a936b19",
   "metadata": {},
   "source": [
    "# Raw Parsing(텍스트, 이미지, 표)"
   ]
  },
  {
   "cell_type": "code",
   "execution_count": null,
   "id": "a039ecf2",
   "metadata": {},
   "outputs": [],
   "source": [
    "span_list = []\n",
    "contents_list = []\n",
    "img_urls = []\n",
    "contents_type = []\n",
    "block_nums = []\n",
    "\n",
    "for page_num in tqdm(range(7, len(doc))):\n",
    "    v = display_pages_with_bboxes_and_captions(page_num, display_pages_with_bboxes_and_captions=False)\n",
    "    span_list.extend(v['span'])\n",
    "    contents_list.extend(v['contents'])\n",
    "    img_urls.extend(v['img_urls'])\n",
    "    contents_type.extend(v['contents_type'])\n",
    "    block_nums.extend(v['block_num'])"
   ]
  },
  {
   "cell_type": "code",
   "execution_count": 17,
   "id": "174f7057-d7df-46bb-b562-77698f568951",
   "metadata": {},
   "outputs": [],
   "source": [
    "\n",
    "ioniq_df = pd.DataFrame({\n",
    "    'span': span_list,\n",
    "    'contents': contents_list,\n",
    "    'img_urls': img_urls,\n",
    "    'ctype': contents_type,\n",
    "    'block_num': block_nums\n",
    "})"
   ]
  },
  {
   "cell_type": "code",
   "execution_count": 18,
   "id": "14e166b5-0fdc-42de-b20c-7480effe32f9",
   "metadata": {},
   "outputs": [],
   "source": [
    "ioniq_df.to_csv('./parse_result/raw_ioniq5_result.csv', index=False)\n",
    "ioniq_df.to_parquet('./parse_result/raw_ioniq5_result.parquet', index=False)"
   ]
  },
  {
   "cell_type": "code",
   "execution_count": null,
   "id": "f2b08bd4",
   "metadata": {
    "ExecuteTime": {
     "end_time": "2024-03-10T15:55:24.772641Z",
     "start_time": "2024-03-10T15:55:24.752397Z"
    },
    "deletable": false,
    "editable": false,
    "run_control": {
     "frozen": true
    }
   },
   "outputs": [],
   "source": [
    "delete_mask = (pc['contents_meta'] == 'h1') | (pc['contents_meta'] == 'h2')\n",
    "pc['delete_mask'] = delete_mask\n",
    "pc['delete_mask_cumsum'] = delete_mask.cumsum()\n",
    "cumsum = delete_mask.cumsum()\n",
    "# 홀수 cumsum은 'h1'과 'h2' 사이를 나타냅니다. 'h1'에서 시작하여 'h2' 이전까지 홀수 값을 갖습니다.\n",
    "filtered_cumsum = cumsum % 2 == 1\n",
    "\n",
    "# 'h1'과 'h2' 사이 (하지만 'h2'는 포함)의 row만 선택하여 삭제\n",
    "# 'h1'은 홀수 cumsum을 가지고 시작되므로 제외되며, 'h2'는 포함시키기 위해 delete_mask를 사용하여 추가합니다.\n",
    "pc = pc[~filtered_cumsum | delete_mask].reset_index(drop=True)\n"
   ]
  },
  {
   "cell_type": "markdown",
   "id": "a04b9ac5-712c-4b10-b094-8ac2f34ae9f9",
   "metadata": {},
   "source": [
    "# 병합"
   ]
  },
  {
   "cell_type": "code",
   "execution_count": 130,
   "id": "899c6b10-b552-4fa8-9394-ae753f34d6c6",
   "metadata": {},
   "outputs": [],
   "source": [
    "ioniq_df = pd.read_parquet('./parse_result/raw_ioniq5_result.parquet')"
   ]
  },
  {
   "cell_type": "code",
   "execution_count": 131,
   "id": "1d256146-118f-4f1d-9365-93fa2251b855",
   "metadata": {},
   "outputs": [],
   "source": [
    "len_by_span = ioniq_df.groupby('span').size().sort_values()"
   ]
  },
  {
   "cell_type": "code",
   "execution_count": 132,
   "id": "46e8bb2d-4f88-4c0b-9672-cb429bd34637",
   "metadata": {},
   "outputs": [],
   "source": [
    "ioniq_df_bak = ioniq_df.copy()\n",
    "ioniq_df = ioniq_df_bak.copy()"
   ]
  },
  {
   "cell_type": "markdown",
   "id": "885f3205-0d2c-49a8-bb5d-7a9a48613e1c",
   "metadata": {},
   "source": [
    "## 불필요한 span 조합 텍스트 제거\n",
    "- 제조사별 일반화 가능할까?"
   ]
  },
  {
   "cell_type": "code",
   "execution_count": 133,
   "id": "de01b0b5-7f1a-4f4e-8448-1437421c6d5b",
   "metadata": {},
   "outputs": [],
   "source": [
    "for del_span_type_num in [1,2,3,4,5,6,8,10,11,13,21,27,29,30]:\n",
    "    ioniq_df = ioniq_df[ioniq_df['span']!=len_by_span.index[del_span_type_num]]"
   ]
  },
  {
   "cell_type": "markdown",
   "id": "e80d540a-804d-4bec-ac77-618020c9c455",
   "metadata": {},
   "source": [
    "### .......... 인덱스 텍스트 제거"
   ]
  },
  {
   "cell_type": "code",
   "execution_count": 134,
   "id": "3a5dc5e2-0bc4-4312-a862-5eaac7291ff8",
   "metadata": {},
   "outputs": [],
   "source": [
    "ioniq_df = ioniq_df[~ioniq_df['contents'].astype(str).str.contains('\\.\\.\\.')]"
   ]
  },
  {
   "cell_type": "markdown",
   "id": "6f44d4b0-81eb-434a-ab7a-82f92404e125",
   "metadata": {},
   "source": [
    "### 빈 표 제거"
   ]
  },
  {
   "cell_type": "code",
   "execution_count": 135,
   "id": "2a4b04f6-1268-44f4-b499-72f0c39d401b",
   "metadata": {},
   "outputs": [],
   "source": [
    "ioniq_df = ioniq_df[~((ioniq_df['ctype']=='table') & (ioniq_df['contents']==''))]"
   ]
  },
  {
   "cell_type": "markdown",
   "id": "26db4d3f-5820-435d-97a9-037a4ade5100",
   "metadata": {},
   "source": [
    "### Header 생성"
   ]
  },
  {
   "cell_type": "code",
   "execution_count": 136,
   "id": "c11746cc-3d93-4c24-98da-20830c00bd4c",
   "metadata": {},
   "outputs": [],
   "source": [
    "ioniq_df['index'] = None"
   ]
  },
  {
   "cell_type": "code",
   "execution_count": 137,
   "id": "7de16318-453e-4ed9-a9b2-4416d39d6a54",
   "metadata": {},
   "outputs": [],
   "source": [
    "h1_index = 9\n",
    "ioniq_df.loc[ioniq_df['span']==len_by_span.index[h1_index], 'index'] = 'h1'"
   ]
  },
  {
   "cell_type": "code",
   "execution_count": 138,
   "id": "3edfb37e-6e84-44f9-a4ce-12a5a7731409",
   "metadata": {},
   "outputs": [],
   "source": [
    "h2_index = 18\n",
    "ioniq_df.loc[ioniq_df['span']==len_by_span.index[h2_index], 'index'] = 'h2'"
   ]
  },
  {
   "cell_type": "code",
   "execution_count": 139,
   "id": "8728eda8-c713-472f-baac-18746bbf02d8",
   "metadata": {},
   "outputs": [],
   "source": [
    "h3_index = 24\n",
    "ioniq_df.loc[ioniq_df['span']==len_by_span.index[h3_index], 'index'] = 'h3'"
   ]
  },
  {
   "cell_type": "code",
   "execution_count": 140,
   "id": "0027e13a-5053-4e9d-bb6c-7fe79188fb38",
   "metadata": {},
   "outputs": [],
   "source": [
    "h4_index = 28\n",
    "ioniq_df.loc[ioniq_df['span']==len_by_span.index[h4_index], 'index'] = 'h4'"
   ]
  },
  {
   "cell_type": "markdown",
   "id": "9645c0cb-92f6-457c-aa8e-cc7bfc2c3c7c",
   "metadata": {},
   "source": [
    "### [임시] 첫페이지를 빼서 0번 Header 추가"
   ]
  },
  {
   "cell_type": "code",
   "execution_count": 141,
   "id": "91acfae7-c6e4-45f9-b3b6-357c59ec762f",
   "metadata": {},
   "outputs": [],
   "source": [
    "tmp_df = pd.DataFrame({'span': ['\\\"(\\'HyundaiSansHeadKR\\', 13416, 28)\\\"'],'contents': ['전기차 시작하기'], 'img_urls': [None], 'ctype': 'text', 'index':'h1', 'block_num':'7_0'})\n",
    "ioniq_df = pd.concat([tmp_df, ioniq_df])\n",
    "ioniq_df = ioniq_df.reset_index(drop=True)"
   ]
  },
  {
   "cell_type": "markdown",
   "id": "9f1ba677-d18a-42c0-8f0b-e793324cd7c1",
   "metadata": {},
   "source": [
    "### 저장 안되는 문자 제거"
   ]
  },
  {
   "cell_type": "code",
   "execution_count": 142,
   "id": "516694c9-2f7c-4852-9f8f-23446f33be8f",
   "metadata": {},
   "outputs": [],
   "source": [
    "ioniq_df['contents'] = ioniq_df['contents'].str.replace('\\u2022', '')\n",
    "ioniq_df['contents'] = ioniq_df['contents'].str.replace('\\u09a1', '')"
   ]
  },
  {
   "cell_type": "markdown",
   "id": "2377fa38-ee3d-412f-becd-cbd109904c69",
   "metadata": {},
   "source": [
    "### Block 별 병합 전 데이터 저장"
   ]
  },
  {
   "cell_type": "code",
   "execution_count": 143,
   "id": "5e7ceddf-9b7c-4779-abcd-656a458255ae",
   "metadata": {},
   "outputs": [],
   "source": [
    "ioniq_df.to_csv('./parse_result/line_ioniq5_result.csv', index=False, encoding='cp949')\n",
    "ioniq_df.to_parquet('./parse_result/line_ioniq5_result.parquet', index=False)"
   ]
  },
  {
   "cell_type": "markdown",
   "id": "d34dc085-d8c0-4dde-b226-3b8e7a5a860a",
   "metadata": {},
   "source": [
    "# Block 별 텍스트 병합"
   ]
  },
  {
   "cell_type": "code",
   "execution_count": 144,
   "id": "e7aba1f2-4a19-4bb2-9da4-d9f00675f079",
   "metadata": {},
   "outputs": [],
   "source": [
    "ioniq_df = pd.read_parquet('./parse_result/line_ioniq5_result.parquet')"
   ]
  },
  {
   "cell_type": "markdown",
   "id": "dad40c8a-b074-42df-afdf-ed660f0fcaa1",
   "metadata": {},
   "source": [
    "## PDF 내 같은 Block이었던 텍스트끼리 Line 병합"
   ]
  },
  {
   "cell_type": "code",
   "execution_count": 145,
   "id": "8f2e6451-bb20-4a50-ad6c-4744129c7c67",
   "metadata": {},
   "outputs": [],
   "source": [
    "merge_contents = pd.DataFrame(ioniq_df[~ioniq_df['contents'].isnull()].groupby(['block_num'])['contents'].apply(lambda x: ''.join(x))).reset_index()\n",
    "merge_contents.columns = ['block_num', 'merge_contents']"
   ]
  },
  {
   "cell_type": "markdown",
   "id": "f9ac530e-85b8-4e63-b070-8304aa7a7ca9",
   "metadata": {},
   "source": [
    "### 기존 Line에 merge 후 중복 제거"
   ]
  },
  {
   "cell_type": "code",
   "execution_count": 146,
   "id": "d4057ad5-13b4-4b54-b80c-6825690d126a",
   "metadata": {},
   "outputs": [],
   "source": [
    "ioniq_df = ioniq_df.merge(merge_contents, on=['block_num'], how='left')\n",
    "m_ioniq_df = ioniq_df.drop_duplicates('block_num', keep='first').reset_index(drop=True).drop('contents', axis=1)"
   ]
  },
  {
   "cell_type": "markdown",
   "id": "eb1b5a44-1b33-46bd-a56c-4fdf0cd1338f",
   "metadata": {},
   "source": [
    "### Index별로 document 분리"
   ]
  },
  {
   "cell_type": "markdown",
   "id": "4e59c39d-c991-4e27-aa12-3257b1051416",
   "metadata": {},
   "source": [
    "**Header level, Header 내용이 달라질때 마다 document grouping**\n",
    "- Header: h1, h2, h3, h4\n"
   ]
  },
  {
   "cell_type": "code",
   "execution_count": 147,
   "id": "dbb0630c-d6f4-4e25-bbc1-aea749d232c5",
   "metadata": {},
   "outputs": [],
   "source": [
    "m_ioniq_df['doc_group'] = (~m_ioniq_df['index'].isnull()).cumsum()"
   ]
  },
  {
   "cell_type": "code",
   "execution_count": 148,
   "id": "7486d5ef-c3d8-4816-a498-fe830db6096d",
   "metadata": {},
   "outputs": [],
   "source": [
    "m_ioniq_df['h1'] = None\n",
    "m_ioniq_df['h2'] = None\n",
    "m_ioniq_df['h3'] = None"
   ]
  },
  {
   "cell_type": "code",
   "execution_count": 149,
   "id": "286cd4c6-4d18-485e-9372-4834b9917fd3",
   "metadata": {},
   "outputs": [],
   "source": [
    "m_ioniq_df.loc[m_ioniq_df['index']=='h1', 'h1'] = m_ioniq_df.loc[m_ioniq_df['index']=='h1', 'merge_contents']\n",
    "m_ioniq_df.loc[m_ioniq_df['index']=='h2', 'h2'] = m_ioniq_df.loc[m_ioniq_df['index']=='h2', 'merge_contents']\n",
    "m_ioniq_df.loc[m_ioniq_df['index']=='h3', 'h3'] = m_ioniq_df.loc[m_ioniq_df['index']=='h3', 'merge_contents']"
   ]
  },
  {
   "cell_type": "markdown",
   "id": "31b8262b-5371-4d08-89f1-a36cc6227510",
   "metadata": {},
   "source": [
    "- h1이 있는데 h2가 없으면 h2는 empty: h1 바로 밑에 text가 있는 경우\n",
    "- h2가 있는데 h3가 없으면 h3는 empty: h2 바로 밑에 text가 있는 경우"
   ]
  },
  {
   "cell_type": "code",
   "execution_count": 150,
   "id": "21093bef-1ee9-4077-b317-e9269a841e10",
   "metadata": {},
   "outputs": [],
   "source": [
    "m_ioniq_df.loc[(~m_ioniq_df['h1'].isna()) & (m_ioniq_df['h2'].isna()), 'h2'] = ''\n",
    "m_ioniq_df.loc[(~m_ioniq_df['h2'].isna()) & (m_ioniq_df['h3'].isna()), 'h3'] = ''"
   ]
  },
  {
   "cell_type": "code",
   "execution_count": 151,
   "id": "e24843e6-b601-415b-8944-eaeac0aa83be",
   "metadata": {},
   "outputs": [],
   "source": [
    "m_ioniq_df[['h1', 'h2', 'h3']] = m_ioniq_df[['h1', 'h2', 'h3']].fillna(method='ffill')"
   ]
  },
  {
   "cell_type": "code",
   "execution_count": 152,
   "id": "a60ceabc-e426-49f7-afd6-2a47346d2d21",
   "metadata": {},
   "outputs": [],
   "source": [
    "m_ioniq_df.to_csv('./parse_result/block_ioniq5_result.csv', index=False, encoding='cp949')\n",
    "m_ioniq_df.to_parquet('./parse_result/block_ioniq5_result.parquet', index=False)"
   ]
  },
  {
   "cell_type": "markdown",
   "id": "19714529-aaa6-4889-bf36-141ab2f67c5b",
   "metadata": {},
   "source": [
    "# Doc 병합(H3 레벨)"
   ]
  },
  {
   "cell_type": "code",
   "execution_count": 10,
   "id": "470e7dce-efe1-415c-a3c9-b000abe8c1ee",
   "metadata": {},
   "outputs": [],
   "source": [
    "m_ioniq_df = pd.read_parquet('./parse_result/block_ioniq5_result.parquet')"
   ]
  },
  {
   "cell_type": "markdown",
   "id": "bf35f592-f629-443c-9c43-81154a7adc3b",
   "metadata": {},
   "source": [
    "## 최소 h3 단위로 text 병합"
   ]
  },
  {
   "cell_type": "code",
   "execution_count": 11,
   "id": "8158df7a-1d4b-49df-a809-fd37fb092eaf",
   "metadata": {},
   "outputs": [],
   "source": [
    "doc_merge_contents = m_ioniq_df[m_ioniq_df['ctype']=='text'].groupby('doc_group')['merge_contents'].apply(lambda x: '\\n'.join(x)).reset_index()\n",
    "doc_merge_contents.columns = ['doc_group', 'doc_contents']"
   ]
  },
  {
   "cell_type": "code",
   "execution_count": 12,
   "id": "e6bcb54a-5f46-41c7-b191-1d1c6962a10d",
   "metadata": {},
   "outputs": [],
   "source": [
    "doc_ioniq_df = m_ioniq_df[m_ioniq_df['ctype']=='text'].merge(doc_merge_contents, on='doc_group', how='left').drop_duplicates('doc_group', keep='first')"
   ]
  },
  {
   "cell_type": "markdown",
   "id": "f0233122-690e-4c1d-89df-42bb10a97f25",
   "metadata": {},
   "source": [
    "## Doc 내 이미지 URL 마스킹"
   ]
  },
  {
   "cell_type": "code",
   "execution_count": 13,
   "id": "605679b8-e4e5-421e-9a62-2b5dd2bc41f9",
   "metadata": {},
   "outputs": [],
   "source": [
    "doc_images = m_ioniq_df[m_ioniq_df['ctype']=='image']\n",
    "doc_images = doc_images.groupby('doc_group')['img_urls'].apply(lambda x: list(x)).reset_index()"
   ]
  },
  {
   "cell_type": "markdown",
   "id": "241aec40-de98-4c44-9514-07b75bdd6ac6",
   "metadata": {},
   "source": [
    "## Doc 내 테이블 URL 마스킹"
   ]
  },
  {
   "cell_type": "code",
   "execution_count": 14,
   "id": "07766f81-7660-4f49-a07d-f94425284b56",
   "metadata": {},
   "outputs": [],
   "source": [
    "doc_tables = m_ioniq_df[m_ioniq_df['ctype']=='table']\n",
    "doc_tables = doc_tables[doc_tables['merge_contents'] != ''].copy()\n",
    "\n",
    "doc_table_images = doc_tables.groupby('doc_group')['img_urls'].apply(lambda x: list(x)).reset_index()\n",
    "doc_tables['merge_contents'] = '표: ' + doc_tables['block_num'] + '\\n' + doc_tables['merge_contents'] + '\\n' \n",
    "doc_tables = doc_tables[['doc_group', 'merge_contents']].merge(doc_table_images, on='doc_group', how='outer')\n",
    "doc_tables.columns = ['doc_group', 'table_contents', 'table_img_urls']"
   ]
  },
  {
   "cell_type": "markdown",
   "id": "bb04101a-90d3-4e4b-8718-c3781d26ca76",
   "metadata": {},
   "source": [
    "## Doc 단위 병합"
   ]
  },
  {
   "cell_type": "code",
   "execution_count": 15,
   "id": "faa4e017-b2b8-4e27-97ca-8b63dc27fe66",
   "metadata": {},
   "outputs": [],
   "source": [
    "final_doc_df = doc_ioniq_df.drop(['img_urls', 'merge_contents'], axis=1).merge(doc_images, on='doc_group', how='left')\\\n",
    "    .merge(doc_tables, on='doc_group', how='left')\n",
    "final_doc_df['doc_table_contents'] = ''"
   ]
  },
  {
   "cell_type": "code",
   "execution_count": 16,
   "id": "e169620e-b7c0-48f9-bf4b-52160edf0403",
   "metadata": {},
   "outputs": [],
   "source": [
    "final_doc_df.loc[~final_doc_df['table_contents'].isna(), 'doc_table_contents'] = \\\n",
    "    final_doc_df.loc[~final_doc_df['table_contents'].isna(), 'doc_contents'] + '\\n####### 표 #######\\n' + \\\n",
    "    final_doc_df.loc[~final_doc_df['table_contents'].isna(), 'table_contents'] + '####### 표 종료 #######\\n'\n",
    "\n",
    "final_doc_df.loc[final_doc_df['table_contents'].isna(), 'doc_table_contents'] = \\\n",
    "    final_doc_df.loc[final_doc_df['table_contents'].isna(), 'doc_contents']\n",
    "\n",
    "# final_doc_df['doc_table_contents'] = final_doc_df['doc_contents'] + '####### 표 #######\\n' + final_doc_df['table_contents']"
   ]
  },
  {
   "cell_type": "code",
   "execution_count": 17,
   "id": "6f0a7f3d-cd45-4a1a-986a-3f4b29fd301c",
   "metadata": {},
   "outputs": [],
   "source": [
    "final_doc_df = doc_ioniq_df.drop(['img_urls', 'merge_contents'], axis=1).merge(doc_images, on='doc_group', how='left')\\\n",
    "    .merge(doc_tables, on='doc_group', how='left')\n",
    "final_doc_df['doc_table_contents'] = ''"
   ]
  },
  {
   "cell_type": "code",
   "execution_count": 18,
   "id": "841ecc31",
   "metadata": {},
   "outputs": [],
   "source": [
    "final_doc_df.loc[~final_doc_df['table_contents'].isna(), 'doc_table_contents'] = \\\n",
    "    final_doc_df.loc[~final_doc_df['table_contents'].isna(), 'doc_contents'] + '\\n####### 표 #######\\n' + \\\n",
    "    final_doc_df.loc[~final_doc_df['table_contents'].isna(), 'table_contents'] + '####### 표 종료 #######\\n'\n",
    "\n",
    "final_doc_df.loc[final_doc_df['table_contents'].isna(), 'doc_table_contents'] = \\\n",
    "    final_doc_df.loc[final_doc_df['table_contents'].isna(), 'doc_contents']\n",
    "\n",
    "# final_doc_df['doc_table_contents'] = final_doc_df['doc_contents'] + '####### 표 #######\\n' + final_doc_df['table_contents']"
   ]
  },
  {
   "cell_type": "code",
   "execution_count": 19,
   "id": "bba2e444-4f5b-426d-82d5-1b6956e3d6fa",
   "metadata": {},
   "outputs": [],
   "source": [
    "final_doc_df = final_doc_df.drop_duplicates('doc_group')\n",
    "final_doc_df = final_doc_df.loc[:len(final_doc_df)-2].reset_index(drop=True)"
   ]
  },
  {
   "cell_type": "markdown",
   "id": "35d3b547-bcb7-4087-bfcc-f4c332294467",
   "metadata": {},
   "source": [
    "## Doc 단위 저장"
   ]
  },
  {
   "cell_type": "code",
   "execution_count": 20,
   "id": "4fa90da0",
   "metadata": {},
   "outputs": [
    {
     "data": {
      "text/html": [
       "<div>\n",
       "<style scoped>\n",
       "    .dataframe tbody tr th:only-of-type {\n",
       "        vertical-align: middle;\n",
       "    }\n",
       "\n",
       "    .dataframe tbody tr th {\n",
       "        vertical-align: top;\n",
       "    }\n",
       "\n",
       "    .dataframe thead th {\n",
       "        text-align: right;\n",
       "    }\n",
       "</style>\n",
       "<table border=\"1\" class=\"dataframe\">\n",
       "  <thead>\n",
       "    <tr style=\"text-align: right;\">\n",
       "      <th></th>\n",
       "      <th>span</th>\n",
       "      <th>ctype</th>\n",
       "      <th>index</th>\n",
       "      <th>block_num</th>\n",
       "      <th>doc_group</th>\n",
       "      <th>h1</th>\n",
       "      <th>h2</th>\n",
       "      <th>h3</th>\n",
       "      <th>doc_contents</th>\n",
       "      <th>img_urls</th>\n",
       "      <th>table_contents</th>\n",
       "      <th>table_img_urls</th>\n",
       "      <th>doc_table_contents</th>\n",
       "    </tr>\n",
       "  </thead>\n",
       "  <tbody>\n",
       "    <tr>\n",
       "      <th>0</th>\n",
       "      <td>\"('HyundaiSansHeadKR', 13416, 28)\"</td>\n",
       "      <td>text</td>\n",
       "      <td>h1</td>\n",
       "      <td>7_0</td>\n",
       "      <td>1</td>\n",
       "      <td>전기차 시작하기</td>\n",
       "      <td></td>\n",
       "      <td></td>\n",
       "      <td>전기차 시작하기</td>\n",
       "      <td>NaN</td>\n",
       "      <td>NaN</td>\n",
       "      <td>NaN</td>\n",
       "      <td>전기차 시작하기</td>\n",
       "    </tr>\n",
       "    <tr>\n",
       "      <th>1</th>\n",
       "      <td>\"('HyundaiSansTextKRMedium', 13416, 14)\"</td>\n",
       "      <td>text</td>\n",
       "      <td>h2</td>\n",
       "      <td>8_0</td>\n",
       "      <td>2</td>\n",
       "      <td>전기차 시작하기</td>\n",
       "      <td>전기 자동차 개요</td>\n",
       "      <td></td>\n",
       "      <td>전기 자동차 개요\\n전기 자동차는 배터리와 전기 모터로 구동되는자동차입니다. 일반 ...</td>\n",
       "      <td>NaN</td>\n",
       "      <td>NaN</td>\n",
       "      <td>NaN</td>\n",
       "      <td>전기 자동차 개요\\n전기 자동차는 배터리와 전기 모터로 구동되는자동차입니다. 일반 ...</td>\n",
       "    </tr>\n",
       "    <tr>\n",
       "      <th>2</th>\n",
       "      <td>\"('HyundaiSansTextKRMedium', 13416, 12)\"</td>\n",
       "      <td>text</td>\n",
       "      <td>h3</td>\n",
       "      <td>8_2</td>\n",
       "      <td>3</td>\n",
       "      <td>전기차 시작하기</td>\n",
       "      <td>전기 자동차 개요</td>\n",
       "      <td>전기 자동차 특징</td>\n",
       "      <td>전기 자동차 특징\\n1. 구동용(고전압) 배터리에 충전된 전기를 이용하여 주행하기 ...</td>\n",
       "      <td>NaN</td>\n",
       "      <td>NaN</td>\n",
       "      <td>NaN</td>\n",
       "      <td>전기 자동차 특징\\n1. 구동용(고전압) 배터리에 충전된 전기를 이용하여 주행하기 ...</td>\n",
       "    </tr>\n",
       "    <tr>\n",
       "      <th>3</th>\n",
       "      <td>\"('HyundaiSansTextKRMedium', 13416, 12)\"</td>\n",
       "      <td>text</td>\n",
       "      <td>h3</td>\n",
       "      <td>8_7</td>\n",
       "      <td>4</td>\n",
       "      <td>전기차 시작하기</td>\n",
       "      <td>전기 자동차 개요</td>\n",
       "      <td>배터리에 대한 정보</td>\n",
       "      <td>배터리에 대한 정보\\n 본 차량의 배터리는 모터 및 에어컨을 작동시키는 구동용(고전...</td>\n",
       "      <td>NaN</td>\n",
       "      <td>NaN</td>\n",
       "      <td>NaN</td>\n",
       "      <td>배터리에 대한 정보\\n 본 차량의 배터리는 모터 및 에어컨을 작동시키는 구동용(고전...</td>\n",
       "    </tr>\n",
       "    <tr>\n",
       "      <th>4</th>\n",
       "      <td>\"('HyundaiSansTextKRMedium', 13416, 12)\"</td>\n",
       "      <td>text</td>\n",
       "      <td>h3</td>\n",
       "      <td>8_9</td>\n",
       "      <td>5</td>\n",
       "      <td>전기차 시작하기</td>\n",
       "      <td>전기 자동차 개요</td>\n",
       "      <td>전기 자동차의 주요 장치</td>\n",
       "      <td>전기 자동차의 주요 장치\\n 구동용(고전압) 배터리 충전장치(OBC): 전력망의 A...</td>\n",
       "      <td>NaN</td>\n",
       "      <td>NaN</td>\n",
       "      <td>NaN</td>\n",
       "      <td>전기 자동차의 주요 장치\\n 구동용(고전압) 배터리 충전장치(OBC): 전력망의 A...</td>\n",
       "    </tr>\n",
       "  </tbody>\n",
       "</table>\n",
       "</div>"
      ],
      "text/plain": [
       "                                       span ctype index block_num  doc_group  \\\n",
       "0        \"('HyundaiSansHeadKR', 13416, 28)\"  text    h1       7_0          1   \n",
       "1  \"('HyundaiSansTextKRMedium', 13416, 14)\"  text    h2       8_0          2   \n",
       "2  \"('HyundaiSansTextKRMedium', 13416, 12)\"  text    h3       8_2          3   \n",
       "3  \"('HyundaiSansTextKRMedium', 13416, 12)\"  text    h3       8_7          4   \n",
       "4  \"('HyundaiSansTextKRMedium', 13416, 12)\"  text    h3       8_9          5   \n",
       "\n",
       "         h1         h2             h3  \\\n",
       "0  전기차 시작하기                             \n",
       "1  전기차 시작하기  전기 자동차 개요                  \n",
       "2  전기차 시작하기  전기 자동차 개요      전기 자동차 특징   \n",
       "3  전기차 시작하기  전기 자동차 개요     배터리에 대한 정보   \n",
       "4  전기차 시작하기  전기 자동차 개요  전기 자동차의 주요 장치   \n",
       "\n",
       "                                        doc_contents img_urls table_contents  \\\n",
       "0                                           전기차 시작하기      NaN            NaN   \n",
       "1  전기 자동차 개요\\n전기 자동차는 배터리와 전기 모터로 구동되는자동차입니다. 일반 ...      NaN            NaN   \n",
       "2  전기 자동차 특징\\n1. 구동용(고전압) 배터리에 충전된 전기를 이용하여 주행하기 ...      NaN            NaN   \n",
       "3  배터리에 대한 정보\\n 본 차량의 배터리는 모터 및 에어컨을 작동시키는 구동용(고전...      NaN            NaN   \n",
       "4  전기 자동차의 주요 장치\\n 구동용(고전압) 배터리 충전장치(OBC): 전력망의 A...      NaN            NaN   \n",
       "\n",
       "  table_img_urls                                 doc_table_contents  \n",
       "0            NaN                                           전기차 시작하기  \n",
       "1            NaN  전기 자동차 개요\\n전기 자동차는 배터리와 전기 모터로 구동되는자동차입니다. 일반 ...  \n",
       "2            NaN  전기 자동차 특징\\n1. 구동용(고전압) 배터리에 충전된 전기를 이용하여 주행하기 ...  \n",
       "3            NaN  배터리에 대한 정보\\n 본 차량의 배터리는 모터 및 에어컨을 작동시키는 구동용(고전...  \n",
       "4            NaN  전기 자동차의 주요 장치\\n 구동용(고전압) 배터리 충전장치(OBC): 전력망의 A...  "
      ]
     },
     "execution_count": 20,
     "metadata": {},
     "output_type": "execute_result"
    }
   ],
   "source": [
    "final_doc_df.head()"
   ]
  },
  {
   "cell_type": "code",
   "execution_count": 21,
   "id": "d3ba9e25-dbce-4696-9b40-c91e2f680d32",
   "metadata": {},
   "outputs": [],
   "source": [
    "final_doc_df.to_csv('./parse_result/doc_ioniq5_result.csv', encoding='cp949')\n",
    "final_doc_df.to_parquet('./parse_result/doc_ioniq5_result.parquet')"
   ]
  },
  {
   "cell_type": "code",
   "execution_count": null,
   "id": "92a9ae9a",
   "metadata": {},
   "outputs": [],
   "source": []
  }
 ],
 "metadata": {
  "hide_input": false,
  "kernelspec": {
   "display_name": "myMechanic",
   "language": "python",
   "name": "mymechanic"
  },
  "language_info": {
   "codemirror_mode": {
    "name": "ipython",
    "version": 3
   },
   "file_extension": ".py",
   "mimetype": "text/x-python",
   "name": "python",
   "nbconvert_exporter": "python",
   "pygments_lexer": "ipython3",
   "version": "3.8.13"
  },
  "latex_envs": {
   "LaTeX_envs_menu_present": true,
   "autoclose": false,
   "autocomplete": true,
   "bibliofile": "biblio.bib",
   "cite_by": "apalike",
   "current_citInitial": 1,
   "eqLabelWithNumbers": true,
   "eqNumInitial": 1,
   "hotkeys": {
    "equation": "Ctrl-E",
    "itemize": "Ctrl-I"
   },
   "labels_anchors": false,
   "latex_user_defs": false,
   "report_style_numbering": false,
   "user_envs_cfg": false
  },
  "toc": {
   "base_numbering": 1,
   "nav_menu": {},
   "number_sections": true,
   "sideBar": true,
   "skip_h1_title": false,
   "title_cell": "Table of Contents",
   "title_sidebar": "Contents",
   "toc_cell": false,
   "toc_position": {},
   "toc_section_display": true,
   "toc_window_display": false
  }
 },
 "nbformat": 4,
 "nbformat_minor": 5
}
